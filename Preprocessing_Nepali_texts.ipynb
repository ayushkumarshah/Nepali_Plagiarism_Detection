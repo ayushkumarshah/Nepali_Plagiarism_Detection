{
 "cells": [
  {
   "cell_type": "markdown",
   "metadata": {},
   "source": [
    "# Preprocessing Nepali texts\n"
   ]
  },
  {
   "cell_type": "markdown",
   "metadata": {},
   "source": [
    "## Sentence-level Tokenization"
   ]
  },
  {
   "cell_type": "code",
   "execution_count": 2,
   "metadata": {
    "collapsed": true
   },
   "outputs": [],
   "source": [
    "# -*- coding: utf-8 -*-\n",
    "\n",
    "#split at ?, । or !\n",
    "import re\n",
    "def tokenize_sentence(text):\n",
    "    return re.split('(?<=[।?!]) +', text)"
   ]
  },
  {
   "cell_type": "code",
   "execution_count": 3,
   "metadata": {},
   "outputs": [
    {
     "data": {
      "text/plain": [
       "'परिश्रम नगरी हुन्छ? परिश्रम सफलताको एक मात्र बाटो हो। जो परिश्रम गर्छ, उही सफल हुन्छ। अब त परिश्रम गर्छौ नि? नगरी कहाँ हुन्छ त!'"
      ]
     },
     "execution_count": 3,
     "metadata": {},
     "output_type": "execute_result"
    }
   ],
   "source": [
    "eg1=\"परिश्रम नगरी हुन्छ? परिश्रम सफलताको एक मात्र बाटो हो। जो परिश्रम गर्छ, उही सफल हुन्छ। अब त परिश्रम गर्छौ नि? नगरी कहाँ हुन्छ त!\"\n",
    "eg1\n"
   ]
  },
  {
   "cell_type": "code",
   "execution_count": 4,
   "metadata": {},
   "outputs": [
    {
     "data": {
      "text/plain": [
       "['परिश्रम नगरी हुन्छ?',\n",
       " 'परिश्रम सफलताको एक मात्र बाटो हो।',\n",
       " 'जो परिश्रम गर्छ, उही सफल हुन्छ।',\n",
       " 'अब त परिश्रम गर्छौ नि?',\n",
       " 'नगरी कहाँ हुन्छ त!']"
      ]
     },
     "execution_count": 4,
     "metadata": {},
     "output_type": "execute_result"
    }
   ],
   "source": [
    "eg1=tokenize_sentence(eg1)\n",
    "eg1"
   ]
  },
  {
   "cell_type": "code",
   "execution_count": 5,
   "metadata": {},
   "outputs": [
    {
     "data": {
      "text/plain": [
       "list"
      ]
     },
     "execution_count": 5,
     "metadata": {},
     "output_type": "execute_result"
    }
   ],
   "source": [
    "type(eg1)"
   ]
  },
  {
   "cell_type": "code",
   "execution_count": 6,
   "metadata": {},
   "outputs": [
    {
     "data": {
      "text/plain": [
       "'What are you doing next weekend? I have a party. Do you wanna go?'"
      ]
     },
     "execution_count": 6,
     "metadata": {},
     "output_type": "execute_result"
    }
   ],
   "source": [
    "eg2=\"What are you doing next weekend? I have a party. Do you wanna go?\"\n",
    "eg2"
   ]
  },
  {
   "cell_type": "code",
   "execution_count": 7,
   "metadata": {},
   "outputs": [
    {
     "data": {
      "text/plain": [
       "['What are you doing next weekend?', 'I have a party. Do you wanna go?']"
      ]
     },
     "execution_count": 7,
     "metadata": {},
     "output_type": "execute_result"
    }
   ],
   "source": [
    "eg2=tokenize_sentence(eg2)\n",
    "eg2"
   ]
  },
  {
   "cell_type": "markdown",
   "metadata": {},
   "source": [
    "## Replacing Punctuations with White Space\n"
   ]
  },
  {
   "cell_type": "code",
   "execution_count": null,
   "metadata": {
    "collapsed": true
   },
   "outputs": [],
   "source": []
  },
  {
   "cell_type": "code",
   "execution_count": 25,
   "metadata": {},
   "outputs": [],
   "source": [
    "eg1=\"परिश्रम नगरी हुन्छ? परिश्रम सफलताको एक-मात्र बाटो हो। जो परिश्रम गर्छ, उही सफल हुन्छ। अब त परिश्रम गर्छौ नि? नगरी कहाँ हुन्छ त!\"\n",
    "eg2=\"निर्माण सुरु भएको ४१ वर्ष पुग्दा बुद्धजन्मस्थलको एकीकृत विकास गर्न बनाइएको  लुम्बिनी गुरुयोजनाको काम ८२ प्रतिशत सकिएको छ ।\"\n",
    "punctuations=[\",\",\")\",\"(\",\"{\",\"}\",\"[\",\"]\",\"!\",\"‘\",\"’\",\"“\",\"”\",\":-\",\"?\",\"।\",\"/\",\"—\",\" ।\"]\n",
    "for a in range (len(punctuations)):\n",
    "    eg1=eg1.replace(punctuations[a], \" \")\n",
    "    eg2=eg2.replace(punctuations[a], \" \")\n",
    "\n"
   ]
  },
  {
   "cell_type": "code",
   "execution_count": 26,
   "metadata": {},
   "outputs": [
    {
     "data": {
      "text/plain": [
       "'निर्माण सुरु भएको ४१ वर्ष पुग्दा बुद्धजन्मस्थलको एकीकृत विकास गर्न बनाइएको  लुम्बिनी गुरुयोजनाको काम ८२ प्रतिशत सकिएको छ ।'"
      ]
     },
     "execution_count": 26,
     "metadata": {},
     "output_type": "execute_result"
    }
   ],
   "source": [
    "eg2"
   ]
  },
  {
   "cell_type": "code",
   "execution_count": 27,
   "metadata": {},
   "outputs": [
    {
     "data": {
      "text/plain": [
       "'परिश्रम नगरी हुन्छ  परिश्रम सफलताको एक-मात्र बाटो हो  जो परिश्रम गर्छ  उही सफल हुन्छ  अब त परिश्रम गर्छौ नि  नगरी कहाँ हुन्छ त '"
      ]
     },
     "execution_count": 27,
     "metadata": {},
     "output_type": "execute_result"
    }
   ],
   "source": [
    "eg1"
   ]
  },
  {
   "cell_type": "code",
   "execution_count": 28,
   "metadata": {},
   "outputs": [],
   "source": [
    "words=eg1.split()\n",
    "words1=eg2.split()"
   ]
  },
  {
   "cell_type": "code",
   "execution_count": 29,
   "metadata": {},
   "outputs": [
    {
     "data": {
      "text/plain": [
       "['परिश्रम',\n",
       " 'नगरी',\n",
       " 'हुन्छ',\n",
       " 'परिश्रम',\n",
       " 'सफलताको',\n",
       " 'एक-मात्र',\n",
       " 'बाटो',\n",
       " 'हो',\n",
       " 'जो',\n",
       " 'परिश्रम',\n",
       " 'गर्छ',\n",
       " 'उही',\n",
       " 'सफल',\n",
       " 'हुन्छ',\n",
       " 'अब',\n",
       " 'त',\n",
       " 'परिश्रम',\n",
       " 'गर्छौ',\n",
       " 'नि',\n",
       " 'नगरी',\n",
       " 'कहाँ',\n",
       " 'हुन्छ',\n",
       " 'त']"
      ]
     },
     "execution_count": 29,
     "metadata": {},
     "output_type": "execute_result"
    }
   ],
   "source": [
    "words"
   ]
  },
  {
   "cell_type": "code",
   "execution_count": 30,
   "metadata": {
    "collapsed": true
   },
   "outputs": [],
   "source": [
    "for word in words:\n",
    "    if word == '-':\n",
    "        words.remove(\"-\")\n",
    "\n",
    "for word in words1:\n",
    "    if word == '-':\n",
    "        words.remove(\"-\")\n",
    "    "
   ]
  },
  {
   "cell_type": "code",
   "execution_count": 31,
   "metadata": {},
   "outputs": [
    {
     "name": "stdout",
     "output_type": "stream",
     "text": [
      "['परिश्रम', 'नगरी', 'हुन्छ', 'परिश्रम', 'सफलताको', 'एक-मात्र', 'बाटो', 'हो', 'जो', 'परिश्रम', 'गर्छ', 'उही', 'सफल', 'हुन्छ', 'अब', 'त', 'परिश्रम', 'गर्छौ', 'नि', 'नगरी', 'कहाँ', 'हुन्छ', 'त']\n"
     ]
    }
   ],
   "source": [
    "print(words)"
   ]
  },
  {
   "cell_type": "code",
   "execution_count": 16,
   "metadata": {
    "collapsed": true
   },
   "outputs": [],
   "source": [
    "with open('datasets/stopwords.txt',encoding=\"utf8\") as f:\n",
    "    lines = f.readlines()\n",
    "lines = [x.strip() for x in lines] \n",
    " "
   ]
  },
  {
   "cell_type": "code",
   "execution_count": 17,
   "metadata": {},
   "outputs": [
    {
     "data": {
      "text/plain": [
       "['अक्सर',\n",
       " 'अगाडि',\n",
       " 'अझै',\n",
       " 'अधिक',\n",
       " 'अनुसार',\n",
       " 'अन्तर्गत',\n",
       " 'अन्य',\n",
       " 'अन्यत्र',\n",
       " 'अन्यथा',\n",
       " 'अब',\n",
       " 'अरु',\n",
       " 'अरुलाई',\n",
       " 'अरू',\n",
       " 'अरूलाई',\n",
       " 'अर्को',\n",
       " 'अर्थात',\n",
       " 'अर्थात्',\n",
       " 'अलग',\n",
       " 'आए',\n",
       " 'आजको',\n",
       " 'आठ',\n",
       " 'आत्म',\n",
       " 'आदि',\n",
       " 'आफू',\n",
       " 'आफूलाई',\n",
       " 'आफै',\n",
       " 'आफैलाई',\n",
       " 'आफैले',\n",
       " 'आफ्नै',\n",
       " 'आफ्नो',\n",
       " 'आयो',\n",
       " 'उदाहरण',\n",
       " 'उन',\n",
       " 'उनको',\n",
       " 'उनले',\n",
       " 'उनि',\n",
       " 'उनी',\n",
       " 'उनीहरु',\n",
       " 'उप',\n",
       " 'उसलाई',\n",
       " 'उस्तै',\n",
       " 'उहाँ',\n",
       " 'उहालाई',\n",
       " 'उहाँलाई',\n",
       " 'ऊ',\n",
       " 'एउटै',\n",
       " 'एक',\n",
       " 'एकदम',\n",
       " 'ओठ',\n",
       " 'औं',\n",
       " 'कतै',\n",
       " 'कम से कम',\n",
       " 'कसरी',\n",
       " 'कसै',\n",
       " 'कसैले',\n",
       " 'कस्तो',\n",
       " 'कहाँ',\n",
       " 'कहाँबाट',\n",
       " 'कहिले',\n",
       " 'कहिलेकाहीं',\n",
       " 'कहिल्यै',\n",
       " 'कहीं',\n",
       " 'का',\n",
       " 'कि',\n",
       " 'किन',\n",
       " 'किनभने',\n",
       " 'कुनै',\n",
       " 'कुरा',\n",
       " 'कृपया',\n",
       " 'के',\n",
       " 'केवल',\n",
       " 'केहि',\n",
       " 'केही',\n",
       " 'को',\n",
       " 'कोही',\n",
       " 'क्रमशः',\n",
       " 'गए',\n",
       " 'गयौ',\n",
       " 'गर',\n",
       " 'गरि',\n",
       " 'गरी',\n",
       " 'गरे',\n",
       " 'गरेका',\n",
       " 'गरेको',\n",
       " 'गरेर',\n",
       " 'गरौं',\n",
       " 'गर्छ',\n",
       " 'गर्छु',\n",
       " 'गर्दछ',\n",
       " 'गर्दै',\n",
       " 'गर्न',\n",
       " 'गर्नु',\n",
       " 'गर्नुपर्छ',\n",
       " 'गर्ने',\n",
       " 'गर्नेछन्',\n",
       " 'गर्नेछौ',\n",
       " 'गर्यौं',\n",
       " 'गैर',\n",
       " 'चाँडै',\n",
       " 'चार',\n",
       " 'चाले',\n",
       " 'चाहनुहुन्छ',\n",
       " 'चाहन्छु',\n",
       " 'चाहन्छौ',\n",
       " 'चाहन्छौं',\n",
       " 'चाहन्थे',\n",
       " 'चाहिए',\n",
       " 'छ',\n",
       " 'छन्',\n",
       " 'छु',\n",
       " 'छू',\n",
       " 'छैन',\n",
       " 'छौँ',\n",
       " 'छौं',\n",
       " 'जताततै',\n",
       " 'जब',\n",
       " 'जबकि',\n",
       " 'जसको',\n",
       " 'जसबाट',\n",
       " 'जसमा',\n",
       " 'जसलाई',\n",
       " 'जसले',\n",
       " 'जस्तै',\n",
       " 'जस्तो',\n",
       " 'जस्तोसुकै',\n",
       " 'जहाँ',\n",
       " 'जान',\n",
       " 'जाहिर',\n",
       " 'जुन',\n",
       " 'जे',\n",
       " 'जो',\n",
       " 'ठीक',\n",
       " 'त',\n",
       " 'तत्काल',\n",
       " 'तथा',\n",
       " 'तदनुसार',\n",
       " 'तपाइँको',\n",
       " 'तपाई',\n",
       " 'तपाईं',\n",
       " 'तपाईको',\n",
       " 'तर',\n",
       " 'तल',\n",
       " 'तापनि',\n",
       " 'तापनी',\n",
       " 'तिनिहरुलाई',\n",
       " 'तिनी',\n",
       " 'तिनीहरुको',\n",
       " 'तिनीहरू',\n",
       " 'तिनीहरूको',\n",
       " 'तिनीहरूलाई',\n",
       " 'तिनीहरूले',\n",
       " 'तिमि',\n",
       " 'तिमी',\n",
       " 'तिमीसँग',\n",
       " 'तिम्रो',\n",
       " 'तिर',\n",
       " 'ती',\n",
       " 'तीन',\n",
       " 'तुरुन्तै',\n",
       " 'तेस्कारण',\n",
       " 'तेस्रो',\n",
       " 'त्यसकारण',\n",
       " 'त्यसपछि',\n",
       " 'त्यसमा',\n",
       " 'त्यसैले',\n",
       " 'त्यहाँ',\n",
       " 'त्यो',\n",
       " 'त्सपछि',\n",
       " 'त्सैले',\n",
       " 'थप',\n",
       " 'थिए',\n",
       " 'थिएन',\n",
       " 'थिएनन्',\n",
       " 'थियो',\n",
       " 'दिए',\n",
       " 'दिनुभएको',\n",
       " 'दिनुहुन्छ',\n",
       " 'दुई',\n",
       " 'दुबै',\n",
       " 'देख',\n",
       " 'देखि',\n",
       " 'देखिन्छ',\n",
       " 'देखियो',\n",
       " 'देखे',\n",
       " 'देखेको',\n",
       " 'देखेर',\n",
       " 'देख्न',\n",
       " 'दोश्रो',\n",
       " 'दोस्रो',\n",
       " 'द्वारा',\n",
       " 'धेरै',\n",
       " 'न',\n",
       " 'नगर्नुहोस्',\n",
       " 'नजिकै',\n",
       " 'नत्र',\n",
       " 'नयाँ',\n",
       " 'नि',\n",
       " 'निम्ति',\n",
       " 'निम्न',\n",
       " 'निम्नानुसार',\n",
       " 'निर्दिष्ट',\n",
       " 'नै',\n",
       " 'नौ',\n",
       " 'पक्का',\n",
       " 'पक्कै',\n",
       " 'पछि',\n",
       " 'पछिल्लो',\n",
       " 'पटक',\n",
       " 'पनि',\n",
       " 'पर्छ',\n",
       " 'पर्थ्यो',\n",
       " 'पर्याप्त',\n",
       " 'पहिले',\n",
       " 'पहिलो',\n",
       " 'पहिल्यै',\n",
       " 'पाँच',\n",
       " 'पाँचौं',\n",
       " 'पूर्व',\n",
       " 'प्रति',\n",
       " 'प्रतेक',\n",
       " 'प्रत्येक',\n",
       " 'प्लस',\n",
       " 'फेरि',\n",
       " 'फेरी',\n",
       " 'बने',\n",
       " 'बन्द',\n",
       " 'बन्न',\n",
       " 'बरु',\n",
       " 'बाट',\n",
       " 'बाटो',\n",
       " 'बारे',\n",
       " 'बारेमा',\n",
       " 'बाहिर',\n",
       " 'बाहेक',\n",
       " 'बिरुद्ध',\n",
       " 'बिशेष',\n",
       " 'बीच',\n",
       " 'बीचमा',\n",
       " 'भए',\n",
       " 'भएको',\n",
       " 'भन',\n",
       " 'भने',\n",
       " 'भने्',\n",
       " 'भन्',\n",
       " 'भन्छन्',\n",
       " 'भन्छु',\n",
       " 'भन्दा',\n",
       " 'भन्नुभयो',\n",
       " 'भन्ने',\n",
       " 'भर',\n",
       " 'भित्र',\n",
       " 'भित्री',\n",
       " 'म',\n",
       " 'मँ',\n",
       " 'मलाई',\n",
       " 'मा',\n",
       " 'मात्र',\n",
       " 'माथि',\n",
       " 'मार्फत',\n",
       " 'मुख्य',\n",
       " 'मेरो',\n",
       " 'मैले',\n",
       " 'यति',\n",
       " 'यथोचित',\n",
       " 'यदि',\n",
       " 'यद्यपि',\n",
       " 'यस',\n",
       " 'यसको',\n",
       " 'यसपछि',\n",
       " 'यसबाहेक',\n",
       " 'यसरी',\n",
       " 'यसैले',\n",
       " 'यसो',\n",
       " 'यस्तो',\n",
       " 'यहाँ',\n",
       " 'यहाँसम्म',\n",
       " 'या',\n",
       " 'यी',\n",
       " 'यो',\n",
       " 'र',\n",
       " 'रही',\n",
       " 'रहेका',\n",
       " 'रहेको',\n",
       " 'राखे',\n",
       " 'राख्छ',\n",
       " 'राम्रो',\n",
       " 'रूप',\n",
       " 'लगभग',\n",
       " 'लाई',\n",
       " 'लागि',\n",
       " 'ले',\n",
       " 'वरिपरि',\n",
       " 'वरीपरी',\n",
       " 'वा',\n",
       " 'वास्तवमा',\n",
       " 'वाहेक',\n",
       " 'विरुद्ध',\n",
       " 'विशेष',\n",
       " 'शायद',\n",
       " 'सकदिन',\n",
       " 'सकिएन',\n",
       " 'सक्छ',\n",
       " 'सक्दैन',\n",
       " 'सँग',\n",
       " 'संग',\n",
       " 'सँगै',\n",
       " 'संगै',\n",
       " 'सट्टा',\n",
       " 'सधै',\n",
       " 'सधैं',\n",
       " 'सबै',\n",
       " 'सबैलाई',\n",
       " 'समय',\n",
       " 'समयमा',\n",
       " 'सम्भव',\n",
       " 'सम्म',\n",
       " 'सही',\n",
       " 'साँच्चै',\n",
       " 'सात',\n",
       " 'साथ',\n",
       " 'साथै',\n",
       " 'सायद',\n",
       " 'सारा',\n",
       " 'सो',\n",
       " 'सोध्न',\n",
       " 'सोही',\n",
       " 'स्पष्ट',\n",
       " 'हरे',\n",
       " 'हरेक',\n",
       " 'हामी',\n",
       " 'हामीलाई',\n",
       " 'हामीसँग',\n",
       " 'हाम्रो',\n",
       " 'हुँ',\n",
       " 'हुँदैन',\n",
       " 'हुन',\n",
       " 'हुनु',\n",
       " 'हुनुहुन्छ',\n",
       " 'हुने',\n",
       " 'हुनेछ',\n",
       " 'हुनेछु',\n",
       " 'हुन्',\n",
       " 'हुन्छ',\n",
       " 'हुन्थे',\n",
       " 'हो',\n",
       " 'होइन',\n",
       " 'होइनन्',\n",
       " 'होला',\n",
       " 'होस्',\n",
       " 'हौं']"
      ]
     },
     "execution_count": 17,
     "metadata": {},
     "output_type": "execute_result"
    }
   ],
   "source": [
    "lines"
   ]
  },
  {
   "cell_type": "code",
   "execution_count": 18,
   "metadata": {
    "collapsed": true
   },
   "outputs": [],
   "source": [
    "for word in words:\n",
    "    for line in lines:\n",
    "        if word==line:\n",
    "            words.remove(word)"
   ]
  },
  {
   "cell_type": "code",
   "execution_count": 19,
   "metadata": {},
   "outputs": [],
   "source": [
    "for word in words1:\n",
    "    for line in lines:\n",
    "        if word==line:\n",
    "            words1.remove(word)"
   ]
  },
  {
   "cell_type": "code",
   "execution_count": 20,
   "metadata": {},
   "outputs": [
    {
     "data": {
      "text/plain": [
       "['परिश्रम',\n",
       " 'नगरी',\n",
       " 'परिश्रम',\n",
       " 'सफलताको',\n",
       " 'एक-मात्र',\n",
       " 'हो',\n",
       " 'परिश्रम',\n",
       " 'उही',\n",
       " 'सफल',\n",
       " 'अब',\n",
       " 'परिश्रम',\n",
       " 'गर्छौ',\n",
       " 'नगरी',\n",
       " 'हुन्छ']"
      ]
     },
     "execution_count": 20,
     "metadata": {},
     "output_type": "execute_result"
    }
   ],
   "source": [
    "words"
   ]
  },
  {
   "cell_type": "code",
   "execution_count": 21,
   "metadata": {},
   "outputs": [
    {
     "data": {
      "text/plain": [
       "['निर्माण',\n",
       " 'सुरु',\n",
       " '४१',\n",
       " 'वर्ष',\n",
       " 'पुग्दा',\n",
       " 'बुद्धजन्मस्थलको',\n",
       " 'एकीकृत',\n",
       " 'विकास',\n",
       " 'बनाइएको',\n",
       " 'लुम्बिनी',\n",
       " 'गुरुयोजनाको',\n",
       " 'काम',\n",
       " '८२',\n",
       " 'प्रतिशत',\n",
       " 'सकिएको',\n",
       " '।']"
      ]
     },
     "execution_count": 21,
     "metadata": {},
     "output_type": "execute_result"
    }
   ],
   "source": [
    "words1"
   ]
  },
  {
   "cell_type": "code",
   "execution_count": null,
   "metadata": {
    "collapsed": true
   },
   "outputs": [],
   "source": []
  }
 ],
 "metadata": {
  "kernelspec": {
   "display_name": "Python 3",
   "language": "python",
   "name": "python3"
  },
  "language_info": {
   "codemirror_mode": {
    "name": "ipython",
    "version": 3
   },
   "file_extension": ".py",
   "mimetype": "text/x-python",
   "name": "python",
   "nbconvert_exporter": "python",
   "pygments_lexer": "ipython3",
   "version": "3.6.8"
  }
 },
 "nbformat": 4,
 "nbformat_minor": 2
}
