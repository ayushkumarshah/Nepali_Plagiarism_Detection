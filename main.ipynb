{
 "cells": [
  {
   "cell_type": "code",
   "execution_count": 2,
   "metadata": {},
   "outputs": [
    {
     "name": "stdout",
     "output_type": "stream",
     "text": [
      "between student1.txt and student2.txt (Decimal('12.50'), Decimal('30.73'))\n",
      "between student2.txt and student3.txt (Decimal('5.30'), Decimal('9.45'))\n",
      "between student1.txt and student3.txt (Decimal('5.26'), Decimal('6.54'))\n"
     ]
    }
   ],
   "source": [
    "from tkinter import *\n",
    "from tkinter import colorchooser\n",
    "from tkinter import filedialog\n",
    "\n",
    "from tkinter import Canvas\n",
    "import interface\n",
    "tk=Tk()\n",
    "filename=\"filename\"\n",
    "def browse_button():\n",
    "    global filename\n",
    "    filename= filedialog.askdirectory()\n",
    "    canvas.create_text(200, 70, text=filename, font=\"Times 12 bold\")\n",
    "    final_list=interface.get_final_list(filename)\n",
    "    x = 0\n",
    "    canvas.create_text(370, 110, text=\"Jacard                              Cosine\", font=\"Purisa 10\")\n",
    "\n",
    "    for i in final_list:\n",
    "        print(i)\n",
    "        canvas.create_text(280, 150+x, text=i, font=\"Times 10 bold\")\n",
    "        x=x+20\n",
    "    return filename\n",
    "\n",
    "canvas = Canvas(tk, width=600, height=600)\n",
    "\n",
    "canvas.pack()\n",
    "button=Button(canvas,text=\"Choose the folder\",width=30,command=browse_button)\n",
    "\n",
    "\n",
    "canvas.create_window(200,50,window=button, height=25, width=100)\n",
    "\n",
    "# print(filename)\n",
    "mainloop()"
   ]
  },
  {
   "cell_type": "code",
   "execution_count": null,
   "metadata": {},
   "outputs": [],
   "source": []
  }
 ],
 "metadata": {
  "kernelspec": {
   "display_name": "Python 3",
   "language": "python",
   "name": "python3"
  },
  "language_info": {
   "codemirror_mode": {
    "name": "ipython",
    "version": 3
   },
   "file_extension": ".py",
   "mimetype": "text/x-python",
   "name": "python",
   "nbconvert_exporter": "python",
   "pygments_lexer": "ipython3",
   "version": "3.6.0"
  }
 },
 "nbformat": 4,
 "nbformat_minor": 2
}
