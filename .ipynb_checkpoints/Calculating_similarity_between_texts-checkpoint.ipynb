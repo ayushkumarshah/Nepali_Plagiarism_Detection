{
 "cells": [
  {
   "cell_type": "markdown",
   "metadata": {},
   "source": [
    "# A. Preprocessing Nepali texts\n"
   ]
  },
  {
   "cell_type": "code",
   "execution_count": 69,
   "metadata": {},
   "outputs": [
    {
     "data": {
      "text/plain": [
       "'परिश्रम नगरी हुन्छ? परिश्रम सफलताको एक-मात्र बाटो हो। अक्सर जो परिश्रम गर्छ, उही सफल हुन्छ। अब त परिश्रम गर्छौ नि? नगरी कहाँ हुन्छ त!'"
      ]
     },
     "execution_count": 69,
     "metadata": {},
     "output_type": "execute_result"
    }
   ],
   "source": [
    "eg1=\"परिश्रम नगरी हुन्छ? परिश्रम सफलताको एक-मात्र बाटो हो। अक्सर जो परिश्रम गर्छ, उही सफल हुन्छ। अब त परिश्रम गर्छौ नि? नगरी कहाँ हुन्छ त!\"\n",
    "eg1\n"
   ]
  },
  {
   "cell_type": "code",
   "execution_count": 70,
   "metadata": {},
   "outputs": [
    {
     "data": {
      "text/plain": [
       "'निर्माण सुरु भएको ४१ वर्ष पुग्दा बुद्धजन्मस्थलको एकीकृत विकास गर्न बनाइएको  लुम्बिनी गुरुयोजनाको काम ८२ प्रतिशत सकिएको छ ।'"
      ]
     },
     "execution_count": 70,
     "metadata": {},
     "output_type": "execute_result"
    }
   ],
   "source": [
    "eg2=\"निर्माण सुरु भएको ४१ वर्ष पुग्दा बुद्धजन्मस्थलको एकीकृत विकास गर्न बनाइएको  लुम्बिनी गुरुयोजनाको काम ८२ प्रतिशत सकिएको छ ।\"\n",
    "eg2"
   ]
  },
  {
   "cell_type": "markdown",
   "metadata": {},
   "source": [
    "### 1. Sentence Level Tokenization"
   ]
  },
  {
   "cell_type": "code",
   "execution_count": 71,
   "metadata": {},
   "outputs": [],
   "source": [
    "# -*- coding: utf-8 -*-\n",
    "#split at ?, । or !\n",
    "import re\n",
    "def tokenize_sentence(text):\n",
    "    sentences=re.split('(?<=[।?!]) +', text)\n",
    "    print(\"Sentences\")\n",
    "    print(sentences)\n",
    "    return sentences"
   ]
  },
  {
   "cell_type": "code",
   "execution_count": 72,
   "metadata": {},
   "outputs": [
    {
     "name": "stdout",
     "output_type": "stream",
     "text": [
      "Sentences\n",
      "['परिश्रम नगरी हुन्छ?', 'परिश्रम सफलताको एक-मात्र बाटो हो।', 'अक्सर जो परिश्रम गर्छ, उही सफल हुन्छ।', 'अब त परिश्रम गर्छौ नि?', 'नगरी कहाँ हुन्छ त!']\n"
     ]
    }
   ],
   "source": [
    "sentences1=tokenize_sentence(eg1)"
   ]
  },
  {
   "cell_type": "code",
   "execution_count": 73,
   "metadata": {},
   "outputs": [
    {
     "data": {
      "text/plain": [
       "list"
      ]
     },
     "execution_count": 73,
     "metadata": {},
     "output_type": "execute_result"
    }
   ],
   "source": [
    "type(sentences1)"
   ]
  },
  {
   "cell_type": "code",
   "execution_count": 74,
   "metadata": {},
   "outputs": [
    {
     "name": "stdout",
     "output_type": "stream",
     "text": [
      "Sentences\n",
      "['निर्माण सुरु भएको ४१ वर्ष पुग्दा बुद्धजन्मस्थलको एकीकृत विकास गर्न बनाइएको  लुम्बिनी गुरुयोजनाको काम ८२ प्रतिशत सकिएको छ ।']\n"
     ]
    }
   ],
   "source": [
    "sentences2=tokenize_sentence(eg2)\n"
   ]
  },
  {
   "cell_type": "markdown",
   "metadata": {},
   "source": [
    "### 2. Word-level Tokenization"
   ]
  },
  {
   "cell_type": "code",
   "execution_count": 75,
   "metadata": {},
   "outputs": [],
   "source": [
    "def tokenize_word(sentences):\n",
    "    words=[]\n",
    "    for sentence in sentences:\n",
    "        words.extend(re.split(', |,| ', sentence))\n",
    "    print(\"Words after tokenization\")\n",
    "    print (words)\n",
    "    return words "
   ]
  },
  {
   "cell_type": "code",
   "execution_count": 76,
   "metadata": {},
   "outputs": [
    {
     "name": "stdout",
     "output_type": "stream",
     "text": [
      "Words after tokenization\n",
      "['परिश्रम', 'नगरी', 'हुन्छ?', 'परिश्रम', 'सफलताको', 'एक-मात्र', 'बाटो', 'हो।', 'अक्सर', 'जो', 'परिश्रम', 'गर्छ', 'उही', 'सफल', 'हुन्छ।', 'अब', 'त', 'परिश्रम', 'गर्छौ', 'नि?', 'नगरी', 'कहाँ', 'हुन्छ', 'त!']\n"
     ]
    }
   ],
   "source": [
    "words=tokenize_word(sentences1)\n"
   ]
  },
  {
   "cell_type": "code",
   "execution_count": 77,
   "metadata": {},
   "outputs": [
    {
     "data": {
      "text/plain": [
       "24"
      ]
     },
     "execution_count": 77,
     "metadata": {},
     "output_type": "execute_result"
    }
   ],
   "source": [
    "len(words)"
   ]
  },
  {
   "cell_type": "markdown",
   "metadata": {},
   "source": [
    "###  3. Special symbol and number removal\n"
   ]
  },
  {
   "cell_type": "code",
   "execution_count": 78,
   "metadata": {},
   "outputs": [
    {
     "name": "stdout",
     "output_type": "stream",
     "text": [
      "['परिश्रम', 'नगरी', 'हुन्छ?', 'परिश्रम', 'सफलताको', 'एक-मात्र', 'बाटो', 'हो।', 'अक्सर', 'जो', 'परिश्रम', 'गर्छ', 'उही', 'सफल', 'हुन्छ।', 'अब', 'त', 'परिश्रम', 'गर्छौ', 'नि?', 'नगरी', 'कहाँ', 'हुन्छ', 'त!']\n"
     ]
    },
    {
     "data": {
      "text/plain": [
       "['परिश्रम',\n",
       " 'नगरी',\n",
       " 'हुन्छ',\n",
       " 'परिश्रम',\n",
       " 'सफलताको',\n",
       " 'एकमात्र',\n",
       " 'बाटो',\n",
       " 'हो',\n",
       " 'अक्सर',\n",
       " 'जो',\n",
       " 'परिश्रम',\n",
       " 'गर्छ',\n",
       " 'उही',\n",
       " 'सफल',\n",
       " 'हुन्छ',\n",
       " 'अब',\n",
       " 'त',\n",
       " 'परिश्रम',\n",
       " 'गर्छौ',\n",
       " 'नि',\n",
       " 'नगरी',\n",
       " 'कहाँ',\n",
       " 'हुन्छ',\n",
       " 'त']"
      ]
     },
     "execution_count": 78,
     "metadata": {},
     "output_type": "execute_result"
    }
   ],
   "source": [
    "punctuations=r',|\\)|\\(|\\{|\\}|\\[|\\]|\\?|\\!|।|\\‘|\\’|\\“|\\”|\\:-|/|—|-'\n",
    "# ,)({}[]!‘’“”:-?।/— ।\n",
    "print(words)\n",
    "\n",
    "numbers = r'[0-9o१२३४५६७८९]'\n",
    "words = [re.sub(numbers, '', i) for i in words] \n",
    "words = [re.sub(punctuations, '', i) for i in words] \n",
    "\n",
    "words\n",
    "\n",
    "    \n"
   ]
  },
  {
   "cell_type": "code",
   "execution_count": 79,
   "metadata": {},
   "outputs": [
    {
     "name": "stdout",
     "output_type": "stream",
     "text": [
      "['परिश्रम', 'नगरी', 'हुन्छ', 'परिश्रम', 'सफलताको', 'एकमात्र', 'बाटो', 'हो', 'अक्सर', 'जो', 'परिश्रम', 'गर्छ', 'उही', 'सफल', 'हुन्छ', 'अब', 'त', 'परिश्रम', 'गर्छौ', 'नि', 'नगरी', 'कहाँ', 'हुन्छ', 'त']\n"
     ]
    }
   ],
   "source": [
    "words = [x for x in words if x]\n",
    "print(words)"
   ]
  },
  {
   "cell_type": "markdown",
   "metadata": {},
   "source": [
    "### Creating a function "
   ]
  },
  {
   "cell_type": "code",
   "execution_count": 80,
   "metadata": {},
   "outputs": [],
   "source": [
    "def clean_text(words):\n",
    "    punctuations=r',|\\)|\\(|\\{|\\}|\\[|\\]|\\?|\\!|।|\\‘|\\’|\\“|\\”|\\:-|/|—|-'\n",
    "    numbers = r'[0-9o१२३४५६७८९]'\n",
    "    words = [re.sub(numbers, '', i) for i in words] \n",
    "    words = [re.sub(punctuations, '', i) for i in words] \n",
    "    #Removing empty strings\n",
    "    words = [x for x in words if x]\n",
    "    print(\"After removing special symbols and numbers\")\n",
    "    print(words)\n",
    "    return words\n",
    "\n",
    "    \n"
   ]
  },
  {
   "cell_type": "markdown",
   "metadata": {},
   "source": [
    "### 4. Stop words removal "
   ]
  },
  {
   "cell_type": "code",
   "execution_count": 81,
   "metadata": {},
   "outputs": [],
   "source": [
    "with open('datasets/stopwords.txt',encoding=\"utf8\") as f:\n",
    "    lines = f.readlines()\n",
    "lines = [x.strip() for x in lines] \n",
    " "
   ]
  },
  {
   "cell_type": "code",
   "execution_count": 82,
   "metadata": {},
   "outputs": [
    {
     "data": {
      "text/plain": [
       "['\\ufeffअक्सर',\n",
       " 'अगाडि',\n",
       " 'अगाडी',\n",
       " 'अघि',\n",
       " 'अझै',\n",
       " 'अठार',\n",
       " 'अथवा',\n",
       " 'अधिक',\n",
       " 'अनि',\n",
       " 'अनुसार',\n",
       " 'अन्तर्गत',\n",
       " 'अन्य',\n",
       " 'अन्यत्र',\n",
       " 'अन्यथा',\n",
       " 'अब',\n",
       " 'अरु',\n",
       " 'अरुलाई',\n",
       " 'अरू',\n",
       " 'अरूलाई',\n",
       " 'अर्को',\n",
       " 'अर्थात',\n",
       " 'अर्थात्',\n",
       " 'अलग',\n",
       " 'अलि',\n",
       " 'अवस्था',\n",
       " 'अहिले',\n",
       " 'आउन',\n",
       " 'आए',\n",
       " 'आएका',\n",
       " 'आएको',\n",
       " 'आज',\n",
       " 'आजको',\n",
       " 'आठ',\n",
       " 'आत्म',\n",
       " 'आदि',\n",
       " 'आदिलाई',\n",
       " 'आफनो',\n",
       " 'आफु',\n",
       " 'आफू',\n",
       " 'आफूलाई',\n",
       " 'आफै',\n",
       " 'आफैँ',\n",
       " 'आफैलाई',\n",
       " 'आफैले',\n",
       " 'आफ्नै',\n",
       " 'आफ्नो',\n",
       " 'आयो',\n",
       " 'उ',\n",
       " 'उक्त',\n",
       " 'उदाहरण',\n",
       " 'उन',\n",
       " 'उनको',\n",
       " 'उनलाई',\n",
       " 'उनले',\n",
       " 'उनि',\n",
       " 'उनी',\n",
       " 'उनीहरु',\n",
       " 'उनीहरुको',\n",
       " 'उन्नाइस',\n",
       " 'उप',\n",
       " 'उसको',\n",
       " 'उसलाई',\n",
       " 'उसले',\n",
       " 'उस्तै',\n",
       " 'उहाँ',\n",
       " 'उहाँलाई',\n",
       " 'उहालाई',\n",
       " 'ऊ',\n",
       " 'एउटा',\n",
       " 'एउटै',\n",
       " 'एक',\n",
       " 'एकदम',\n",
       " 'एघार',\n",
       " 'ओठ',\n",
       " 'औ',\n",
       " 'औं',\n",
       " 'कता',\n",
       " 'कति',\n",
       " 'कतै',\n",
       " 'कम',\n",
       " 'कम से कम',\n",
       " 'कमसेकम',\n",
       " 'कसरि',\n",
       " 'कसरी',\n",
       " 'कसै',\n",
       " 'कसैको',\n",
       " 'कसैलाई',\n",
       " 'कसैले',\n",
       " 'कसैसँग',\n",
       " 'कस्तो',\n",
       " 'कहाँ',\n",
       " 'कहाँबाट',\n",
       " 'कहिले',\n",
       " 'कहिलेकाहीं',\n",
       " 'कहिल्यै',\n",
       " 'कहीं',\n",
       " 'का',\n",
       " 'काम',\n",
       " 'कारण',\n",
       " 'कि',\n",
       " 'किन',\n",
       " 'किनभने',\n",
       " 'कुन',\n",
       " 'कुनै',\n",
       " 'कुनैपनि',\n",
       " 'कुन्नी',\n",
       " 'कुरा',\n",
       " 'कृपया',\n",
       " 'के',\n",
       " 'केवल',\n",
       " 'केहि',\n",
       " 'केही',\n",
       " 'को',\n",
       " 'कोहि',\n",
       " 'कोहिपनि',\n",
       " 'कोही',\n",
       " 'कोहीपनि',\n",
       " 'क्रमशः',\n",
       " 'गए',\n",
       " 'गएको',\n",
       " 'गएर',\n",
       " 'गयौ',\n",
       " 'गर',\n",
       " 'गरि',\n",
       " 'गरिरहे',\n",
       " 'गरी',\n",
       " 'गरे',\n",
       " 'गरेका',\n",
       " 'गरेको',\n",
       " 'गरेर',\n",
       " 'गरौं',\n",
       " 'गर्छ',\n",
       " 'गर्छन्',\n",
       " 'गर्छु',\n",
       " 'गर्दछ',\n",
       " 'गर्दा',\n",
       " 'गर्दै',\n",
       " 'गर्दैन',\n",
       " 'गर्न',\n",
       " 'गर्नु',\n",
       " 'गर्नुपर्छ',\n",
       " 'गर्ने',\n",
       " 'गर्नेछन्',\n",
       " 'गर्नेछैन',\n",
       " 'गर्नेछौ',\n",
       " 'गर्नेहो',\n",
       " 'गर्नेहोईन',\n",
       " 'गर्यौं',\n",
       " 'गैर',\n",
       " 'घर',\n",
       " 'चाँडै',\n",
       " 'चार',\n",
       " 'चाले',\n",
       " 'चाहनुहुन्छ',\n",
       " 'चाहन्छन्',\n",
       " 'चाहन्छु',\n",
       " 'चाहन्छौ',\n",
       " 'चाहन्छौं',\n",
       " 'चाहन्थे',\n",
       " 'चाहिं',\n",
       " 'चाहिंले',\n",
       " 'चाहिए',\n",
       " 'चाहीं',\n",
       " 'चाहे',\n",
       " 'चाहेको',\n",
       " 'चाहेर',\n",
       " 'चोटी',\n",
       " 'चौथो',\n",
       " 'चौध',\n",
       " 'छ',\n",
       " 'छन',\n",
       " 'छन्',\n",
       " 'छिन्',\n",
       " 'छु',\n",
       " 'छू',\n",
       " 'छैन',\n",
       " 'छैनन्',\n",
       " 'छौ',\n",
       " 'छौँ',\n",
       " 'छौं',\n",
       " 'जता',\n",
       " 'जताततै',\n",
       " 'जना',\n",
       " 'जनाको',\n",
       " 'जनालाई',\n",
       " 'जनाले',\n",
       " 'जब',\n",
       " 'जबकि',\n",
       " 'जबकी',\n",
       " 'जस',\n",
       " 'जसको',\n",
       " 'जसबाट',\n",
       " 'जसमा',\n",
       " 'जसरी',\n",
       " 'जसलाई',\n",
       " 'जसले',\n",
       " 'जस्ता',\n",
       " 'जस्तै',\n",
       " 'जस्तो',\n",
       " 'जस्तोसुकै',\n",
       " 'जहाँ',\n",
       " 'जान',\n",
       " 'जाने',\n",
       " 'जाहिर',\n",
       " 'जुन',\n",
       " 'जुनसुकै',\n",
       " 'जुनै',\n",
       " 'जे',\n",
       " 'जो',\n",
       " 'जोपनि',\n",
       " 'जोपनी',\n",
       " 'झैं',\n",
       " 'ठाउँमा',\n",
       " 'ठीक',\n",
       " 'ठूलो',\n",
       " 'त',\n",
       " 'तता',\n",
       " 'तत्काल',\n",
       " 'तथा',\n",
       " 'तथापि',\n",
       " 'तथापी',\n",
       " 'तदनुसार',\n",
       " 'तपाइ',\n",
       " 'तपाइँ',\n",
       " 'तपाइँको',\n",
       " 'तपाई',\n",
       " 'तपाईं',\n",
       " 'तपाईको',\n",
       " 'तब',\n",
       " 'तयार',\n",
       " 'तर',\n",
       " 'तर्फ',\n",
       " 'तल',\n",
       " 'तसरी',\n",
       " 'तापनि',\n",
       " 'तापनी',\n",
       " 'तिन',\n",
       " 'तिनि',\n",
       " 'तिनिहरुलाई',\n",
       " 'तिनी',\n",
       " 'तिनीहरु',\n",
       " 'तिनीहरुको',\n",
       " 'तिनीहरू',\n",
       " 'तिनीहरूको',\n",
       " 'तिनीहरूलाई',\n",
       " 'तिनीहरूले',\n",
       " 'तिनै',\n",
       " 'तिमि',\n",
       " 'तिमी',\n",
       " 'तिमीसँग',\n",
       " 'तिम्रो',\n",
       " 'तिर',\n",
       " 'तिरको',\n",
       " 'ती',\n",
       " 'तीन',\n",
       " 'तुरन्त',\n",
       " 'तुरुन्त',\n",
       " 'तुरुन्तै',\n",
       " 'तेश्रो',\n",
       " 'तेस्कारण',\n",
       " 'तेस्रो',\n",
       " 'तेह्र',\n",
       " 'तैपनि',\n",
       " 'तैपनी',\n",
       " 'त्यत्तिकै',\n",
       " 'त्यत्तिकैमा',\n",
       " 'त्यस',\n",
       " 'त्यसकारण',\n",
       " 'त्यसको',\n",
       " 'त्यसपछि',\n",
       " 'त्यसमा',\n",
       " 'त्यसले',\n",
       " 'त्यसै',\n",
       " 'त्यसैले',\n",
       " 'त्यसो',\n",
       " 'त्यस्तै',\n",
       " 'त्यस्तो',\n",
       " 'त्यहाँ',\n",
       " 'त्यहिँ',\n",
       " 'त्यही',\n",
       " 'त्यहीँ',\n",
       " 'त्यहीं',\n",
       " 'त्यो',\n",
       " 'त्सपछि',\n",
       " 'त्सैले',\n",
       " 'थप',\n",
       " 'थरि',\n",
       " 'थरी',\n",
       " 'थाहा',\n",
       " 'थिए',\n",
       " 'थिएँ',\n",
       " 'थिएन',\n",
       " 'थिएनन्',\n",
       " 'थियो',\n",
       " 'दर्ता',\n",
       " 'दश',\n",
       " 'दिँदै',\n",
       " 'दिए',\n",
       " 'दिएको',\n",
       " 'दिदैन',\n",
       " 'दिन',\n",
       " 'दिनुभएको',\n",
       " 'दिनुहुन्छ',\n",
       " 'दिन्छ',\n",
       " 'दुइ',\n",
       " 'दुइवटा',\n",
       " 'दुई',\n",
       " 'दुबै',\n",
       " 'देख',\n",
       " 'देखि',\n",
       " 'देखिन्छ',\n",
       " 'देखियो',\n",
       " 'देखे',\n",
       " 'देखेको',\n",
       " 'देखेर',\n",
       " 'देख्न',\n",
       " 'दोश्री',\n",
       " 'दोश्रो',\n",
       " 'दोस्रो',\n",
       " 'द्वारा',\n",
       " 'धन्न',\n",
       " 'धेरै',\n",
       " 'धौ',\n",
       " 'न',\n",
       " 'नआउन',\n",
       " 'नगर्नु',\n",
       " 'नगर्नुहोस्',\n",
       " 'नगर्नू',\n",
       " 'नचाहे',\n",
       " 'नजिकै',\n",
       " 'नत्र',\n",
       " 'नत्रभने',\n",
       " 'नभई',\n",
       " 'नभएको',\n",
       " 'नभनेर',\n",
       " 'नयाँ',\n",
       " 'नरहे',\n",
       " 'नलिए',\n",
       " 'नि',\n",
       " 'निकै',\n",
       " 'निम्ति',\n",
       " 'निम्न',\n",
       " 'निम्नानुसार',\n",
       " 'निर्दिष्ट',\n",
       " 'नै',\n",
       " 'नौ',\n",
       " 'पक्का',\n",
       " 'पक्कै',\n",
       " 'पछाडि',\n",
       " 'पछाडी',\n",
       " 'पछि',\n",
       " 'पछिल्लो',\n",
       " 'पछी',\n",
       " 'पटक',\n",
       " 'पनि',\n",
       " 'पन्ध्र',\n",
       " 'पर्छ',\n",
       " 'पर्थ्यो',\n",
       " 'पर्दैन',\n",
       " 'पर्ने',\n",
       " 'पर्नेमा',\n",
       " 'पर्याप्त',\n",
       " 'पहिले',\n",
       " 'पहिलो',\n",
       " 'पहिल्यै',\n",
       " 'पाँच',\n",
       " 'पाँचौं',\n",
       " 'पांच',\n",
       " 'पाचौँ',\n",
       " 'पारेर',\n",
       " 'पिच्छे',\n",
       " 'पूर्व',\n",
       " 'पो',\n",
       " 'प्रति',\n",
       " 'प्रतेक',\n",
       " 'प्रत्यक',\n",
       " 'प्रत्येक',\n",
       " 'प्राय',\n",
       " 'प्लस',\n",
       " 'फरक',\n",
       " 'फेरि',\n",
       " 'फेरी',\n",
       " 'बढी',\n",
       " 'बताइए',\n",
       " 'बताए',\n",
       " 'बने',\n",
       " 'बन्द',\n",
       " 'बन्न',\n",
       " 'बरु',\n",
       " 'बाट',\n",
       " 'बाटो',\n",
       " 'बारे',\n",
       " 'बारेमा',\n",
       " 'बाहिर',\n",
       " 'बाहेक',\n",
       " 'बाह्र',\n",
       " 'बिच',\n",
       " 'बिचमा',\n",
       " 'बिरुद्ध',\n",
       " 'बिशेष',\n",
       " 'बिस',\n",
       " 'बीच',\n",
       " 'बीचमा',\n",
       " 'बीस',\n",
       " 'भए',\n",
       " 'भएँ',\n",
       " 'भएका',\n",
       " 'भएकालाई',\n",
       " 'भएको',\n",
       " 'भएन',\n",
       " 'भएर',\n",
       " 'भन',\n",
       " 'भने',\n",
       " 'भनेको',\n",
       " 'भनेर',\n",
       " 'भने्',\n",
       " 'भन्',\n",
       " 'भन्छन्',\n",
       " 'भन्छु',\n",
       " 'भन्दा',\n",
       " 'भन्दै',\n",
       " 'भन्न',\n",
       " 'भन्नुभयो',\n",
       " 'भन्ने',\n",
       " 'भन्या',\n",
       " 'भयेन',\n",
       " 'भयो',\n",
       " 'भर',\n",
       " 'भरि',\n",
       " 'भरी',\n",
       " 'भा',\n",
       " 'भित्र',\n",
       " 'भित्री',\n",
       " 'भीत्र',\n",
       " 'म',\n",
       " 'मँ',\n",
       " 'मध्य',\n",
       " 'मध्ये',\n",
       " 'मलाई',\n",
       " 'मा',\n",
       " 'मात्र',\n",
       " 'मात्रै',\n",
       " 'माथि',\n",
       " 'माथी',\n",
       " 'मार्फत',\n",
       " 'मुख्य',\n",
       " 'मुनि',\n",
       " 'मुन्तिर',\n",
       " 'मेरो',\n",
       " 'मैले',\n",
       " 'यता',\n",
       " 'यति',\n",
       " 'यथोचित',\n",
       " 'यदि',\n",
       " 'यद्ध्यपि',\n",
       " 'यद्यपि',\n",
       " 'यस',\n",
       " 'यसका',\n",
       " 'यसको',\n",
       " 'यसपछि',\n",
       " 'यसबाहेक',\n",
       " 'यसमा',\n",
       " 'यसरी',\n",
       " 'यसले',\n",
       " 'यसैले',\n",
       " 'यसो',\n",
       " 'यस्तै',\n",
       " 'यस्तो',\n",
       " 'यहाँ',\n",
       " 'यहाँसम्म',\n",
       " 'यही',\n",
       " 'यहीँ',\n",
       " 'या',\n",
       " 'यी',\n",
       " 'यो',\n",
       " 'र',\n",
       " 'रहँदै',\n",
       " 'रही',\n",
       " 'रहे',\n",
       " 'रहेका',\n",
       " 'रहेको',\n",
       " 'रहेछ',\n",
       " 'राखे',\n",
       " 'राख्छ',\n",
       " 'राम्रो',\n",
       " 'रुपमा',\n",
       " 'रूप',\n",
       " 'रे',\n",
       " 'लगभग',\n",
       " 'लगायत',\n",
       " 'लाई',\n",
       " 'लाख',\n",
       " 'लागि',\n",
       " 'लागेको',\n",
       " 'लिए',\n",
       " 'ले',\n",
       " 'वटा',\n",
       " 'वरिपरि',\n",
       " 'वरीपरी',\n",
       " 'वा',\n",
       " 'वाट',\n",
       " 'वापत',\n",
       " 'वास्तवमा',\n",
       " 'वाहेक',\n",
       " 'विरुद्ध',\n",
       " 'विशेष',\n",
       " 'शायद',\n",
       " 'सँग',\n",
       " 'सँगको',\n",
       " 'सँगसँगै',\n",
       " 'सँगै',\n",
       " 'संग',\n",
       " 'संगै',\n",
       " 'सकदिन',\n",
       " 'सकिएन',\n",
       " 'सकिने',\n",
       " 'सक्छ',\n",
       " 'सक्दैन',\n",
       " 'सक्नुहुन्छ',\n",
       " 'सक्नुहुन्न',\n",
       " 'सक्ने',\n",
       " 'सक्नेछन्',\n",
       " 'सङ्ग',\n",
       " 'सङ्गको',\n",
       " 'सट्टा',\n",
       " 'सत्र',\n",
       " 'सधै',\n",
       " 'सधैं',\n",
       " 'सबै',\n",
       " 'सबैको',\n",
       " 'सबैलाई',\n",
       " 'समय',\n",
       " 'समयमा',\n",
       " 'समेत',\n",
       " 'सम्भव',\n",
       " 'सम्म',\n",
       " 'सय',\n",
       " 'सरह',\n",
       " 'सहित',\n",
       " 'सहितै',\n",
       " 'सही',\n",
       " 'साँच्चै',\n",
       " 'सात',\n",
       " 'साथ',\n",
       " 'साथै',\n",
       " 'सायद',\n",
       " 'सारा',\n",
       " 'सुनेको',\n",
       " 'सुनेर',\n",
       " 'सुरु',\n",
       " 'सुरुको',\n",
       " 'सुरुमै',\n",
       " 'सो',\n",
       " 'सोचेको',\n",
       " 'सोचेर',\n",
       " 'सोध्न',\n",
       " 'सोही',\n",
       " 'सोह्र',\n",
       " 'स्थित',\n",
       " 'स्पष्ट',\n",
       " 'हजार',\n",
       " 'हटाएर',\n",
       " 'हरे',\n",
       " 'हरेक',\n",
       " 'हामी',\n",
       " 'हामीलाई',\n",
       " 'हामीले',\n",
       " 'हामीसँग',\n",
       " 'हाम्रा',\n",
       " 'हाम्रो',\n",
       " 'हुँ',\n",
       " 'हुँदैन',\n",
       " 'हुन',\n",
       " 'हुनत',\n",
       " 'हुनु',\n",
       " 'हुनुहुन्छ',\n",
       " 'हुने',\n",
       " 'हुनेछ',\n",
       " 'हुनेछु',\n",
       " 'हुन्',\n",
       " 'हुन्छ',\n",
       " 'हुन्थे',\n",
       " 'हुन्थ्यो',\n",
       " 'हेर्न',\n",
       " 'हैन',\n",
       " 'हो',\n",
       " 'होइन',\n",
       " 'होइनन्',\n",
       " 'होकि',\n",
       " 'होला',\n",
       " 'होस्',\n",
       " 'हौं']"
      ]
     },
     "execution_count": 82,
     "metadata": {},
     "output_type": "execute_result"
    }
   ],
   "source": [
    "lines"
   ]
  },
  {
   "cell_type": "code",
   "execution_count": 83,
   "metadata": {},
   "outputs": [
    {
     "data": {
      "text/plain": [
       "['परिश्रम',\n",
       " 'नगरी',\n",
       " 'हुन्छ',\n",
       " 'परिश्रम',\n",
       " 'सफलताको',\n",
       " 'एकमात्र',\n",
       " 'बाटो',\n",
       " 'हो',\n",
       " 'अक्सर',\n",
       " 'जो',\n",
       " 'परिश्रम',\n",
       " 'गर्छ',\n",
       " 'उही',\n",
       " 'सफल',\n",
       " 'हुन्छ',\n",
       " 'अब',\n",
       " 'त',\n",
       " 'परिश्रम',\n",
       " 'गर्छौ',\n",
       " 'नि',\n",
       " 'नगरी',\n",
       " 'कहाँ',\n",
       " 'हुन्छ',\n",
       " 'त']"
      ]
     },
     "execution_count": 83,
     "metadata": {},
     "output_type": "execute_result"
    }
   ],
   "source": [
    "words"
   ]
  },
  {
   "cell_type": "code",
   "execution_count": 84,
   "metadata": {},
   "outputs": [],
   "source": [
    "words = [w for w in words if not w in lines] "
   ]
  },
  {
   "cell_type": "code",
   "execution_count": 85,
   "metadata": {},
   "outputs": [
    {
     "data": {
      "text/plain": [
       "['परिश्रम',\n",
       " 'नगरी',\n",
       " 'परिश्रम',\n",
       " 'सफलताको',\n",
       " 'एकमात्र',\n",
       " 'अक्सर',\n",
       " 'परिश्रम',\n",
       " 'उही',\n",
       " 'सफल',\n",
       " 'परिश्रम',\n",
       " 'गर्छौ',\n",
       " 'नगरी']"
      ]
     },
     "execution_count": 85,
     "metadata": {},
     "output_type": "execute_result"
    }
   ],
   "source": [
    "words"
   ]
  },
  {
   "cell_type": "markdown",
   "metadata": {},
   "source": [
    "### Creating a function"
   ]
  },
  {
   "cell_type": "code",
   "execution_count": 86,
   "metadata": {},
   "outputs": [],
   "source": [
    "def remove_stopwords(words):\n",
    "    with open('datasets/stopwords.txt',encoding=\"utf8\") as f:\n",
    "        lines = f.readlines()\n",
    "    lines = [x.strip() for x in lines] \n",
    "#     print(\"Stopwords dataset\")\n",
    "#     print(lines)\n",
    "    words = [w for w in words if not w in lines] \n",
    "    print(\"Words after removing stopwords\")\n",
    "    print(words)\n",
    "    return words\n",
    "    "
   ]
  },
  {
   "cell_type": "markdown",
   "metadata": {},
   "source": [
    "## Combining preprocessing"
   ]
  },
  {
   "cell_type": "code",
   "execution_count": 87,
   "metadata": {},
   "outputs": [],
   "source": [
    "def preprocess(text):\n",
    "    sentences=tokenize_sentence(text)\n",
    "    words=tokenize_word(sentences)\n",
    "    words=clean_text(words)\n",
    "    words=remove_stopwords(words)\n",
    "    return words\n",
    "\n",
    "    "
   ]
  },
  {
   "cell_type": "code",
   "execution_count": 88,
   "metadata": {},
   "outputs": [
    {
     "data": {
      "text/plain": [
       "'परिश्रम नगरी हुन्छ? परिश्रम सफलताको ९९ एक-मात्र बाटो हो। जो ९ ९९९ ९९ परिश्रम गर्छ, उही सफल हुन्छ। अब त परिश्रम गर्छौ नि? नगरी कहाँ हुन्छ त!'"
      ]
     },
     "execution_count": 88,
     "metadata": {},
     "output_type": "execute_result"
    }
   ],
   "source": [
    "eg1=\"परिश्रम नगरी हुन्छ? परिश्रम सफलताको ९९ एक-मात्र बाटो हो। जो ९ ९९९ ९९ परिश्रम गर्छ, उही सफल हुन्छ। अब त परिश्रम गर्छौ नि? नगरी कहाँ हुन्छ त!\"\n",
    "eg1"
   ]
  },
  {
   "cell_type": "code",
   "execution_count": 89,
   "metadata": {},
   "outputs": [
    {
     "name": "stdout",
     "output_type": "stream",
     "text": [
      "Sentences\n",
      "['परिश्रम नगरी हुन्छ?', 'परिश्रम सफलताको ९९ एक-मात्र बाटो हो।', 'जो ९ ९९९ ९९ परिश्रम गर्छ, उही सफल हुन्छ।', 'अब त परिश्रम गर्छौ नि?', 'नगरी कहाँ हुन्छ त!']\n",
      "Words after tokenization\n",
      "['परिश्रम', 'नगरी', 'हुन्छ?', 'परिश्रम', 'सफलताको', '९९', 'एक-मात्र', 'बाटो', 'हो।', 'जो', '९', '९९९', '९९', 'परिश्रम', 'गर्छ', 'उही', 'सफल', 'हुन्छ।', 'अब', 'त', 'परिश्रम', 'गर्छौ', 'नि?', 'नगरी', 'कहाँ', 'हुन्छ', 'त!']\n",
      "After removing special symbols and numbers\n",
      "['परिश्रम', 'नगरी', 'हुन्छ', 'परिश्रम', 'सफलताको', 'एकमात्र', 'बाटो', 'हो', 'जो', 'परिश्रम', 'गर्छ', 'उही', 'सफल', 'हुन्छ', 'अब', 'त', 'परिश्रम', 'गर्छौ', 'नि', 'नगरी', 'कहाँ', 'हुन्छ', 'त']\n",
      "Words after removing stopwords\n",
      "['परिश्रम', 'नगरी', 'परिश्रम', 'सफलताको', 'एकमात्र', 'परिश्रम', 'उही', 'सफल', 'परिश्रम', 'गर्छौ', 'नगरी']\n"
     ]
    }
   ],
   "source": [
    "tokens1=preprocess(eg1)"
   ]
  },
  {
   "cell_type": "code",
   "execution_count": 90,
   "metadata": {},
   "outputs": [
    {
     "data": {
      "text/plain": [
       "'परिश्रम नगरी हुन्छ? परिश्रम सफलताको बाटो हो। जो परिश्रम गर्छ, उही सफल हुन्छ। अब परिश्रम गर्छौ नि? नगरी हुन्छ त!'"
      ]
     },
     "execution_count": 90,
     "metadata": {},
     "output_type": "execute_result"
    }
   ],
   "source": [
    "eg2=\"परिश्रम नगरी हुन्छ? परिश्रम सफलताको बाटो हो। जो परिश्रम गर्छ, उही सफल हुन्छ। अब परिश्रम गर्छौ नि? नगरी हुन्छ त!\"\n",
    "eg2"
   ]
  },
  {
   "cell_type": "code",
   "execution_count": 91,
   "metadata": {},
   "outputs": [
    {
     "name": "stdout",
     "output_type": "stream",
     "text": [
      "Sentences\n",
      "['परिश्रम नगरी हुन्छ?', 'परिश्रम सफलताको बाटो हो।', 'जो परिश्रम गर्छ, उही सफल हुन्छ।', 'अब परिश्रम गर्छौ नि?', 'नगरी हुन्छ त!']\n",
      "Words after tokenization\n",
      "['परिश्रम', 'नगरी', 'हुन्छ?', 'परिश्रम', 'सफलताको', 'बाटो', 'हो।', 'जो', 'परिश्रम', 'गर्छ', 'उही', 'सफल', 'हुन्छ।', 'अब', 'परिश्रम', 'गर्छौ', 'नि?', 'नगरी', 'हुन्छ', 'त!']\n",
      "After removing special symbols and numbers\n",
      "['परिश्रम', 'नगरी', 'हुन्छ', 'परिश्रम', 'सफलताको', 'बाटो', 'हो', 'जो', 'परिश्रम', 'गर्छ', 'उही', 'सफल', 'हुन्छ', 'अब', 'परिश्रम', 'गर्छौ', 'नि', 'नगरी', 'हुन्छ', 'त']\n",
      "Words after removing stopwords\n",
      "['परिश्रम', 'नगरी', 'परिश्रम', 'सफलताको', 'परिश्रम', 'उही', 'सफल', 'परिश्रम', 'गर्छौ', 'नगरी']\n"
     ]
    }
   ],
   "source": [
    "tokens2=preprocess(eg2)"
   ]
  },
  {
   "cell_type": "code",
   "execution_count": 92,
   "metadata": {},
   "outputs": [
    {
     "name": "stdout",
     "output_type": "stream",
     "text": [
      "['परिश्रम', 'नगरी', 'परिश्रम', 'सफलताको', 'एकमात्र', 'परिश्रम', 'उही', 'सफल', 'परिश्रम', 'गर्छौ', 'नगरी']\n"
     ]
    }
   ],
   "source": [
    "print(tokens1)"
   ]
  },
  {
   "cell_type": "code",
   "execution_count": 93,
   "metadata": {},
   "outputs": [
    {
     "name": "stdout",
     "output_type": "stream",
     "text": [
      "['परिश्रम', 'नगरी', 'परिश्रम', 'सफलताको', 'परिश्रम', 'उही', 'सफल', 'परिश्रम', 'गर्छौ', 'नगरी']\n"
     ]
    }
   ],
   "source": [
    "print(tokens2)"
   ]
  },
  {
   "cell_type": "markdown",
   "metadata": {},
   "source": [
    "## 5. Lemmatization"
   ]
  },
  {
   "cell_type": "code",
   "execution_count": 94,
   "metadata": {},
   "outputs": [],
   "source": [
    "# with open('datasets/dictionary.txt',encoding=\"utf8\") as f:\n",
    "#     roots = f.readlines()\n",
    "# roots = [x.strip() for x in roots] "
   ]
  },
  {
   "cell_type": "code",
   "execution_count": null,
   "metadata": {},
   "outputs": [],
   "source": [
    "# roots"
   ]
  },
  {
   "cell_type": "code",
   "execution_count": null,
   "metadata": {},
   "outputs": [],
   "source": [
    "# def stem_text(text):\n",
    "#     return re.sub('(मा|को|ले|बाट|का|हरु|हरुसँग|सँग|लाई|हरू|हरूसँग|हरू)',' ',text)\n",
    "\n",
    "# stem_text(\"बनाइएको\")"
   ]
  },
  {
   "cell_type": "code",
   "execution_count": null,
   "metadata": {},
   "outputs": [],
   "source": [
    "# for i in range (0,len(words1)):\n",
    "#     if words1[i].endswith('को'):\n",
    "#         words1[i]=stem_text(words1[i])"
   ]
  },
  {
   "cell_type": "code",
   "execution_count": null,
   "metadata": {},
   "outputs": [],
   "source": [
    "# words1"
   ]
  },
  {
   "cell_type": "code",
   "execution_count": null,
   "metadata": {},
   "outputs": [],
   "source": []
  },
  {
   "cell_type": "markdown",
   "metadata": {},
   "source": [
    "# B. Feature Vector Construction"
   ]
  },
  {
   "cell_type": "markdown",
   "metadata": {},
   "source": [
    "### Calculating tf-idf (Term frequency-inverse document frequency)"
   ]
  },
  {
   "cell_type": "markdown",
   "metadata": {},
   "source": [
    "The tf-idf weight is composed by two terms:\n",
    "1. Normalized Term Frequency (tf)\n",
    "2. Inverse Document Frequency (idf)"
   ]
  },
  {
   "cell_type": "markdown",
   "metadata": {},
   "source": [
    "### Step 1: Computing the Term Frequency(tf)"
   ]
  },
  {
   "cell_type": "code",
   "execution_count": 95,
   "metadata": {},
   "outputs": [],
   "source": [
    "def calculate_TF_Dict(doc): \n",
    "    \"\"\" Returns a tf dictionary for each doc whose keys are all \n",
    "    the unique words in the review and whose values are their \n",
    "    corresponding tf.\n",
    "    \"\"\"\n",
    "    TF_Dict = {}\n",
    "    \n",
    "    # Total number of terms in the document \n",
    "    len_of_document = float(len(doc)) \n",
    "    \n",
    "    for word in doc:\n",
    "        \n",
    "        # Number of times the term occurs in the document \n",
    "        term_in_document = doc.count(word) \n",
    "        \n",
    "        #Computes tf for each word           \n",
    "        TF_Dict[word] = term_in_document / len_of_document \n",
    "\n",
    "  \n",
    "    return TF_Dict\n"
   ]
  },
  {
   "cell_type": "code",
   "execution_count": 96,
   "metadata": {},
   "outputs": [
    {
     "data": {
      "text/plain": [
       "[['परिश्रम',\n",
       "  'नगरी',\n",
       "  'परिश्रम',\n",
       "  'सफलताको',\n",
       "  'एकमात्र',\n",
       "  'परिश्रम',\n",
       "  'उही',\n",
       "  'सफल',\n",
       "  'परिश्रम',\n",
       "  'गर्छौ',\n",
       "  'नगरी'],\n",
       " ['परिश्रम',\n",
       "  'नगरी',\n",
       "  'परिश्रम',\n",
       "  'सफलताको',\n",
       "  'परिश्रम',\n",
       "  'उही',\n",
       "  'सफल',\n",
       "  'परिश्रम',\n",
       "  'गर्छौ',\n",
       "  'नगरी']]"
      ]
     },
     "execution_count": 96,
     "metadata": {},
     "output_type": "execute_result"
    }
   ],
   "source": [
    "Docs=[tokens1,tokens2]\n",
    "Docs"
   ]
  },
  {
   "cell_type": "code",
   "execution_count": 97,
   "metadata": {},
   "outputs": [
    {
     "data": {
      "text/plain": [
       "[{'परिश्रम': 0.36363636363636365,\n",
       "  'नगरी': 0.18181818181818182,\n",
       "  'सफलताको': 0.09090909090909091,\n",
       "  'एकमात्र': 0.09090909090909091,\n",
       "  'उही': 0.09090909090909091,\n",
       "  'सफल': 0.09090909090909091,\n",
       "  'गर्छौ': 0.09090909090909091},\n",
       " {'परिश्रम': 0.4,\n",
       "  'नगरी': 0.2,\n",
       "  'सफलताको': 0.1,\n",
       "  'उही': 0.1,\n",
       "  'सफल': 0.1,\n",
       "  'गर्छौ': 0.1}]"
      ]
     },
     "execution_count": 97,
     "metadata": {},
     "output_type": "execute_result"
    }
   ],
   "source": [
    "TF_Dict = [calculate_TF_Dict(doc) for doc in Docs]\n",
    "TF_Dict"
   ]
  },
  {
   "cell_type": "markdown",
   "metadata": {},
   "source": [
    "### Step 2: Compute the Inverse Document Frequency – idf"
   ]
  },
  {
   "cell_type": "code",
   "execution_count": 98,
   "metadata": {},
   "outputs": [
    {
     "data": {
      "text/plain": [
       "['उही', 'एकमात्र', 'गर्छौ', 'नगरी', 'परिश्रम', 'सफल', 'सफलताको']"
      ]
     },
     "execution_count": 98,
     "metadata": {},
     "output_type": "execute_result"
    }
   ],
   "source": [
    "vocabulary=sorted(set(tokens1+tokens2))\n",
    "vocabulary"
   ]
  },
  {
   "cell_type": "code",
   "execution_count": 99,
   "metadata": {},
   "outputs": [],
   "source": [
    "import math\n",
    "def calculate_IDF_Dict():\n",
    "    \"\"\" Returns a dictionary whose keys are all the unique words in the\n",
    "    dataset and whose values are their corresponding idf.\n",
    "    \"\"\"\n",
    "    countDict = {}\n",
    "    for word in vocabulary:\n",
    "        countDict[word]=0\n",
    "    # Run through each doc's tf dictionary and increment countDict's (word, doc) pair\n",
    "    for word in vocabulary:\n",
    "        for doc in range(len(Docs)):\n",
    "            if word in Docs[doc]:\n",
    "                countDict[word]+=1\n",
    "    \n",
    "        \n",
    "    #Stores the doc count dictionary\n",
    "    IDF_Dict = {}\n",
    "    total_num_docs = len(Docs)  \n",
    "    for word in countDict:\n",
    "        IDF_Dict[word] = 1+math.log(float(total_num_docs) /countDict[word])\n",
    "    return IDF_Dict\n",
    "  "
   ]
  },
  {
   "cell_type": "code",
   "execution_count": null,
   "metadata": {},
   "outputs": [],
   "source": []
  },
  {
   "cell_type": "code",
   "execution_count": 100,
   "metadata": {},
   "outputs": [
    {
     "data": {
      "text/plain": [
       "{'उही': 1.0,\n",
       " 'एकमात्र': 1.6931471805599454,\n",
       " 'गर्छौ': 1.0,\n",
       " 'नगरी': 1.0,\n",
       " 'परिश्रम': 1.0,\n",
       " 'सफल': 1.0,\n",
       " 'सफलताको': 1.0}"
      ]
     },
     "execution_count": 100,
     "metadata": {},
     "output_type": "execute_result"
    }
   ],
   "source": [
    "IDF_Dict=calculate_IDF_Dict()\n",
    "IDF_Dict"
   ]
  },
  {
   "cell_type": "markdown",
   "metadata": {},
   "source": [
    "### Step 3: Computing the TF-IDF"
   ]
  },
  {
   "cell_type": "code",
   "execution_count": 101,
   "metadata": {},
   "outputs": [],
   "source": [
    "def calculate_TFIDF_Dict(TF_Dict,IDF_Dict):\n",
    "    \"\"\" Returns a dictionary whose keys are all the unique words in the\n",
    "    review and whose values are their corresponding tfidf.\n",
    "    \"\"\"\n",
    "    TFIDF_Dict = {}\n",
    "    #For each word in the review, we multiply its tf and its idf.\n",
    "    for word in TF_Dict:\n",
    "        TFIDF_Dict[word] = TF_Dict[word] * IDF_Dict[word]\n",
    "    return TFIDF_Dict"
   ]
  },
  {
   "cell_type": "code",
   "execution_count": 102,
   "metadata": {},
   "outputs": [
    {
     "data": {
      "text/plain": [
       "[{'परिश्रम': 0.36363636363636365,\n",
       "  'नगरी': 0.18181818181818182,\n",
       "  'सफलताको': 0.09090909090909091,\n",
       "  'एकमात्र': 0.15392247095999503,\n",
       "  'उही': 0.09090909090909091,\n",
       "  'सफल': 0.09090909090909091,\n",
       "  'गर्छौ': 0.09090909090909091},\n",
       " {'परिश्रम': 0.4,\n",
       "  'नगरी': 0.2,\n",
       "  'सफलताको': 0.1,\n",
       "  'उही': 0.1,\n",
       "  'सफल': 0.1,\n",
       "  'गर्छौ': 0.1}]"
      ]
     },
     "execution_count": 102,
     "metadata": {},
     "output_type": "execute_result"
    }
   ],
   "source": [
    "#Stores the TF-IDF dictionaries\n",
    "TFIDF_Dict = [calculate_TFIDF_Dict(doc,IDF_Dict) for doc in TF_Dict]\n",
    "TFIDF_Dict"
   ]
  },
  {
   "cell_type": "markdown",
   "metadata": {},
   "source": [
    "### Step 4 Constructing A Vector"
   ]
  },
  {
   "cell_type": "code",
   "execution_count": 103,
   "metadata": {},
   "outputs": [
    {
     "data": {
      "text/plain": [
       "['उही', 'एकमात्र', 'गर्छौ', 'नगरी', 'परिश्रम', 'सफल', 'सफलताको']"
      ]
     },
     "execution_count": 103,
     "metadata": {},
     "output_type": "execute_result"
    }
   ],
   "source": [
    "# Create a list of unique words\n",
    "wordDict = sorted(IDF_Dict.keys())\n",
    "wordDict"
   ]
  },
  {
   "cell_type": "code",
   "execution_count": 104,
   "metadata": {},
   "outputs": [],
   "source": [
    "\n",
    "def calculate_TFIDF_Vector(doc):\n",
    "    wordDict = sorted(IDF_Dict.keys())\n",
    "    TFIDF_Vector = [0.0] * len(vocabulary)\n",
    "    # For each unique word, if it is in the doc, store its TF-IDF value.\n",
    "    for i, word in enumerate(wordDict):\n",
    "          if word in doc:\n",
    "                TFIDF_Vector[i] = doc[word]\n",
    "                \n",
    "    return TFIDF_Vector\n",
    "\n"
   ]
  },
  {
   "cell_type": "code",
   "execution_count": 105,
   "metadata": {},
   "outputs": [],
   "source": [
    "TFIDF_Vector = [calculate_TFIDF_Vector(doc) for doc in TFIDF_Dict]"
   ]
  },
  {
   "cell_type": "code",
   "execution_count": 106,
   "metadata": {},
   "outputs": [
    {
     "data": {
      "text/plain": [
       "[0.09090909090909091,\n",
       " 0.15392247095999503,\n",
       " 0.09090909090909091,\n",
       " 0.18181818181818182,\n",
       " 0.36363636363636365,\n",
       " 0.09090909090909091,\n",
       " 0.09090909090909091]"
      ]
     },
     "execution_count": 106,
     "metadata": {},
     "output_type": "execute_result"
    }
   ],
   "source": [
    "TFIDF_Vector[0]"
   ]
  },
  {
   "cell_type": "code",
   "execution_count": 107,
   "metadata": {},
   "outputs": [
    {
     "data": {
      "text/plain": [
       "[0.1, 0.0, 0.1, 0.2, 0.4, 0.1, 0.1]"
      ]
     },
     "execution_count": 107,
     "metadata": {},
     "output_type": "execute_result"
    }
   ],
   "source": [
    "TFIDF_Vector[1]"
   ]
  },
  {
   "cell_type": "markdown",
   "metadata": {},
   "source": [
    "### Creating a function to combine these steps"
   ]
  },
  {
   "cell_type": "code",
   "execution_count": 108,
   "metadata": {},
   "outputs": [],
   "source": [
    "def create_vector():\n",
    "    TF_Dict = [calculate_TF_Dict(doc) for doc in Docs]\n",
    "    IDF_Dict=calculate_IDF_Dict()\n",
    "    TFIDF_Dict = [calculate_TFIDF_Dict(doc,IDF_Dict) for doc in TF_Dict]\n",
    "    TFIDF_Vector = [calculate_TFIDF_Vector(doc) for doc in TFIDF_Dict]\n",
    "    return TFIDF_Vector\n",
    "\n",
    "\n",
    "\n",
    "\n",
    "    "
   ]
  },
  {
   "cell_type": "code",
   "execution_count": 109,
   "metadata": {},
   "outputs": [
    {
     "data": {
      "text/plain": [
       "[[0.09090909090909091,\n",
       "  0.15392247095999503,\n",
       "  0.09090909090909091,\n",
       "  0.18181818181818182,\n",
       "  0.36363636363636365,\n",
       "  0.09090909090909091,\n",
       "  0.09090909090909091],\n",
       " [0.1, 0.0, 0.1, 0.2, 0.4, 0.1, 0.1]]"
      ]
     },
     "execution_count": 109,
     "metadata": {},
     "output_type": "execute_result"
    }
   ],
   "source": [
    "vocabulary=sorted(set(tokens1+tokens2))\n",
    "Docs=[tokens1,tokens2]\n",
    "TFIDF_Vector=create_vector()\n",
    "TFIDF_Vector"
   ]
  },
  {
   "cell_type": "markdown",
   "metadata": {},
   "source": [
    "# C. Measuring Similarity"
   ]
  },
  {
   "cell_type": "markdown",
   "metadata": {},
   "source": [
    "### Jacard Similairty"
   ]
  },
  {
   "cell_type": "code",
   "execution_count": 110,
   "metadata": {},
   "outputs": [],
   "source": [
    "def get_jaccard_sim(token1, token2): \n",
    "    a = set(token1)\n",
    "    b = set(token2)\n",
    "    c = a.intersection(b)\n",
    "    return float(len(c)) / (len(a) + len(b) - len(c))"
   ]
  },
  {
   "cell_type": "code",
   "execution_count": 111,
   "metadata": {},
   "outputs": [
    {
     "data": {
      "text/plain": [
       "0.8571428571428571"
      ]
     },
     "execution_count": 111,
     "metadata": {},
     "output_type": "execute_result"
    }
   ],
   "source": [
    "get_jaccard_sim(tokens1,tokens2)"
   ]
  },
  {
   "cell_type": "markdown",
   "metadata": {},
   "source": [
    "### Cosine Similairty"
   ]
  },
  {
   "cell_type": "code",
   "execution_count": 112,
   "metadata": {},
   "outputs": [],
   "source": [
    "import numpy as np\n",
    "def get_cosine_sim(a,b):\n",
    "    a = np.array(a)\n",
    "    b = np.array(b)\n",
    "    dot = np.dot(a, b)\n",
    "    norma = np.linalg.norm(a)\n",
    "    normb = np.linalg.norm(b)\n",
    "    cos = dot / (norma * normb)\n",
    "    return cos"
   ]
  },
  {
   "cell_type": "code",
   "execution_count": 113,
   "metadata": {},
   "outputs": [
    {
     "data": {
      "text/plain": [
       "0.9451442030944225"
      ]
     },
     "execution_count": 113,
     "metadata": {},
     "output_type": "execute_result"
    }
   ],
   "source": [
    "get_cosine_sim(TFIDF_Vector[0],TFIDF_Vector[1])"
   ]
  },
  {
   "cell_type": "code",
   "execution_count": null,
   "metadata": {},
   "outputs": [],
   "source": []
  }
 ],
 "metadata": {
  "kernelspec": {
   "display_name": "Python 3",
   "language": "python",
   "name": "python3"
  },
  "language_info": {
   "codemirror_mode": {
    "name": "ipython",
    "version": 3
   },
   "file_extension": ".py",
   "mimetype": "text/x-python",
   "name": "python",
   "nbconvert_exporter": "python",
   "pygments_lexer": "ipython3",
   "version": "3.6.0"
  }
 },
 "nbformat": 4,
 "nbformat_minor": 2
}
