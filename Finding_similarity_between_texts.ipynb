{
 "cells": [
  {
   "cell_type": "code",
   "execution_count": 1,
   "metadata": {
    "collapsed": true
   },
   "outputs": [],
   "source": [
    "from nltk.corpus import stopwords\n",
    "from nltk.tokenize import word_tokenize\n",
    "import numpy as np\n",
    "import nltk\n"
   ]
  },
  {
   "cell_type": "code",
   "execution_count": 2,
   "metadata": {
    "collapsed": true
   },
   "outputs": [],
   "source": [
    "def process(file):\n",
    "    \n",
    "    raw=open(file).read()\n",
    "    tokens=word_tokenize(raw)\n",
    "    words=[w.lower() for w in tokens]\n",
    "    \n",
    "    porter=nltk.PorterStemmer()\n",
    "    stemmed_tokens=[porter.stem(t) for t in words]\n",
    "    \n",
    "    #removing stopwords\n",
    "    \n",
    "    stop_words=set(stopwords.words('english'))\n",
    "    filtered_tokens=[w for w in stemmed_tokens if not w in stop_words]\n",
    "    \n",
    "    #count words\n",
    "    count=nltk.defaultdict(int)\n",
    "    for word in filtered_tokens:\n",
    "        count[word]+=1\n",
    "    return count"
   ]
  },
  {
   "cell_type": "code",
   "execution_count": 3,
   "metadata": {
    "collapsed": true
   },
   "outputs": [],
   "source": [
    "def cos_sim(a,b):\n",
    "    dot_product=np.dot(a,b)\n",
    "    norm_a=np.linalg.norm(a)\n",
    "    norm_b=np.linalg.norm(b)\n",
    "    return dot_product / (norm_a * norm_b)\n",
    "\n",
    "def getSimilarity(dict1, dict2):\n",
    "    all_words_list=[]\n",
    "    for key in dict1:\n",
    "        all_words_list.append(key)\n",
    "    for key in dict2:\n",
    "        all_words_list.append(key)\n",
    "        \n",
    "    all_words_list_size=len(all_words_list)\n",
    "    \n",
    "    v1=np.zeros(all_words_list_size, dtype=np.int)\n",
    "    v2=np.zeros(all_words_list_size, dtype=np.int)\n",
    "    i=0\n",
    "    \n",
    "    for (key) in all_words_list:\n",
    "        v1[i]=dict1.get(key,0)\n",
    "        v2[i]=dict2.get(key,0)\n",
    "        i=i+1\n",
    "    return cos_sim(v1,v2)\n",
    "\n",
    "\n",
    "    "
   ]
  },
  {
   "cell_type": "code",
   "execution_count": 7,
   "metadata": {},
   "outputs": [
    {
     "ename": "SyntaxError",
     "evalue": "invalid syntax (<ipython-input-7-802dbdaf80d8>, line 2)",
     "output_type": "error",
     "traceback": [
      "\u001b[1;36m  File \u001b[1;32m\"<ipython-input-7-802dbdaf80d8>\"\u001b[1;36m, line \u001b[1;32m2\u001b[0m\n\u001b[1;33m    dict1=\u001b[0m\n\u001b[1;37m          ^\u001b[0m\n\u001b[1;31mSyntaxError\u001b[0m\u001b[1;31m:\u001b[0m invalid syntax\n"
     ]
    }
   ],
   "source": [
    "if __name__ =='__main__':\n",
    "    dict1=\n",
    "    dict2=\n",
    "    print(\"similarity between 1 and 2 is\", getSimilarity(dict1,dict2))\n",
    "    "
   ]
  },
  {
   "cell_type": "code",
   "execution_count": null,
   "metadata": {
    "collapsed": true
   },
   "outputs": [],
   "source": []
  }
 ],
 "metadata": {
  "kernelspec": {
   "display_name": "Python 3",
   "language": "python",
   "name": "python3"
  },
  "language_info": {
   "codemirror_mode": {
    "name": "ipython",
    "version": 3
   },
   "file_extension": ".py",
   "mimetype": "text/x-python",
   "name": "python",
   "nbconvert_exporter": "python",
   "pygments_lexer": "ipython3",
   "version": "3.6.8"
  }
 },
 "nbformat": 4,
 "nbformat_minor": 2
}
