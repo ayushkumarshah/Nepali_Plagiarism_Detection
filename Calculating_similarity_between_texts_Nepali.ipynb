{
 "cells": [
  {
   "cell_type": "markdown",
   "metadata": {},
   "source": [
    "# A. Preprocessing Nepali texts\n"
   ]
  },
  {
   "cell_type": "code",
   "execution_count": 24,
   "metadata": {},
   "outputs": [
    {
     "data": {
      "text/plain": [
       "'परिश्रम नगरी हुन्छ? परिश्रम सफलताको एक-मात्र बाटो हो। अक्सर जो परिश्रम गर्छ, उही सफल हुन्छ। अब त परिश्रम गर्छौ नि? नगरी कहाँ हुन्छ त महानगरपालिकाहरूमा!'"
      ]
     },
     "execution_count": 24,
     "metadata": {},
     "output_type": "execute_result"
    }
   ],
   "source": [
    "eg1=\"परिश्रम नगरी हुन्छ? परिश्रम सफलताको एक-मात्र बाटो हो। अक्सर जो परिश्रम गर्छ, उही सफल हुन्छ। अब त परिश्रम गर्छौ नि? नगरी कहाँ हुन्छ त महानगरपालिकाहरूमा!\"\n",
    "eg1\n"
   ]
  },
  {
   "cell_type": "code",
   "execution_count": 25,
   "metadata": {},
   "outputs": [
    {
     "data": {
      "text/plain": [
       "'निर्माण सुरु भएको ४१ वर्ष पुग्दा बुद्धजन्मस्थलको एकीकृत विकास गर्न बनाइएको  लुम्बिनी गुरुयोजनाको काम ८२ प्रतिशत सकिएको छ ।'"
      ]
     },
     "execution_count": 25,
     "metadata": {},
     "output_type": "execute_result"
    }
   ],
   "source": [
    "eg2=\"निर्माण सुरु भएको ४१ वर्ष पुग्दा बुद्धजन्मस्थलको एकीकृत विकास गर्न बनाइएको  लुम्बिनी गुरुयोजनाको काम ८२ प्रतिशत सकिएको छ ।\"\n",
    "eg2"
   ]
  },
  {
   "cell_type": "markdown",
   "metadata": {},
   "source": [
    "### 1. Sentence Level Tokenization"
   ]
  },
  {
   "cell_type": "code",
   "execution_count": 26,
   "metadata": {},
   "outputs": [],
   "source": [
    "# -*- coding: utf-8 -*-\n",
    "#split at ?, । or !\n",
    "import re\n",
    "def tokenize_sentence(text):\n",
    "    sentences=re.split('(?<=[।?!]) +', text)\n",
    "    print(\"Sentences\")\n",
    "    print(sentences)\n",
    "    return sentences"
   ]
  },
  {
   "cell_type": "code",
   "execution_count": 27,
   "metadata": {},
   "outputs": [
    {
     "name": "stdout",
     "output_type": "stream",
     "text": [
      "Sentences\n",
      "['परिश्रम नगरी हुन्छ?', 'परिश्रम सफलताको एक-मात्र बाटो हो।', 'अक्सर जो परिश्रम गर्छ, उही सफल हुन्छ।', 'अब त परिश्रम गर्छौ नि?', 'नगरी कहाँ हुन्छ त महानगरपालिकाहरूमा!']\n"
     ]
    }
   ],
   "source": [
    "sentences1=tokenize_sentence(eg1)"
   ]
  },
  {
   "cell_type": "code",
   "execution_count": 28,
   "metadata": {},
   "outputs": [
    {
     "data": {
      "text/plain": [
       "list"
      ]
     },
     "execution_count": 28,
     "metadata": {},
     "output_type": "execute_result"
    }
   ],
   "source": [
    "type(sentences1)"
   ]
  },
  {
   "cell_type": "code",
   "execution_count": 29,
   "metadata": {},
   "outputs": [
    {
     "name": "stdout",
     "output_type": "stream",
     "text": [
      "Sentences\n",
      "['निर्माण सुरु भएको ४१ वर्ष पुग्दा बुद्धजन्मस्थलको एकीकृत विकास गर्न बनाइएको  लुम्बिनी गुरुयोजनाको काम ८२ प्रतिशत सकिएको छ ।']\n"
     ]
    }
   ],
   "source": [
    "sentences2=tokenize_sentence(eg2)\n"
   ]
  },
  {
   "cell_type": "markdown",
   "metadata": {},
   "source": [
    "### 2. Word-level Tokenization"
   ]
  },
  {
   "cell_type": "code",
   "execution_count": 30,
   "metadata": {},
   "outputs": [],
   "source": [
    "def tokenize_word(sentences):\n",
    "    words=[]\n",
    "    for sentence in sentences:\n",
    "        words.extend(re.split(', |,| ', sentence))\n",
    "    print(\"Words after tokenization\")\n",
    "    print (words)\n",
    "    return words "
   ]
  },
  {
   "cell_type": "code",
   "execution_count": 31,
   "metadata": {},
   "outputs": [
    {
     "name": "stdout",
     "output_type": "stream",
     "text": [
      "Words after tokenization\n",
      "['परिश्रम', 'नगरी', 'हुन्छ?', 'परिश्रम', 'सफलताको', 'एक-मात्र', 'बाटो', 'हो।', 'अक्सर', 'जो', 'परिश्रम', 'गर्छ', 'उही', 'सफल', 'हुन्छ।', 'अब', 'त', 'परिश्रम', 'गर्छौ', 'नि?', 'नगरी', 'कहाँ', 'हुन्छ', 'त', 'महानगरपालिकाहरूमा!']\n"
     ]
    }
   ],
   "source": [
    "words=tokenize_word(sentences1)\n"
   ]
  },
  {
   "cell_type": "code",
   "execution_count": 32,
   "metadata": {},
   "outputs": [
    {
     "data": {
      "text/plain": [
       "25"
      ]
     },
     "execution_count": 32,
     "metadata": {},
     "output_type": "execute_result"
    }
   ],
   "source": [
    "len(words)"
   ]
  },
  {
   "cell_type": "markdown",
   "metadata": {},
   "source": [
    "###  3. Special symbol and number removal\n"
   ]
  },
  {
   "cell_type": "code",
   "execution_count": 33,
   "metadata": {},
   "outputs": [
    {
     "name": "stdout",
     "output_type": "stream",
     "text": [
      "['परिश्रम', 'नगरी', 'हुन्छ?', 'परिश्रम', 'सफलताको', 'एक-मात्र', 'बाटो', 'हो।', 'अक्सर', 'जो', 'परिश्रम', 'गर्छ', 'उही', 'सफल', 'हुन्छ।', 'अब', 'त', 'परिश्रम', 'गर्छौ', 'नि?', 'नगरी', 'कहाँ', 'हुन्छ', 'त', 'महानगरपालिकाहरूमा!']\n"
     ]
    },
    {
     "data": {
      "text/plain": [
       "['परिश्रम',\n",
       " 'नगरी',\n",
       " 'हुन्छ',\n",
       " 'परिश्रम',\n",
       " 'सफलताको',\n",
       " 'एकमात्र',\n",
       " 'बाटो',\n",
       " 'हो',\n",
       " 'अक्सर',\n",
       " 'जो',\n",
       " 'परिश्रम',\n",
       " 'गर्छ',\n",
       " 'उही',\n",
       " 'सफल',\n",
       " 'हुन्छ',\n",
       " 'अब',\n",
       " 'त',\n",
       " 'परिश्रम',\n",
       " 'गर्छौ',\n",
       " 'नि',\n",
       " 'नगरी',\n",
       " 'कहाँ',\n",
       " 'हुन्छ',\n",
       " 'त',\n",
       " 'महानगरपालिकाहरूमा']"
      ]
     },
     "execution_count": 33,
     "metadata": {},
     "output_type": "execute_result"
    }
   ],
   "source": [
    "punctuations=r',|\\)|\\(|\\{|\\}|\\[|\\]|\\?|\\!|।|\\‘|\\’|\\“|\\”|\\:-|/|—|-'\n",
    "# ,)({}[]!‘’“”:-?।/— ।\n",
    "print(words)\n",
    "\n",
    "numbers = r'[0-9o०१२३४५६७८९]'\n",
    "words = [re.sub(numbers, '', i) for i in words] \n",
    "words = [re.sub(punctuations, '', i) for i in words] \n",
    "\n",
    "words\n",
    "\n",
    "    \n"
   ]
  },
  {
   "cell_type": "code",
   "execution_count": 34,
   "metadata": {},
   "outputs": [
    {
     "name": "stdout",
     "output_type": "stream",
     "text": [
      "['परिश्रम', 'नगरी', 'हुन्छ', 'परिश्रम', 'सफलताको', 'एकमात्र', 'बाटो', 'हो', 'अक्सर', 'जो', 'परिश्रम', 'गर्छ', 'उही', 'सफल', 'हुन्छ', 'अब', 'त', 'परिश्रम', 'गर्छौ', 'नि', 'नगरी', 'कहाँ', 'हुन्छ', 'त', 'महानगरपालिकाहरूमा']\n"
     ]
    }
   ],
   "source": [
    "words = [x for x in words if x]\n",
    "print(words)"
   ]
  },
  {
   "cell_type": "markdown",
   "metadata": {},
   "source": [
    "### Creating a function "
   ]
  },
  {
   "cell_type": "code",
   "execution_count": 35,
   "metadata": {},
   "outputs": [],
   "source": [
    "def clean_text(words):\n",
    "    punctuations=r',|\\)|\\(|\\{|\\}|\\[|\\]|\\?|\\!|।|\\‘|\\’|\\“|\\”|\\:-|/|—|-'\n",
    "    numbers = r'[0-9o०१२३४५६७८९]'\n",
    "    words = [re.sub(numbers, '', i) for i in words] \n",
    "    words = [re.sub(punctuations, '', i) for i in words] \n",
    "    #Removing empty strings\n",
    "    words = [x for x in words if x]\n",
    "    print(\"After removing special symbols and numbers\")\n",
    "    print(words)\n",
    "    return words\n",
    "\n",
    "    \n"
   ]
  },
  {
   "cell_type": "markdown",
   "metadata": {},
   "source": [
    "### 4. Stop words removal "
   ]
  },
  {
   "cell_type": "code",
   "execution_count": 36,
   "metadata": {},
   "outputs": [],
   "source": [
    "with open('datasets/stopwords.txt',encoding=\"utf8\") as f:\n",
    "    lines = f.readlines()\n",
    "lines = [x.strip() for x in lines] \n",
    " "
   ]
  },
  {
   "cell_type": "code",
   "execution_count": 37,
   "metadata": {},
   "outputs": [
    {
     "data": {
      "text/plain": [
       "['\\ufeffअक्सर',\n",
       " 'अगाडि',\n",
       " 'अगाडी',\n",
       " 'अघि',\n",
       " 'अझै',\n",
       " 'अठार',\n",
       " 'अथवा',\n",
       " 'अधिक',\n",
       " 'अनि',\n",
       " 'अनुसार']"
      ]
     },
     "execution_count": 37,
     "metadata": {},
     "output_type": "execute_result"
    }
   ],
   "source": [
    "lines[:10]"
   ]
  },
  {
   "cell_type": "code",
   "execution_count": 38,
   "metadata": {},
   "outputs": [
    {
     "data": {
      "text/plain": [
       "['परिश्रम',\n",
       " 'नगरी',\n",
       " 'हुन्छ',\n",
       " 'परिश्रम',\n",
       " 'सफलताको',\n",
       " 'एकमात्र',\n",
       " 'बाटो',\n",
       " 'हो',\n",
       " 'अक्सर',\n",
       " 'जो',\n",
       " 'परिश्रम',\n",
       " 'गर्छ',\n",
       " 'उही',\n",
       " 'सफल',\n",
       " 'हुन्छ',\n",
       " 'अब',\n",
       " 'त',\n",
       " 'परिश्रम',\n",
       " 'गर्छौ',\n",
       " 'नि',\n",
       " 'नगरी',\n",
       " 'कहाँ',\n",
       " 'हुन्छ',\n",
       " 'त',\n",
       " 'महानगरपालिकाहरूमा']"
      ]
     },
     "execution_count": 38,
     "metadata": {},
     "output_type": "execute_result"
    }
   ],
   "source": [
    "words"
   ]
  },
  {
   "cell_type": "code",
   "execution_count": 39,
   "metadata": {},
   "outputs": [],
   "source": [
    "words = [w for w in words if not w in lines] "
   ]
  },
  {
   "cell_type": "code",
   "execution_count": 40,
   "metadata": {},
   "outputs": [
    {
     "data": {
      "text/plain": [
       "['परिश्रम',\n",
       " 'नगरी',\n",
       " 'परिश्रम',\n",
       " 'सफलताको',\n",
       " 'एकमात्र',\n",
       " 'अक्सर',\n",
       " 'परिश्रम',\n",
       " 'उही',\n",
       " 'सफल',\n",
       " 'परिश्रम',\n",
       " 'गर्छौ',\n",
       " 'नगरी',\n",
       " 'महानगरपालिकाहरूमा']"
      ]
     },
     "execution_count": 40,
     "metadata": {},
     "output_type": "execute_result"
    }
   ],
   "source": [
    "words"
   ]
  },
  {
   "cell_type": "markdown",
   "metadata": {},
   "source": [
    "### Creating a function"
   ]
  },
  {
   "cell_type": "code",
   "execution_count": 41,
   "metadata": {},
   "outputs": [],
   "source": [
    "def remove_stopwords(words):\n",
    "    with open('datasets/stopwords.txt',encoding=\"utf8\") as f:\n",
    "        lines = f.readlines()\n",
    "    lines = [x.strip() for x in lines] \n",
    "#     print(\"Stopwords dataset\")\n",
    "#     print(lines)\n",
    "    words = [w for w in words if not w in lines] \n",
    "    print(\"Words after removing stopwords\")\n",
    "    print(words)\n",
    "    return words\n",
    "    "
   ]
  },
  {
   "cell_type": "markdown",
   "metadata": {},
   "source": [
    "### 5. Stemming and Lemmatization"
   ]
  },
  {
   "cell_type": "code",
   "execution_count": 42,
   "metadata": {},
   "outputs": [],
   "source": [
    "from stemmer_print_version import Stemmer\n",
    "st=Stemmer()"
   ]
  },
  {
   "cell_type": "code",
   "execution_count": 43,
   "metadata": {},
   "outputs": [
    {
     "name": "stdout",
     "output_type": "stream",
     "text": [
      "\n",
      "Unstemmed input token1:परिश्रम\n",
      "Checking root word or not\n",
      "comdition1\n",
      "\n",
      "Root word found:परिश्रम\n",
      "\n",
      "final stemmed token:परिश्रम\n",
      "\n",
      "Unstemmed input token2:नगरी\n",
      "Checking root word or not\n",
      "\n",
      "Checking suffix present or not\n",
      "\n",
      "tmp_suffix:गरी\n",
      "tmp_suffix:री\n",
      "tmp_suffix:ी\n",
      "\n",
      "suffix found\n",
      "comdition4\n",
      "\n",
      "Stripping suffix\n",
      "rule:61\n",
      "\n",
      "Suffix_del:ी\n",
      "ी ्\n",
      "not_dot ्\n",
      "\n",
      "final stiped word: नगर्\n",
      "Checking root word or not\n",
      "comdition3\n",
      "Checking root word or not\n",
      "comdition1\n",
      "\n",
      "Root word found:नगर\n",
      "\n",
      "final stemmed token:नगर\n",
      "\n",
      "Unstemmed input token3:परिश्रम\n",
      "Checking root word or not\n",
      "comdition1\n",
      "\n",
      "Root word found:परिश्रम\n",
      "\n",
      "final stemmed token:परिश्रम\n",
      "\n",
      "Unstemmed input token4:सफलताको\n",
      "Checking root word or not\n",
      "\n",
      "Checking suffix present or not\n",
      "\n",
      "tmp_suffix:फलताको\n",
      "tmp_suffix:लताको\n",
      "tmp_suffix:ताको\n",
      "tmp_suffix:ाको\n",
      "tmp_suffix:को\n",
      "\n",
      "suffix found\n",
      "comdition4\n",
      "\n",
      "Stripping suffix\n",
      "rule:4\n",
      "\n",
      "Suffix_del:को\n",
      "को .\n",
      "\n",
      "final stiped word: सफलता\n",
      "Checking root word or not\n",
      "comdition1\n",
      "\n",
      "Root word found:सफलता\n",
      "\n",
      "final stemmed token:सफलता\n",
      "\n",
      "Unstemmed input token5:एकमात्र\n",
      "Checking root word or not\n",
      "\n",
      "Checking suffix present or not\n",
      "\n",
      "tmp_suffix:कमात्र\n",
      "tmp_suffix:मात्र\n",
      "\n",
      "suffix found\n",
      "comdition4\n",
      "\n",
      "Stripping suffix\n",
      "rule:74\n",
      "\n",
      "Suffix_del:मात्र\n",
      "मात्र .\n",
      "\n",
      "final stiped word: एक\n",
      "Checking root word or not\n",
      "comdition1\n",
      "\n",
      "Root word found:एक\n",
      "\n",
      "final stemmed token:एक\n",
      "\n",
      "Unstemmed input token6:अक्सर\n",
      "Checking root word or not\n",
      "comdition1\n",
      "\n",
      "Root word found:अक्सर\n",
      "\n",
      "final stemmed token:अक्सर\n",
      "\n",
      "Unstemmed input token7:परिश्रम\n",
      "Checking root word or not\n",
      "comdition1\n",
      "\n",
      "Root word found:परिश्रम\n",
      "\n",
      "final stemmed token:परिश्रम\n",
      "\n",
      "Unstemmed input token8:उही\n",
      "Checking root word or not\n",
      "\n",
      "Checking suffix present or not\n",
      "\n",
      "tmp_suffix:ही\n",
      "tmp_suffix:ी\n",
      "\n",
      "suffix found\n",
      "comdition4\n",
      "\n",
      "Stripping suffix\n",
      "rule:61\n",
      "\n",
      "Suffix_del:ी\n",
      "ी ्\n",
      "not_dot ्\n",
      "\n",
      "final stiped word: उह्\n",
      "Checking root word or not\n",
      "\n",
      "Checking suffix present or not\n",
      "\n",
      "tmp_suffix:ह्\n",
      "tmp_suffix:्\n",
      "\n",
      "suffix not found\n",
      "\n",
      "Checking prefix present or not\n",
      "\n",
      "tmp_prefix:उ\n",
      "tmp_prefix:उह\n",
      "tmp_prefix:उह्\n",
      "\n",
      "prefix not found\n",
      "\n",
      "Recombining suffix\n",
      "comdition7:unrecognized\n",
      "\n",
      "final token (couldnt stem):उही\n",
      "\n",
      "Unstemmed input token9:सफल\n",
      "Checking root word or not\n",
      "comdition1\n",
      "\n",
      "Root word found:सफल\n",
      "\n",
      "final stemmed token:सफल\n",
      "\n",
      "Unstemmed input token10:परिश्रम\n",
      "Checking root word or not\n",
      "comdition1\n",
      "\n",
      "Root word found:परिश्रम\n",
      "\n",
      "final stemmed token:परिश्रम\n",
      "\n",
      "Unstemmed input token11:गर्छौ\n",
      "Checking root word or not\n",
      "\n",
      "Checking suffix present or not\n",
      "\n",
      "tmp_suffix:र्छौ\n",
      "tmp_suffix:्छौ\n",
      "tmp_suffix:छौ\n",
      "\n",
      "suffix found\n",
      "comdition4\n",
      "\n",
      "Stripping suffix\n",
      "rule:29\n",
      "\n",
      "Suffix_del:छौ\n",
      "छौ .\n",
      "\n",
      "final stiped word: गर्\n",
      "Checking root word or not\n",
      "comdition1\n",
      "\n",
      "Root word found:गर्\n",
      "\n",
      "final stemmed token:गर्\n",
      "\n",
      "Unstemmed input token12:नगरी\n",
      "Checking root word or not\n",
      "\n",
      "Checking suffix present or not\n",
      "\n",
      "tmp_suffix:गरी\n",
      "tmp_suffix:री\n",
      "tmp_suffix:ी\n",
      "\n",
      "suffix found\n",
      "comdition4\n",
      "\n",
      "Stripping suffix\n",
      "rule:61\n",
      "\n",
      "Suffix_del:ी\n",
      "ी ्\n",
      "not_dot ्\n",
      "\n",
      "final stiped word: नगर्\n",
      "Checking root word or not\n",
      "comdition3\n",
      "Checking root word or not\n",
      "comdition1\n",
      "\n",
      "Root word found:नगर\n",
      "\n",
      "final stemmed token:नगर\n",
      "\n",
      "Unstemmed input token13:महानगरपालिकाहरूमा\n",
      "Checking root word or not\n",
      "\n",
      "Checking suffix present or not\n",
      "\n",
      "tmp_suffix:हानगरपालिकाहरूमा\n",
      "tmp_suffix:ानगरपालिकाहरूमा\n",
      "tmp_suffix:नगरपालिकाहरूमा\n",
      "tmp_suffix:गरपालिकाहरूमा\n",
      "tmp_suffix:रपालिकाहरूमा\n",
      "tmp_suffix:पालिकाहरूमा\n",
      "tmp_suffix:ालिकाहरूमा\n",
      "tmp_suffix:लिकाहरूमा\n",
      "tmp_suffix:िकाहरूमा\n",
      "tmp_suffix:काहरूमा\n",
      "tmp_suffix:ाहरूमा\n",
      "tmp_suffix:हरूमा\n",
      "tmp_suffix:रूमा\n",
      "tmp_suffix:ूमा\n",
      "tmp_suffix:मा\n",
      "\n",
      "suffix found\n",
      "comdition4\n",
      "\n",
      "Stripping suffix\n",
      "rule:57\n",
      "\n",
      "Suffix_del:मा\n",
      "मा .\n",
      "\n",
      "final stiped word: महानगरपालिकाहरू\n",
      "Checking root word or not\n",
      "\n",
      "Checking suffix present or not\n",
      "\n",
      "tmp_suffix:हानगरपालिकाहरू\n",
      "tmp_suffix:ानगरपालिकाहरू\n",
      "tmp_suffix:नगरपालिकाहरू\n",
      "tmp_suffix:गरपालिकाहरू\n",
      "tmp_suffix:रपालिकाहरू\n",
      "tmp_suffix:पालिकाहरू\n",
      "tmp_suffix:ालिकाहरू\n",
      "tmp_suffix:लिकाहरू\n",
      "tmp_suffix:िकाहरू\n",
      "tmp_suffix:काहरू\n",
      "tmp_suffix:ाहरू\n",
      "tmp_suffix:हरू\n",
      "\n",
      "suffix found\n",
      "comdition4\n",
      "\n",
      "Stripping suffix\n",
      "rule:1\n",
      "\n",
      "Suffix_del:हरू\n",
      "हरू .\n",
      "\n",
      "final stiped word: महानगरपालिका\n",
      "Checking root word or not\n",
      "\n",
      "Checking suffix present or not\n",
      "\n",
      "tmp_suffix:हानगरपालिका\n",
      "tmp_suffix:ानगरपालिका\n",
      "tmp_suffix:नगरपालिका\n",
      "tmp_suffix:गरपालिका\n",
      "tmp_suffix:रपालिका\n",
      "tmp_suffix:पालिका\n",
      "\n",
      "suffix found\n",
      "comdition4\n",
      "\n",
      "Stripping suffix\n",
      "rule:20\n",
      "\n",
      "Suffix_del:पालिका\n",
      "पालिका .\n",
      "\n",
      "final stiped word: महानगर\n",
      "Checking root word or not\n",
      "\n",
      "Checking suffix present or not\n",
      "\n",
      "tmp_suffix:हानगर\n",
      "tmp_suffix:ानगर\n",
      "tmp_suffix:नगर\n",
      "tmp_suffix:गर\n",
      "tmp_suffix:र\n",
      "\n",
      "suffix not found\n",
      "\n",
      "Checking prefix present or not\n",
      "\n",
      "tmp_prefix:म\n",
      "tmp_prefix:मह\n",
      "tmp_prefix:महा\n",
      "\n",
      "prefix found\n",
      "comdition5\n",
      "\n",
      "Stripping prefix\n",
      "rule:3\n",
      "\n",
      "Prefix_del:महा\n",
      "\n",
      "final stiped word: नगर\n",
      "Checking root word or not\n",
      "comdition1\n",
      "\n",
      "Root word found:नगर\n",
      "\n",
      "final stemmed token:नगर\n"
     ]
    }
   ],
   "source": [
    "rep,i,k,repc=0,0,0,0\n",
    "tokens=words\n",
    "new=[]\n",
    "unrecog=[]\n",
    "count=1\n",
    "for token in tokens:\n",
    "    p=\"yes\"\n",
    "    i,k = 0,0 #no. of suffix and prefix found\n",
    "    print(\"\\nUnstemmed input token\"+str(count)+\":\"+token)\n",
    "    orig_token=token\n",
    "    end=False\n",
    "    while (not end):\n",
    "        print(\"Checking root word or not\")\n",
    "        if (st.isRoot(token) or( st.isAltRoot(token) and i>0)):\n",
    "            print(\"comdition1\")\n",
    "            if( st.isAltRoot(token) and i>0):\n",
    "                st.setRoot(st.getAltRoot(token))\n",
    "                \n",
    "            else:\n",
    "                st.setRoot(token)\n",
    "                print(\"\\nRoot word found:\"+token)    \n",
    "            end=True\n",
    "            \n",
    "        elif (st.isRoot(token + \"\\u094d\")) :\n",
    "            print(\"comdition2\")\n",
    "\n",
    "            i+=1\n",
    "            st.setSMorph_number(i)\n",
    "            st.isASuffix(token)\n",
    "            token = st.getRoot()\n",
    "\n",
    "            \n",
    "        elif (token.endswith(\"\\u094d\") and st.isRoot(token[:len(token)-1])):\n",
    "            print(\"comdition3\")\n",
    "            token=token[:len(token)-1]\n",
    "            st.setRoot(token)\n",
    "\n",
    "        elif (st.suffixPresent(token,i)) :\n",
    "            print(\"comdition4\")\n",
    "            i+=1\n",
    "            st.setSMorph_number(i)\n",
    "            st.stripSuffix(token)\n",
    "            token = st.getRoot()\n",
    "\n",
    "        elif (st.prefixPresent(token)) :\n",
    "            print(\"comdition5\")\n",
    "            k+=1\n",
    "            st.setPMorph_number(k)\n",
    "            st.stripPrefix(token)\n",
    "            token = st.getRoot()\n",
    "            \n",
    "        else:\n",
    "            print(\"\\nRecombining suffix\")\n",
    "            \n",
    "#           if prefix and suffix present\n",
    "            if (k > 0 and i > 0) :\n",
    "                print(\"comdition6:bot suffix and prefix found previously\")\n",
    "\n",
    "                a = st.getPMorph()\n",
    "                print(\"PMorph:\"+str(a))\n",
    "                for k1 in range(k,0,-1):\n",
    "                    tmp = token\n",
    "                    for l in range(i,0,-1):\n",
    "                        tm = st.generateWord(tmp, l)\n",
    "                        print(\"generated word: \"+tm)\n",
    "\n",
    "                        if (st.isRoot(tm) or ( st.isAltRoot(tm) and i>0)):\n",
    "                            bk = 1\n",
    "                            st.setSMorph_number(l - 1)\n",
    "                            st.setPMorph_number(k)\n",
    "                            if(( st.isAltRoot(tm) and i>0)):\n",
    "                                st.setRoot(st.getAltRoot(tm))\n",
    "                            else:\n",
    "                                st.setRoot(tm)\n",
    "                            token = st.getRoot()\n",
    "                            break\n",
    "                        else:\n",
    "                            bk = 0\n",
    "                            tmp = tm\n",
    "                    \n",
    "                    if (bk == 1) :\n",
    "                        break\n",
    "                    \n",
    "\n",
    "                    if (k1 > 1):\n",
    "                        token = a[k1] + token\n",
    "\n",
    "                \n",
    "                if (bk != 1) :\n",
    "                    st.setRoot(\"unrecognized\")\n",
    "\n",
    "                    k = 0\n",
    "                \n",
    "\n",
    "            else: \n",
    "                print(\"comdition7:unrecognized\")\n",
    "\n",
    "                st.setRoot(\"unrecognized\")\n",
    "\n",
    "\n",
    "            if (st.getRoot()==(\"unrecognized\")):\n",
    "                rep+=1\n",
    "\n",
    "                repeat = 0\n",
    "#               for the second parse\n",
    "                if (rep == 1) :\n",
    "#                   check for if the any rulenumber of the suffix contains repeat sign \"Y\"\n",
    "                    for l in range(i,0,-1):\n",
    "                        if (st.isRepeat(str(st.getSMorph_rulenum(l)))):\n",
    "                            repeat = 1\n",
    "                            break #//for any suffix that has a repeat sign.\n",
    "                        else:\n",
    "                            repeat = 0\n",
    "                    \n",
    "                \n",
    "#               if any rulenumber has the suffix content as repeat sign\"Y\"\n",
    "                if (repeat == 1) :\n",
    "                    token = origtoken\n",
    "                    st.setPMorph_number(0)\n",
    "                    st.setSMorph_number(0)\n",
    "                    i = 0\n",
    "                    k = 0\n",
    "                    st.setSecParse(rep)\n",
    "                else:\n",
    "                    break\n",
    "    if(st.getRoot()==(\"unrecognized\")):\n",
    "        unrecog.append(orig_token)\n",
    "        new.append(orig_token)\n",
    "        print(\"\\nfinal token (couldnt stem):\"+orig_token)\n",
    "        \n",
    "    else:\n",
    "        new.append(st.getRoot())\n",
    "        print(\"\\nfinal stemmed token:\"+st.getRoot())\n",
    "    count+=1\n",
    "        \n",
    "        \n"
   ]
  },
  {
   "cell_type": "markdown",
   "metadata": {},
   "source": [
    "### Creating function"
   ]
  },
  {
   "cell_type": "code",
   "execution_count": 44,
   "metadata": {},
   "outputs": [],
   "source": [
    "from stemmer import Stemmer\n",
    "st=Stemmer()\n",
    "def stem(tokens):\n",
    "    rep,i,k,repc=0,0,0,0\n",
    "    new=[]\n",
    "    unrecog=[]\n",
    "    count=1\n",
    "    for token in tokens:\n",
    "        p=\"yes\"\n",
    "        i,k = 0,0 #no. of suffix and prefix found\n",
    "        #print(\"\\nUnstemmed input token\"+str(count)+\":\"+token)\n",
    "        orig_token=token\n",
    "        end=False\n",
    "        while (not end):\n",
    "            #print(\"Checking root word or not\")\n",
    "            if (st.isRoot(token) or( st.isAltRoot(token) and i>0)):\n",
    "                #print(\"comdition1\")\n",
    "                if( st.isAltRoot(token) and i>0):\n",
    "                    st.setRoot(st.getAltRoot(token))\n",
    "\n",
    "                else:\n",
    "                    st.setRoot(token)\n",
    "                    #print(\"\\nRoot word found:\"+token)\n",
    "                end=True\n",
    "\n",
    "            elif (st.isRoot(token + \"\\u094d\")) :\n",
    "                #print(\"comdition2\")\n",
    "\n",
    "                i+=1\n",
    "                st.setSMorph_number(i)\n",
    "                st.isASuffix(token)\n",
    "                token = st.getRoot()\n",
    "\n",
    "\n",
    "            elif (token.endswith(\"\\u094d\") and st.isRoot(token[:len(token)-1])):\n",
    "                #print(\"comdition3\")\n",
    "                token=token[:len(token)-1]\n",
    "                st.setRoot(token)\n",
    "\n",
    "            elif (st.suffixPresent(token,i)) :\n",
    "                #print(\"comdition4\")\n",
    "                i+=1\n",
    "                st.setSMorph_number(i)\n",
    "                st.stripSuffix(token)\n",
    "                token = st.getRoot()\n",
    "\n",
    "            elif (st.prefixPresent(token)) :\n",
    "                #print(\"comdition5\")\n",
    "                k+=1\n",
    "                st.setPMorph_number(k)\n",
    "                st.stripPrefix(token)\n",
    "                token = st.getRoot()\n",
    "\n",
    "            else:\n",
    "                #print(\"\\nRecombining suffix\")\n",
    "\n",
    "    #           if prefix and suffix present\n",
    "                if (k > 0 and i > 0) :\n",
    "                    #print(\"comdition6:bot suffix and prefix found previously\")\n",
    "\n",
    "                    a = st.getPMorph()\n",
    "                    #print(\"PMorph:\"+str(a))\n",
    "                    for k1 in range(k,0,-1):\n",
    "                        tmp = token\n",
    "                        for l in range(i,0,-1):\n",
    "                            tm = st.generateWord(tmp, l)\n",
    "                            #print(\"generated word: \"+tm)\n",
    "\n",
    "                            if (st.isRoot(tm) or ( st.isAltRoot(tm) and i>0)):\n",
    "                                bk = 1\n",
    "                                st.setSMorph_number(l - 1)\n",
    "                                st.setPMorph_number(k)\n",
    "                                if(( st.isAltRoot(tm) and i>0)):\n",
    "                                    st.setRoot(st.getAltRoot(tm))\n",
    "                                else:\n",
    "                                    st.setRoot(tm)\n",
    "                                token = st.getRoot()\n",
    "                                break\n",
    "                            else:\n",
    "                                bk = 0\n",
    "                                tmp = tm\n",
    "\n",
    "                        if (bk == 1) :\n",
    "                            break\n",
    "\n",
    "\n",
    "                        if (k1 > 1):\n",
    "                            token = a[k1] + token\n",
    "\n",
    "\n",
    "                    if (bk != 1) :\n",
    "                        st.setRoot(\"unrecognized\")\n",
    "\n",
    "                        k = 0\n",
    "\n",
    "\n",
    "                else:\n",
    "                    #print(\"comdition7:unrecognized\")\n",
    "\n",
    "                    st.setRoot(\"unrecognized\")\n",
    "\n",
    "\n",
    "                if (st.getRoot()==(\"unrecognized\")):\n",
    "                    rep+=1\n",
    "\n",
    "                    repeat = 0\n",
    "    #               for the second parse\n",
    "                    if (rep == 1) :\n",
    "    #                   check for if the any rulenumber of the suffix contains repeat sign \"Y\"\n",
    "                        for l in range(i,0,-1):\n",
    "                            if (st.isRepeat(str(st.getSMorph_rulenum(l)))):\n",
    "                                repeat = 1\n",
    "                                break #//for any suffix that has a repeat sign.\n",
    "                            else:\n",
    "                                repeat = 0\n",
    "\n",
    "\n",
    "    #               if any rulenumber has the suffix content as repeat sign\"Y\"\n",
    "                    if (repeat == 1) :\n",
    "                        token = origtoken\n",
    "                        st.setPMorph_number(0)\n",
    "                        st.setSMorph_number(0)\n",
    "                        i = 0\n",
    "                        k = 0\n",
    "                        st.setSecParse(rep)\n",
    "                    else:\n",
    "                        break\n",
    "        if(st.getRoot()==(\"unrecognized\")):\n",
    "            unrecog.append(orig_token)\n",
    "            new.append(orig_token)\n",
    "            #print(\"\\nfinal token (couldnt stem):\"+orig_token)\n",
    "\n",
    "        else:\n",
    "            new.append(st.getRoot())\n",
    "            #print(\"\\nfinal stemmed token:\"+st.getRoot())\n",
    "        count+=1\n",
    "    print(\"Words after stemming\")\n",
    "    print(new)\n",
    "    return new"
   ]
  },
  {
   "cell_type": "code",
   "execution_count": null,
   "metadata": {},
   "outputs": [],
   "source": []
  },
  {
   "cell_type": "markdown",
   "metadata": {},
   "source": [
    "## Combining preprocessing"
   ]
  },
  {
   "cell_type": "code",
   "execution_count": 45,
   "metadata": {},
   "outputs": [],
   "source": [
    "def preprocess(text):\n",
    "    sentences=tokenize_sentence(text)\n",
    "    words=tokenize_word(sentences)\n",
    "    words=clean_text(words)\n",
    "    words=remove_stopwords(words)\n",
    "    words=stem(words)\n",
    "    return words\n",
    "\n",
    "    "
   ]
  },
  {
   "cell_type": "code",
   "execution_count": 46,
   "metadata": {},
   "outputs": [
    {
     "data": {
      "text/plain": [
       "'परिश्रम नगरी हुन्छ? परिश्रम सफलताको ९९ एक-मात्र बाटो हो। जो महानगरपालिकाहरूमा परिश्रम गर्छ, उही सफल हुन्छ। अब त परिश्रम गर्छौ नि? नगरी कहाँ हुन्छ त!'"
      ]
     },
     "execution_count": 46,
     "metadata": {},
     "output_type": "execute_result"
    }
   ],
   "source": [
    "eg1=\"परिश्रम नगरी हुन्छ? परिश्रम सफलताको ९९ एक-मात्र बाटो हो। जो महानगरपालिकाहरूमा परिश्रम गर्छ, उही सफल हुन्छ। अब त परिश्रम गर्छौ नि? नगरी कहाँ हुन्छ त!\"\n",
    "eg1"
   ]
  },
  {
   "cell_type": "code",
   "execution_count": 47,
   "metadata": {},
   "outputs": [
    {
     "name": "stdout",
     "output_type": "stream",
     "text": [
      "Sentences\n",
      "['परिश्रम नगरी हुन्छ?', 'परिश्रम सफलताको ९९ एक-मात्र बाटो हो।', 'जो महानगरपालिकाहरूमा परिश्रम गर्छ, उही सफल हुन्छ।', 'अब त परिश्रम गर्छौ नि?', 'नगरी कहाँ हुन्छ त!']\n",
      "Words after tokenization\n",
      "['परिश्रम', 'नगरी', 'हुन्छ?', 'परिश्रम', 'सफलताको', '९९', 'एक-मात्र', 'बाटो', 'हो।', 'जो', 'महानगरपालिकाहरूमा', 'परिश्रम', 'गर्छ', 'उही', 'सफल', 'हुन्छ।', 'अब', 'त', 'परिश्रम', 'गर्छौ', 'नि?', 'नगरी', 'कहाँ', 'हुन्छ', 'त!']\n",
      "After removing special symbols and numbers\n",
      "['परिश्रम', 'नगरी', 'हुन्छ', 'परिश्रम', 'सफलताको', 'एकमात्र', 'बाटो', 'हो', 'जो', 'महानगरपालिकाहरूमा', 'परिश्रम', 'गर्छ', 'उही', 'सफल', 'हुन्छ', 'अब', 'त', 'परिश्रम', 'गर्छौ', 'नि', 'नगरी', 'कहाँ', 'हुन्छ', 'त']\n",
      "Words after removing stopwords\n",
      "['परिश्रम', 'नगरी', 'परिश्रम', 'सफलताको', 'एकमात्र', 'महानगरपालिकाहरूमा', 'परिश्रम', 'उही', 'सफल', 'परिश्रम', 'गर्छौ', 'नगरी']\n",
      "Words after stemming\n",
      "['परिश्रम', 'नगर', 'परिश्रम', 'सफलता', 'एक', 'नगर', 'परिश्रम', 'उही', 'सफल', 'परिश्रम', 'गर्', 'नगर']\n"
     ]
    }
   ],
   "source": [
    "tokens1=preprocess(eg1)"
   ]
  },
  {
   "cell_type": "code",
   "execution_count": 48,
   "metadata": {},
   "outputs": [
    {
     "data": {
      "text/plain": [
       "'परिश्रम नगरी हुन्छ? परिश्रम सफलताको बाटो हो। जो परिश्रम गर्छ, उही सफल हुन्छ। अब परिश्रम गर्छौ नि? नगरी हुन्छ त!'"
      ]
     },
     "execution_count": 48,
     "metadata": {},
     "output_type": "execute_result"
    }
   ],
   "source": [
    "eg2=\"परिश्रम नगरी हुन्छ? परिश्रम सफलताको बाटो हो। जो परिश्रम गर्छ, उही सफल हुन्छ। अब परिश्रम गर्छौ नि? नगरी हुन्छ त!\"\n",
    "eg2"
   ]
  },
  {
   "cell_type": "code",
   "execution_count": 49,
   "metadata": {},
   "outputs": [
    {
     "name": "stdout",
     "output_type": "stream",
     "text": [
      "Sentences\n",
      "['परिश्रम नगरी हुन्छ?', 'परिश्रम सफलताको बाटो हो।', 'जो परिश्रम गर्छ, उही सफल हुन्छ।', 'अब परिश्रम गर्छौ नि?', 'नगरी हुन्छ त!']\n",
      "Words after tokenization\n",
      "['परिश्रम', 'नगरी', 'हुन्छ?', 'परिश्रम', 'सफलताको', 'बाटो', 'हो।', 'जो', 'परिश्रम', 'गर्छ', 'उही', 'सफल', 'हुन्छ।', 'अब', 'परिश्रम', 'गर्छौ', 'नि?', 'नगरी', 'हुन्छ', 'त!']\n",
      "After removing special symbols and numbers\n",
      "['परिश्रम', 'नगरी', 'हुन्छ', 'परिश्रम', 'सफलताको', 'बाटो', 'हो', 'जो', 'परिश्रम', 'गर्छ', 'उही', 'सफल', 'हुन्छ', 'अब', 'परिश्रम', 'गर्छौ', 'नि', 'नगरी', 'हुन्छ', 'त']\n",
      "Words after removing stopwords\n",
      "['परिश्रम', 'नगरी', 'परिश्रम', 'सफलताको', 'परिश्रम', 'उही', 'सफल', 'परिश्रम', 'गर्छौ', 'नगरी']\n",
      "Words after stemming\n",
      "['परिश्रम', 'नगर', 'परिश्रम', 'सफलता', 'परिश्रम', 'उही', 'सफल', 'परिश्रम', 'गर्', 'नगर']\n"
     ]
    }
   ],
   "source": [
    "tokens2=preprocess(eg2)"
   ]
  },
  {
   "cell_type": "code",
   "execution_count": 50,
   "metadata": {},
   "outputs": [
    {
     "name": "stdout",
     "output_type": "stream",
     "text": [
      "['परिश्रम', 'नगर', 'परिश्रम', 'सफलता', 'एक', 'नगर', 'परिश्रम', 'उही', 'सफल', 'परिश्रम', 'गर्', 'नगर']\n"
     ]
    }
   ],
   "source": [
    "print(tokens1)"
   ]
  },
  {
   "cell_type": "code",
   "execution_count": 51,
   "metadata": {},
   "outputs": [
    {
     "name": "stdout",
     "output_type": "stream",
     "text": [
      "['परिश्रम', 'नगर', 'परिश्रम', 'सफलता', 'परिश्रम', 'उही', 'सफल', 'परिश्रम', 'गर्', 'नगर']\n"
     ]
    }
   ],
   "source": [
    "print(tokens2)"
   ]
  },
  {
   "cell_type": "code",
   "execution_count": 52,
   "metadata": {},
   "outputs": [],
   "source": [
    "eg3='''३० वर्षपछि मुलुकमा राजाको पञ्चायती व्यवस्थाको अवसान र एक पटक फेरि बहुदलीय व्यवस्थाको उदय भएको छ। यस सुखद घडीको पृष्ठभूमिमा नेपाली आमाका सयौं सपुतहरूले प्रजातन्त्रको निम्ति बलिबेदीमा आफ्नो अमूल्य जीवन न्यौछावर गरेका छन्। तपाईँ हाम्रै बीच निरङ्कुश व्यवस्थाको पोल खोल्ने जीवन्त साक्षीहरूको रूपमा यातना शिविरबाट फर्केका कैयौं अपाङ्गहरू अहिले पनि छँदैछन्। यस प्रजातान्त्रिक लडाइँलाई निरन्तरता दिने क्रममा तपाईँ हाम्रै गाउँघरमा कैयन् घरबारहरू राजनीतिक कारणले बेहाल बनाइएका छन्। जनताको अनवरत सङ्घर्ष र खासगरी अघिल्लो वर्ष राजनीतिक विचारधारा, बर्ग, धर्म, पेसा या जात जातिको कुनै भेदभाव नराखी एक ढिको ढिकको भएर नेपाली जनताको जुझारू र निर्णायक सङ्घर्षले ३० वर्षसम्म एकछत्र रजाइँ गर्दै आएको एक दलीय तानाशाही व्यवस्थालाई लत्‌र्याइयो। अथाह कष्ट, असह्य यातना र निर्मम शोषणमाथि बनेको निरङ्कुशताको महल अब रहेन। ३२ वर्षपछि नेपाली जनता बहुदलीय प्रतिस्पर्धात्मक वातावरणमा आम चुनावमा जान पाइ रहेका छन्। यस सुखद अवसरमा प्रजातान्त्रिक जनमञ्च निरङ्कुशता फाल्न र प्रजातन्त्र ल्याउन सहादत हुनुहुने तमाम शहीदहरूमा कृतज्ञता पूर्वक श्रद्धाञ्जली अर्पण गर्दछ। यस विजयमा नेपाली जनताको अजेय पौरख अभिव्यक्त भएको छ। हामी समस्त नेपाली जनतालाई हार्दिक अभिवादन गर्न चाहन्छौं। यस लामो प्रजातान्त्रिक सङ्घर्षमा सहभागी हुनुहुने तमाम योद्धाहरू धन्यवादका पात्र छन्। हाम्रो यो आन्दोलनमा विदेशी मित्रहरूको न्यानो नैतिक समर्थनले आन्दोलनको सफलताको निम्ति थप उर्जाको काम गर्‍यो। हामी हाम्रा समस्त विदेशी मित्रहरूको यस दिशामा भएको भूमिका र योगदानको उच्च मूल्याङ्कन गर्दछौ र यस पवन घडीमा वहाँहरू प्रति आभार प्रकट गर्दछौँ। प्रजातान्त्रिक जनमञ्च नेपालमा अहिलेसम्म बनेका राजनीतिक सङ्गठनमा सबभन्दा कान्छो सङ्गठन हो। गत २०४७ माघ २ गते मात्र विभिन्न क्षेत्रमा कार्यरत राजनीतिक व्यक्तिहरूको आपसी छलफल र विचार विनिमयको स्वाभाविक निष्कर्ष हो- जनमञ्च। राजनीतिक पार्टीको रूपमा विकास नभइसकेको भए पनि यसले यति छिटो अवधिमा नै जति बढी जन अभिरुचि, समर्थन र सहभागिता पाउन सकेको छ, त्यसले जनमञ्चको नवीन धाराको औचित्यलाई थप पुष्टि गरेको छ। ठूलो मूल्य चुकाएर प्राप्त गरेको प्रजातान्त्रिक उपलब्धिलाई सुदृढ तथा प्रवर्द्धन गर्न हिजोभन्दा बढी सतर्क र जिम्मेवारीका साथ लाग्नु सबै नेपालीहरूको परम दायित्व हो। प्रजातन्त्र-अभिव्यक्ति स्वतन्त्रता र सङ्गठन गर्ने अधिकार मात्र होइन। यसले जनताको गुणस्तरमा सुधार ल्याउन सक्नु पर्दछ। हिजोको शासनले विकास श्रीलङ्कामा हामीलाई पुछारमा मात्र छाडेन आम गरिबी, चरम विषमता र व्यापक बेरोजगारी पनि विरासतमा छाडेको छ। अहिले मुलुकको हालत भनेको बेवारिसे वालकको जस्तो लथालिङ्ग छ। त्यसैले अब आर्थिक सामाजिक क्षेत्रमा प्रजातान्त्रिक पुनर्गठन गर्नु हाम्रो चुनौतीपूर्ण कार्य हो। जनताको आर्थिक सामाजिक जीवनमा व्यापक सुधार ल्याएर मात्रै प्रजातन्त्रलाई सुदृढ र दिगो बनाउन सकिन्छ र मात्रै साँचो अर्थमा प्रजातन्त्रलाई \"जनताको, जनताद्वारा, जनताको निम्ति सरकार\" मा अनुवाद गर्न सकिन्छ। त्यसै पनि हाम्रो गरिबीले हाम्रो राष्ट्रिय स्वाभीमान र अस्मितालाई निर्बल त बनाएको छँदैछ, त्यसमाथि राष्ट्रियता सम्बन्धी समस्याहरू थाती राख्ने र थुपार्ने काम निरन्तर हुँदै आइरहेका छन्। अझ प्रजातन्त्रको नाममा राष्ट्रिय हितलाई किञ्चित् मात्र पनि आँच आउने काम हुन्छ कि भन्ने विषयमा आज राष्ट्रिय जागरुकता अरू आवश्यक बनेको छ। राष्ट्रिय सङ्कल्प र साहसका साथ हामीले विदेशसँगको सम्बन्धलाई पञ्चशीलका सिद्धान्तका आधारमा सुव्यवस्थित गर्नु पर्दछ। हाम्रो भूराजनीतिक अवस्थाले हामीलाई तर्कसङ्गत र लचिलो विदेशनीति अवलम्वन गर्न प्रेरित गरेको छ। तर यसको अर्थ स्वतन्त्र राष्ट्रिय व्यक्तित्व विकासमा आँच पुर्‍याउने या राष्ट्रिय हितलाई कुनै पनि बहानामा सौदाबाजी गर्ने हुनुहुँदैन। हामीबाट खास गरी चीन तथा भारतसँगको सम्बन्धमा सन्तुलित र सतर्क ढङ्गले घनिष्ट रूपमा समान व्यवहार गरिनु पर्दछ। प्रजातन्त्रको विकास प्रकृयामा हामी नितान्त सुषुप्त अवस्थामा छौँ। हामीले हाम्रा देशवासीलाई मानवजातिको अथक सङ्घर्ष र सभ्यताले सिर्जेका तथा परिष्कृत गरिएका आधुनिकतम मानव मूल्य अनुसरण गर्न सक्षम तुल्याउनु पर्दछ। व्यक्तिगत स्वतन्त्रता र सामाजिक उत्तरदायित्वको आदर्शतम सन्तुलन नै मानव सभ्यता र मानव प्रगतिको अन्तरलुप्‍त रहस्य हो भन्ने कुरा अब विवादको विषय रहेन। व्यक्तिगत स्वतन्त्रताको उपयोग गर्दा सामाजिक उत्तरदायित्वको हेक्का राखिनु पर्दछ। हाम्रो भविष्य र हाम्रो विकल्प भनेको राष्‍ट्रवादी प्रजातान्त्रिक विकल्प नै हो। हाम्रा घोषित लक्ष र सो प्रतिको निष्‍ठा र प्रतिवद्धताको गहनाले यथास्थिति का सीमालाई नाघ्दछ। वर्तमान सामाजिक आर्थिक संरचना र संस्थाबाट द्रुततर सामग्रिक विकासको आकाङ्क्षा फलीभूत हुन सक्दैन। प्रजातान्त्रिक ढङ्गले यस क्षेत्रमा विकासलाई गति दिने गरी परिवर्तन ल्याउनु पर्दछ। त्यसैले प्रजातान्त्रिक जनमञ्चले सामाजिक आर्थिक क्रान्तिको बिगुल फुक्दै आमूल परिवर्तन कारी प्रजातान्त्रिक विकल्पको अवधारणा अघि सारेको हो। स्थापित राजनीतिक शक्तिहरूबाट राष्‍ट्रवादी प्रजातान्त्रिक अभिभारा सम्पन्न हुने आशा राख्ने ठाउँ छैन। राजाको शक्तिले मुलुकलाई निरङ्कुशतामा जकडेको मात्र नभएर आर्थिक सामाजिक रूपमा रसातलमा पुर्‍याइ दियो। राजनीतिक नेतृत्व विशेष शक्ति या कुलको निम्ति सार्वकालिक रूपमा सुरक्षित गर्ने विषय होइन। सत्तामा राजनीतिक एकाधिकारको नाम नै तानाशाही या निरङ्कुश तन्त्र हो। जनताको नाममा पार्टी नोकरशाहहरूले या प्रजातन्त्रको नाममा सम्भ्रान्तहरूले शासन गर्ने परिपाटी अभिशापपूर्ण रहेको तथ्य सबैको सामु छर्लङ्ग छ। सत्तामा राजनीतिक नेतृत्व आवधिक रूपमा जनताको अनुमोदन लिई रहनु पर्दछ र प्रतिस्पर्धालाई स्विकार्नु पर्दछ। अर्कोतिर सत्ता लिप्साको निम्ति राष्ट्रिय स्वार्थलाई गौण र सौदाबाजीको विषय बनाउने र राष्ट्रिय हितको जगेर्ना भन्दा पनि पराई मुलुकको हितमा वकालत गर्ने प्रवृत्ति पनि राजनीतिक शक्तिहरूमा छदैछ। नयाँ राजनीतिक नेतृत्वको खाँचो, यसैले परेको हो। प्रजातान्त्रिक जनमञ्च यस दिशामा प्रारंभिक पाइलो हो। हामी सवल प्रजातान्त्रिक विकल्प विकासको निम्ति कृतसङ्कल्पित छौँ। जातीय तथा भौगोलिक बनोटको हिसाबले हाम्रो देश भिन्नताको मेल हो। बिभिन्न जातजाति भाषाभाषी र उनीहरूको आ- आफ्नै परम्परा र संस्कृतिले नेपाललाई \"सयौं फूलहरूको फूलबारी\" बनाइ दिएको छ। हामी कहाँ धर्म, भाषा, भेष भूषा, चाडबाड, रीतिरिवाज चलन वा परम्पराको भिन्नताले अलग अलग जातीय अस्तित्व बोकेको मात्र नभएर पारस्परिक समझदारी, सदभाव, सहिष्णुता र एकताको आदर्श भावले साझा राष्ट्रिय संस्कृतिको धरोहर खडा गरेको छ। यति हुँदाहुँदै पनि यस क्षेत्रमा समस्याहरू छन्। शासक वर्गका क्रियाकलापबाट विभिन्न जाती, भाषा तथा संस्कृति बीच विभेद भएको छ। सामाजिक विकासका प्रवाहमा कतिपय जातिहरू खास गरी जनजातिहरू पछि परेका छन्। असमान जातीय विकासले सृजेका समस्याहरू सधैं भरि थाती राखेर वा उपेक्षा गरेर राख्न मिल्दैन। जनतामा जातीय भेदभावको बोध विकास हुन थालेपछि त्यसले कस्तो भयावह रूप लिन्छ भन्ने कुरा हामीले छिमेकी मुलुककै विकासक्रमबाट हेरे पनि प्रष्ट हुन्छ। आगामी दिनमा हामीले प्राथमिकताका साथ समाधान गर्नु पर्ने समस्या यो पनि हो। तर सबैले के कुरा बुझ्नु जरुरी छ भने यो समस्या विद्यमान छ भन्ने नाउँमा यसलाई जातीय मेलमिलाप र राष्ट्रिय अखण्डतामा खलल पुग्ने गरी साम्प्रदायिकता भडकाउने या राष्ट्रिय विघटन कार्यमा सघाउ पुर्‍याउने कार्य गर्न कसैलाई अनुमति हुने छैन। हिजोको निरङ्कुश शासनको तर काढेर बसेकाहरू जातीय हितका इसामसिह बन्न खोजेको हरकतलाई खास गरी सम्बन्धित क्षेत्रबाट नै स्यालको निरर्थक धुर्त्याई हो भनेर बुझ्न र बुझाउन जरुरी छ। यसै गरी हाम्रो भौगोलिक बनोटका अतिरिक्त शासक वर्गहरूको असन्तुलित नीति र सीमान्त क्षेत्रको शोषणबाट केन्द्र सिंगार्ने नीतिले गर्दा क्षेत्रीय विकासमा जवर्जस्त असन्तुलन कायम हुन गएको छ। दुर्गम तथा पहाडी क्षेत्र, सुदूर पश्चिम इलाका विकास प्रवाहमा समाहित हुन सकेका छैनन्। सिमान्त क्षेत्रको तराई त्यस्तै जर्जर र उजाड छ। यस असन्तुलनलाई हामीले कहिले सम्म थेग्न सक्छौँ? अब उप्रान्त विकास सम्बन्धी नीति, कार्यक्रम तथा परियोजना तर्जुमा तथा सञ्चालन गर्दा यस असन्तुलनलाई मध्ये नजर राखेर सञ्चालन गरिनु पर्दछ र पिछडिएका क्षेत्रमा प्राथमिकता दिनु पर्दछ। आदरणीय देशवासीहरू ! आमा निर्वाचनको दिन नजिकिंदै छ। कम्तीमा राष्ट्रलाई आगामी पाँच वर्षका निम्ति दिशा दिने काम यस निर्वाचनबाट गठित संसद र सरकारले गर्ने छ। संसद र सरकारको बनोटलाई विद्यमान पार्टी र उनीहरूको प्रत्यासीहरूले प्रभावित गर्ने भएको हुँदा उनीहरूप्रति मोटामोटी रूपमा विचार बनाउनु जरुरी छ। अहिले मूलतः यस निर्वाचनमा निम्न राजनीतिक शक्तिहरू क्रियाशील रहेका छन्। \n",
    "१ राजाको पञ्चायती शक्ति- बहुदलीय व्यवस्था पुनर्स्थापनको लगत्तै पछि एकै दिन एउटै झण्डा बोकि एउटै नाममा खुलेका दुईवटा राष्ट्रिय प्रजातन्त्र पार्टी राजा र राजदरबारकै जुम्ल्याहा बच्चा हुन् भन्नुमा अत्युक्ति नहोला। पञ्चायतको परिवर्तित रूपलाई यिनीहरूले प्रतिनिधित्व गर्दछन्। यिनीहरूले विगत ३० वर्षमा कयौं पटक राजाको सकृय नेतृत्वको कसम खाएका छन्। राजा पनि त्यसैगरी नाचेका छन्। निर्दलीयताको नाममा निर्मन दमनबाट चलेको तानाशाही शासन नै उनीहरूको पुर्ख्यौली राजनीतिक सम्पत्ति हो। शोषण विहिन् समाज निर्माण गर्ने नाममा उनीहरूले राष्ट्रको सर्वस्व लुटेका छन् र अथाह सम्पाति विदेशमा थुपारेका छन्। ३० वर्षको उनीहरूको कुकर्मलाई हेरेर इतिहासले जुन निर्णय दिएको छ त्यसलाई राज्यसत्ता र ब्रह्मलुटको सम्पत्तिले उल्ट्‍याउन उनीहरू भरमग्दुर लागेका छन्। इतिहासको पाङ्ग्रालाई पछि धकेल्ने उनीहरूका दुश्‍चेष्‍टा किमार्थ सफल हुने छैनन्। अन्तरिम मन्त्रिमण्डलले जनादेशको शाहसपूर्वक कार्यान्वयन गर्न नसकेर पनि उनीहरू अहिले छाती खोल्न पाइरहेका छन्। इतिहासको निर्णयलाई बदर गराउन खोज्ने यस शक्तिलाई आगामी निर्वाचनले पनि यसरी ङ्याक्नु पर्दछ जसले गर्दा पुनः अर्को तानाशाही शक्ति शिर उठाउने हिम्मत गर्न नसकोस्। \n",
    "२. नेपाली काँग्रेस- राजाको निरङ्कुशताको रूपमा रहेको पञ्चायती व्यवस्थालाई मास्न र बहुदलीय व्यवस्थाको स्थापनाको निम्ति नेपाली काङ्ग्रेसले गरेको योगदान सराहनीय छ। पञ्चायत विरोधी आन्दोलनकारी शक्तिहरूसँगको संयुक्त आन्दोलनको विरोध र खासगरी ३० को दशकमा आएर निरङ्कुश राजतन्त्रसँगको मेलमिलापको नीतिले गर्दा नै पञ्चायतको आयु यतिसम्म लामो हुन गएको हो। गएको जन आन्दोलनमा आन्दोलनको उद्‍घोष मात्र होइन तालमेल कै हदसम्म भए पनि संयुक्त आन्दोलनमा आउने उसको निर्णय प्रजातान्त्रिक आन्दोलनको विकासको निम्ति निर्णायक मोड बन्न पुग्यो। आन्दोलनको सफलता पछि कम्युनिष्ट तथा राजाको शक्तिलाई साथमा लिएर सत्ता सम्हाले पछि चरित्रगत कारणले नै यसले राजाको निरङ्कुशतामा हुर्केका राजनीतिक तथा आर्थिक अपराधीहरूलाई कार्यवाही गर्नमा उदासीनता मात्र देखाएन जघन्य अपराधीहरूलाई समेत छोड्ने हास्यास्पद काम समेत गर्न सङ्कोच मानेन। अहिले पार्टीभित्र राष्ट्रियता तथा प्रजातन्त्र विरोधी शक्तिले प्रश्रय पाइरहेका छन्। यही कारण हिजोका वरिष्ठ पञ्चहरूले समेत यसमा प्रवेश पाएका हुन्। प्रबल पार्टी ब्युरोक्रेसी र आन्तरिक प्रजातन्त्रको अभावको बारेमा पार्टीका स्वयम् कार्यकर्ताहरू आवाज उठाइरहेका छन्। \"चीनसँग मित्रता र भारतसँग घनिष्‍टता\" को यसको घोषित नीतिको दुष्परिणामहरू प्रकट हुन थालेका छन्।१९५० र १९६५ को सन्धिको अन्यायपूर्ण प्रावधानले राष्ट्रिय स्वार्थ र स्वाभीमानलाई किचिरहेको छ। त्यस माथि अरू बोझहरू थपिँदै छन्। कोशी र गण्डकी सम्झौतामा लागेको राष्ट्रिय कलङ्क र ठगिएको घाउ आलै छ। भारत आफ्नो प्रतिरक्षा अवधारणा मनाउन दवाब दिइरहेको छ। भारतीय एकाधिकार पूँजीको जकडबाट नेपाली अर्थतन्त्र आक्रान्त छ। स्वतन्त्र राष्ट्रिय अर्थतन्त्रको विकासमा खुला सीमाना एउटा तगारो हो। सीमाना नियन्त्रण गर्ने राष्ट्रिय जागरण बढी रहेको छ। यो बेला साझा नदी, साझा मुद्रा र कुनै कुनै कुनाबाट साझा सरकारको समेत कुरा उठ्नुले मुलुकको राष्‍ट्रवादी शक्ति चिन्तित र ससङ्कित हुनु र सजगता देखाउनु स्वाभाविक हो। वर्तमान संविधानमा महत्वपूर्ण सन्धि सम्झौता गरिँदा सदनको दुई तिहाइ बहुमतको अनुमोदन चाहिने प्रावधान छ। यसको ध्येय राष्ट्रिय हितका विषयमा निर्णय लिइँदा राष्ट्रिय सहमति खोज्ने नै हो। राष्ट्रिय हितलाई कुनै पार्टी विशेषको सेन्टिमेन्टले डिक्टेट गरिनु हुँदैन। नेपाली काँग्रेसमा वर्तमान सामाजिक, आर्थिक संरचनालाई विकास र जनताको पक्षमा आमूल परिवर्तन गराउने सङ्कल्प शक्तिको सर्वथा अभाव छ। यथास्थितिलाई कायम राखेर ल्याइने प्रजातान्त्रिक समाजवादको रूप के होला? समाजको विपन्न र असक्त वर्गले नयाँ परिवर्तनलाई कसरी अनुभव गर्ने? नेपाली काँग्रेसले पूर्ववर्ती शासनका आर्थिक सामाजिक नीतिहरूलाई विरासतमा लिने र उनीहरूकै पदचिह्नमा हिँड्ने सङ्केत गरी सकेको छ। \n",
    "३. कम्युनिष्ट शक्ति- नेपालको वर्तमान शक्ति समीकरणमा अर्को महत्वपूर्ण शक्ति कम्युनिष्ट शक्ति हो। राष्ट्रियताका सवालमा र प्रजातन्त्र स्थापनाको सङ्घर्षमा यसको योगदान सकारात्मक रहेको तथ्यलाई कसैले इन्कार्न मिल्दैन। यसैकारण नै विश्व कम्युनिष्ट आन्दोलन सङ्कटबाट गुज्रिरहेको भए पनि यहाँ कम्युनिष्ट आन्दोलन प्रबल रूपमा रहेको छ। यति हुँदाहुँदै पनि यो आन्दोलन एकीकृत आन्दोलन होइन। विभिन्न धारा र चिरामा विभक्त यो आन्दोलनको विभाजन जनता र राष्ट्रका प्रश्‍नमा भन्दा पनि नेतृत्व तृष्णा, विदेशी नक्कल र जडसूत्रको अनुसरणमा भएको छ। बेला बखत यो आन्दोलन उग्र बामपन्थ र दक्षिणपन्थको सिकार रहेको कुरा स्वयम् कम्युनिष्टहरू स्विकार्दछन्। यतिमात्र होइन उनीहरू अहिले पनि एक अर्कालाई दक्षिणपन्थी र जडसूत्रवादीको आरोप प्रत्यारोप लगाइ रहेका छन्। सामाजिक अन्याय र शोषणको विरुद्धमा आवाज उठाउने काम त यस आन्दोलनबाट भएको छ तर तर्कसङ्गत सामाजिक न्याय र समुन्नति कसरी स्थापित गर्ने बारेमा नेपाली कम्युनिष्टहरूले कुनै भरपर्दो कार्यक्रम दिन सकेका छैनन्। नेपाली कम्युनिष्ट आन्दोलन बृहत्तर प्रजातान्त्रिक आन्दोलनको एक हिस्सा भएर पनि यसले नेपालको भूराजनीतिक यथार्थको नेतृत्व गर्न सक्दैन। कठोर पार्टी ब्युरोक्रेसी, आन्तरिक जनवादको अभाव र अनवरत पार्टीसत्ता सङ्घर्ष यस आन्दोलनका भित्री विशेषताहरू हुन्। खुल्ला समाज र बहुदलीय प्रतिस्पर्धात्मक राजनीतिलाई ठाडै या घुमाउरो पाराले अस्वीकार गर्ने र सत्तामा कम्युनिष्ट नेतृत्व एकाधिकारको वकालत गर्ने धारा अहिले पनि यस आन्दोलनभित्र छँदैछ। राष्‍ट्र र जनतासँग जिम्मेवार भएर प्रभावकारी र तर्क सङ्गत राष्ट्रिय दिशा निर्क्यौल गर्नमा भन्दा पनि यो आन्दोलन \"वाल रोग\" को बढी सिकार छ। यस आमनिर्वाचनको सिलसिलामा \"एक बाम एक ठाम\" को प्रस्तावलाई कम्युनिष्टहरू बाटै धुजा धुजा पारियो। उनीहरूको सत्ता लिप्सा, अपरिपक्वता, अहम्, र गैह्र जिम्मेवारीलाई नाप्ने यो भन्दा अरू कुनै मापदण्ड चाहिन्छ र? नेपाली इतिहासमा पहिलो पटक कम्युनिष्टहरू यसपाली सत्तामा अंशियार बन्न पुगेका हुन्। अन्तरिम मन्त्रि मण्डलका सफलता र असफलता नै उनीहरूको पनि वासलात हो। उनीहरू सत्तामा रहेको जनताले राष्ट्रिय जीवनको कुन पक्षमा अनुभव गर्न पाए त्यसको इतिहासले मूल्याङ्कन गर्ने नै छ। हामी यति भन्न विवश छौँ सत्तामा रहेकाहरूले आफ्नो छविलाई विवादास्पद बनाउनबाट जोगाउन सकेनन्। \n",
    "४. जातीय तथा साम्प्रदायिक शक्तिहरू जन आन्दोलन पछि नै प्रकट रूपमा जातीय तथा साम्प्रदायिक आधारमा सङ्गठित हुने प्रक्रिया पनि हामी कहाँ देखिएको छ। जातीय अर्थात् साम्प्रदायिक समस्या विद्यमान छ भन्नु, त्यसको उपयुक्त समाधानको खोजी गर्नु र आफ्नो हित तथा उत्थानको निम्ति सङ्गठित प्रयास गर्नु राम्रो कुरा हो। तर पिछडिएका जातिको उत्थानको नाममा वा जातीय अन्तर विरोध नै प्रधान अन्तर विरोध हो भन्ने नाममा जाती जाती बीचको जातीय तथा साम्प्रदायिक सद्‌भावलाई बिथोल्ने गरी या जातीय साम्प्रदायिक दङ्गा भड्काउने क्रियाकलाप कसैबाट पनि हुनुहुँदैन। जातीय तथा साम्प्रदायिक समस्या समाधानको निम्ति केही क्षेत्रबाट सङ्घीय राज्य, स्वायत्त क्षेत्र, पछि परेका जात तथा जनजातिहरूको निम्ति आरक्षण तथा जातीय समानुपातिक प्रतिनिधित्व जस्ता कुरा पनि अघि सारिएका छन्। जातीय भेदभाव र पछौटेपनको समाधान प्रजातान्त्रिक प्रक्रियाबाट नै गरिनु पर्दछ र यसको निम्ति हाम्रो यथार्थभित्र राष्ट्रिय छलफल गर्नु र राष्ट्रिय सहमति निकाल्नु आवश्यक छ जातीय समस्या प्रतिगामी तथा विदेशी शक्ति घुस्ने सबभन्दा सरल राजमार्ग हो भन्ने कुरा सम्बन्धित सबै क्षेत्रले बुझ्नु अनिवार्य छ र त्यसलाई बेलैमा निराकरण गर्ने तर्फ पाइला चाल्नु पर्दछ। \n",
    "'''"
   ]
  },
  {
   "cell_type": "code",
   "execution_count": 53,
   "metadata": {},
   "outputs": [
    {
     "name": "stdout",
     "output_type": "stream",
     "text": [
      "Sentences\n",
      "['३० वर्षपछि मुलुकमा राजाको पञ्चायती व्यवस्थाको अवसान र एक पटक फेरि बहुदलीय व्यवस्थाको उदय भएको छ।', 'यस सुखद घडीको पृष्ठभूमिमा नेपाली आमाका सयौं सपुतहरूले प्रजातन्त्रको निम्ति बलिबेदीमा आफ्नो अमूल्य जीवन न्यौछावर गरेका छन्।', 'तपाईँ हाम्रै बीच निरङ्कुश व्यवस्थाको पोल खोल्ने जीवन्त साक्षीहरूको रूपमा यातना शिविरबाट फर्केका कैयौं अपाङ्गहरू अहिले पनि छँदैछन्।', 'यस प्रजातान्त्रिक लडाइँलाई निरन्तरता दिने क्रममा तपाईँ हाम्रै गाउँघरमा कैयन् घरबारहरू राजनीतिक कारणले बेहाल बनाइएका छन्।', 'जनताको अनवरत सङ्घर्ष र खासगरी अघिल्लो वर्ष राजनीतिक विचारधारा, बर्ग, धर्म, पेसा या जात जातिको कुनै भेदभाव नराखी एक ढिको ढिकको भएर नेपाली जनताको जुझारू र निर्णायक सङ्घर्षले ३० वर्षसम्म एकछत्र रजाइँ गर्दै आएको एक दलीय तानाशाही व्यवस्थालाई लत्\\u200cर्याइयो।', 'अथाह कष्ट, असह्य यातना र निर्मम शोषणमाथि बनेको निरङ्कुशताको महल अब रहेन।', '३२ वर्षपछि नेपाली जनता बहुदलीय प्रतिस्पर्धात्मक वातावरणमा आम चुनावमा जान पाइ रहेका छन्।', 'यस सुखद अवसरमा प्रजातान्त्रिक जनमञ्च निरङ्कुशता फाल्न र प्रजातन्त्र ल्याउन सहादत हुनुहुने तमाम शहीदहरूमा कृतज्ञता पूर्वक श्रद्धाञ्जली अर्पण गर्दछ।', 'यस विजयमा नेपाली जनताको अजेय पौरख अभिव्यक्त भएको छ।', 'हामी समस्त नेपाली जनतालाई हार्दिक अभिवादन गर्न चाहन्छौं।', 'यस लामो प्रजातान्त्रिक सङ्घर्षमा सहभागी हुनुहुने तमाम योद्धाहरू धन्यवादका पात्र छन्।', 'हाम्रो यो आन्दोलनमा विदेशी मित्रहरूको न्यानो नैतिक समर्थनले आन्दोलनको सफलताको निम्ति थप उर्जाको काम गर्\\u200dयो।', 'हामी हाम्रा समस्त विदेशी मित्रहरूको यस दिशामा भएको भूमिका र योगदानको उच्च मूल्याङ्कन गर्दछौ र यस पवन घडीमा वहाँहरू प्रति आभार प्रकट गर्दछौँ।', 'प्रजातान्त्रिक जनमञ्च नेपालमा अहिलेसम्म बनेका राजनीतिक सङ्गठनमा सबभन्दा कान्छो सङ्गठन हो।', 'गत २०४७ माघ २ गते मात्र विभिन्न क्षेत्रमा कार्यरत राजनीतिक व्यक्तिहरूको आपसी छलफल र विचार विनिमयको स्वाभाविक निष्कर्ष हो- जनमञ्च।', 'राजनीतिक पार्टीको रूपमा विकास नभइसकेको भए पनि यसले यति छिटो अवधिमा नै जति बढी जन अभिरुचि, समर्थन र सहभागिता पाउन सकेको छ, त्यसले जनमञ्चको नवीन धाराको औचित्यलाई थप पुष्टि गरेको छ।', 'ठूलो मूल्य चुकाएर प्राप्त गरेको प्रजातान्त्रिक उपलब्धिलाई सुदृढ तथा प्रवर्द्धन गर्न हिजोभन्दा बढी सतर्क र जिम्मेवारीका साथ लाग्नु सबै नेपालीहरूको परम दायित्व हो।', 'प्रजातन्त्र-अभिव्यक्ति स्वतन्त्रता र सङ्गठन गर्ने अधिकार मात्र होइन।', 'यसले जनताको गुणस्तरमा सुधार ल्याउन सक्नु पर्दछ।', 'हिजोको शासनले विकास श्रीलङ्कामा हामीलाई पुछारमा मात्र छाडेन आम गरिबी, चरम विषमता र व्यापक बेरोजगारी पनि विरासतमा छाडेको छ।', 'अहिले मुलुकको हालत भनेको बेवारिसे वालकको जस्तो लथालिङ्ग छ।', 'त्यसैले अब आर्थिक सामाजिक क्षेत्रमा प्रजातान्त्रिक पुनर्गठन गर्नु हाम्रो चुनौतीपूर्ण कार्य हो।', 'जनताको आर्थिक सामाजिक जीवनमा व्यापक सुधार ल्याएर मात्रै प्रजातन्त्रलाई सुदृढ र दिगो बनाउन सकिन्छ र मात्रै साँचो अर्थमा प्रजातन्त्रलाई \"जनताको, जनताद्वारा, जनताको निम्ति सरकार\" मा अनुवाद गर्न सकिन्छ।', 'त्यसै पनि हाम्रो गरिबीले हाम्रो राष्ट्रिय स्वाभीमान र अस्मितालाई निर्बल त बनाएको छँदैछ, त्यसमाथि राष्ट्रियता सम्बन्धी समस्याहरू थाती राख्ने र थुपार्ने काम निरन्तर हुँदै आइरहेका छन्।', 'अझ प्रजातन्त्रको नाममा राष्ट्रिय हितलाई किञ्चित् मात्र पनि आँच आउने काम हुन्छ कि भन्ने विषयमा आज राष्ट्रिय जागरुकता अरू आवश्यक बनेको छ।', 'राष्ट्रिय सङ्कल्प र साहसका साथ हामीले विदेशसँगको सम्बन्धलाई पञ्चशीलका सिद्धान्तका आधारमा सुव्यवस्थित गर्नु पर्दछ।', 'हाम्रो भूराजनीतिक अवस्थाले हामीलाई तर्कसङ्गत र लचिलो विदेशनीति अवलम्वन गर्न प्रेरित गरेको छ।', 'तर यसको अर्थ स्वतन्त्र राष्ट्रिय व्यक्तित्व विकासमा आँच पुर्\\u200dयाउने या राष्ट्रिय हितलाई कुनै पनि बहानामा सौदाबाजी गर्ने हुनुहुँदैन।', 'हामीबाट खास गरी चीन तथा भारतसँगको सम्बन्धमा सन्तुलित र सतर्क ढङ्गले घनिष्ट रूपमा समान व्यवहार गरिनु पर्दछ।', 'प्रजातन्त्रको विकास प्रकृयामा हामी नितान्त सुषुप्त अवस्थामा छौँ।', 'हामीले हाम्रा देशवासीलाई मानवजातिको अथक सङ्घर्ष र सभ्यताले सिर्जेका तथा परिष्कृत गरिएका आधुनिकतम मानव मूल्य अनुसरण गर्न सक्षम तुल्याउनु पर्दछ।', 'व्यक्तिगत स्वतन्त्रता र सामाजिक उत्तरदायित्वको आदर्शतम सन्तुलन नै मानव सभ्यता र मानव प्रगतिको अन्तरलुप्\\u200dत रहस्य हो भन्ने कुरा अब विवादको विषय रहेन।', 'व्यक्तिगत स्वतन्त्रताको उपयोग गर्दा सामाजिक उत्तरदायित्वको हेक्का राखिनु पर्दछ।', 'हाम्रो भविष्य र हाम्रो विकल्प भनेको राष्\\u200dट्रवादी प्रजातान्त्रिक विकल्प नै हो।', 'हाम्रा घोषित लक्ष र सो प्रतिको निष्\\u200dठा र प्रतिवद्धताको गहनाले यथास्थिति का सीमालाई नाघ्दछ।', 'वर्तमान सामाजिक आर्थिक संरचना र संस्थाबाट द्रुततर सामग्रिक विकासको आकाङ्क्षा फलीभूत हुन सक्दैन।', 'प्रजातान्त्रिक ढङ्गले यस क्षेत्रमा विकासलाई गति दिने गरी परिवर्तन ल्याउनु पर्दछ।', 'त्यसैले प्रजातान्त्रिक जनमञ्चले सामाजिक आर्थिक क्रान्तिको बिगुल फुक्दै आमूल परिवर्तन कारी प्रजातान्त्रिक विकल्पको अवधारणा अघि सारेको हो।', 'स्थापित राजनीतिक शक्तिहरूबाट राष्\\u200dट्रवादी प्रजातान्त्रिक अभिभारा सम्पन्न हुने आशा राख्ने ठाउँ छैन।', 'राजाको शक्तिले मुलुकलाई निरङ्कुशतामा जकडेको मात्र नभएर आर्थिक सामाजिक रूपमा रसातलमा पुर्\\u200dयाइ दियो।', 'राजनीतिक नेतृत्व विशेष शक्ति या कुलको निम्ति सार्वकालिक रूपमा सुरक्षित गर्ने विषय होइन।', 'सत्तामा राजनीतिक एकाधिकारको नाम नै तानाशाही या निरङ्कुश तन्त्र हो।', 'जनताको नाममा पार्टी नोकरशाहहरूले या प्रजातन्त्रको नाममा सम्भ्रान्तहरूले शासन गर्ने परिपाटी अभिशापपूर्ण रहेको तथ्य सबैको सामु छर्लङ्ग छ।', 'सत्तामा राजनीतिक नेतृत्व आवधिक रूपमा जनताको अनुमोदन लिई रहनु पर्दछ र प्रतिस्पर्धालाई स्विकार्नु पर्दछ।', 'अर्कोतिर सत्ता लिप्साको निम्ति राष्ट्रिय स्वार्थलाई गौण र सौदाबाजीको विषय बनाउने र राष्ट्रिय हितको जगेर्ना भन्दा पनि पराई मुलुकको हितमा वकालत गर्ने प्रवृत्ति पनि राजनीतिक शक्तिहरूमा छदैछ।', 'नयाँ राजनीतिक नेतृत्वको खाँचो, यसैले परेको हो।', 'प्रजातान्त्रिक जनमञ्च यस दिशामा प्रारंभिक पाइलो हो।', 'हामी सवल प्रजातान्त्रिक विकल्प विकासको निम्ति कृतसङ्कल्पित छौँ।', 'जातीय तथा भौगोलिक बनोटको हिसाबले हाम्रो देश भिन्नताको मेल हो।', 'बिभिन्न जातजाति भाषाभाषी र उनीहरूको आ- आफ्नै परम्परा र संस्कृतिले नेपाललाई \"सयौं फूलहरूको फूलबारी\" बनाइ दिएको छ।', 'हामी कहाँ धर्म, भाषा, भेष भूषा, चाडबाड, रीतिरिवाज चलन वा परम्पराको भिन्नताले अलग अलग जातीय अस्तित्व बोकेको मात्र नभएर पारस्परिक समझदारी, सदभाव, सहिष्णुता र एकताको आदर्श भावले साझा राष्ट्रिय संस्कृतिको धरोहर खडा गरेको छ।', 'यति हुँदाहुँदै पनि यस क्षेत्रमा समस्याहरू छन्।', 'शासक वर्गका क्रियाकलापबाट विभिन्न जाती, भाषा तथा संस्कृति बीच विभेद भएको छ।', 'सामाजिक विकासका प्रवाहमा कतिपय जातिहरू खास गरी जनजातिहरू पछि परेका छन्।', 'असमान जातीय विकासले सृजेका समस्याहरू सधैं भरि थाती राखेर वा उपेक्षा गरेर राख्न मिल्दैन।', 'जनतामा जातीय भेदभावको बोध विकास हुन थालेपछि त्यसले कस्तो भयावह रूप लिन्छ भन्ने कुरा हामीले छिमेकी मुलुककै विकासक्रमबाट हेरे पनि प्रष्ट हुन्छ।', 'आगामी दिनमा हामीले प्राथमिकताका साथ समाधान गर्नु पर्ने समस्या यो पनि हो।', 'तर सबैले के कुरा बुझ्नु जरुरी छ भने यो समस्या विद्यमान छ भन्ने नाउँमा यसलाई जातीय मेलमिलाप र राष्ट्रिय अखण्डतामा खलल पुग्ने गरी साम्प्रदायिकता भडकाउने या राष्ट्रिय विघटन कार्यमा सघाउ पुर्\\u200dयाउने कार्य गर्न कसैलाई अनुमति हुने छैन।', 'हिजोको निरङ्कुश शासनको तर काढेर बसेकाहरू जातीय हितका इसामसिह बन्न खोजेको हरकतलाई खास गरी सम्बन्धित क्षेत्रबाट नै स्यालको निरर्थक धुर्त्याई हो भनेर बुझ्न र बुझाउन जरुरी छ।', 'यसै गरी हाम्रो भौगोलिक बनोटका अतिरिक्त शासक वर्गहरूको असन्तुलित नीति र सीमान्त क्षेत्रको शोषणबाट केन्द्र सिंगार्ने नीतिले गर्दा क्षेत्रीय विकासमा जवर्जस्त असन्तुलन कायम हुन गएको छ।', 'दुर्गम तथा पहाडी क्षेत्र, सुदूर पश्चिम इलाका विकास प्रवाहमा समाहित हुन सकेका छैनन्।', 'सिमान्त क्षेत्रको तराई त्यस्तै जर्जर र उजाड छ।', 'यस असन्तुलनलाई हामीले कहिले सम्म थेग्न सक्छौँ?', 'अब उप्रान्त विकास सम्बन्धी नीति, कार्यक्रम तथा परियोजना तर्जुमा तथा सञ्चालन गर्दा यस असन्तुलनलाई मध्ये नजर राखेर सञ्चालन गरिनु पर्दछ र पिछडिएका क्षेत्रमा प्राथमिकता दिनु पर्दछ।', 'आदरणीय देशवासीहरू !', 'आमा निर्वाचनको दिन नजिकिंदै छ।', 'कम्तीमा राष्ट्रलाई आगामी पाँच वर्षका निम्ति दिशा दिने काम यस निर्वाचनबाट गठित संसद र सरकारले गर्ने छ।', 'संसद र सरकारको बनोटलाई विद्यमान पार्टी र उनीहरूको प्रत्यासीहरूले प्रभावित गर्ने भएको हुँदा उनीहरूप्रति मोटामोटी रूपमा विचार बनाउनु जरुरी छ।', 'अहिले मूलतः यस निर्वाचनमा निम्न राजनीतिक शक्तिहरू क्रियाशील रहेका छन्।', '\\n१ राजाको पञ्चायती शक्ति- बहुदलीय व्यवस्था पुनर्स्थापनको लगत्तै पछि एकै दिन एउटै झण्डा बोकि एउटै नाममा खुलेका दुईवटा राष्ट्रिय प्रजातन्त्र पार्टी राजा र राजदरबारकै जुम्ल्याहा बच्चा हुन् भन्नुमा अत्युक्ति नहोला।', 'पञ्चायतको परिवर्तित रूपलाई यिनीहरूले प्रतिनिधित्व गर्दछन्।', 'यिनीहरूले विगत ३० वर्षमा कयौं पटक राजाको सकृय नेतृत्वको कसम खाएका छन्।', 'राजा पनि त्यसैगरी नाचेका छन्।', 'निर्दलीयताको नाममा निर्मन दमनबाट चलेको तानाशाही शासन नै उनीहरूको पुर्ख्यौली राजनीतिक सम्पत्ति हो।', 'शोषण विहिन् समाज निर्माण गर्ने नाममा उनीहरूले राष्ट्रको सर्वस्व लुटेका छन् र अथाह सम्पाति विदेशमा थुपारेका छन्।', '३० वर्षको उनीहरूको कुकर्मलाई हेरेर इतिहासले जुन निर्णय दिएको छ त्यसलाई राज्यसत्ता र ब्रह्मलुटको सम्पत्तिले उल्ट्\\u200dयाउन उनीहरू भरमग्दुर लागेका छन्।', 'इतिहासको पाङ्ग्रालाई पछि धकेल्ने उनीहरूका दुश्\\u200dचेष्\\u200dटा किमार्थ सफल हुने छैनन्।', 'अन्तरिम मन्त्रिमण्डलले जनादेशको शाहसपूर्वक कार्यान्वयन गर्न नसकेर पनि उनीहरू अहिले छाती खोल्न पाइरहेका छन्।', 'इतिहासको निर्णयलाई बदर गराउन खोज्ने यस शक्तिलाई आगामी निर्वाचनले पनि यसरी ङ्याक्नु पर्दछ जसले गर्दा पुनः अर्को तानाशाही शक्ति शिर उठाउने हिम्मत गर्न नसकोस्।', '\\n२. नेपाली काँग्रेस- राजाको निरङ्कुशताको रूपमा रहेको पञ्चायती व्यवस्थालाई मास्न र बहुदलीय व्यवस्थाको स्थापनाको निम्ति नेपाली काङ्ग्रेसले गरेको योगदान सराहनीय छ।', 'पञ्चायत विरोधी आन्दोलनकारी शक्तिहरूसँगको संयुक्त आन्दोलनको विरोध र खासगरी ३० को दशकमा आएर निरङ्कुश राजतन्त्रसँगको मेलमिलापको नीतिले गर्दा नै पञ्चायतको आयु यतिसम्म लामो हुन गएको हो।', 'गएको जन आन्दोलनमा आन्दोलनको उद्\\u200dघोष मात्र होइन तालमेल कै हदसम्म भए पनि संयुक्त आन्दोलनमा आउने उसको निर्णय प्रजातान्त्रिक आन्दोलनको विकासको निम्ति निर्णायक मोड बन्न पुग्यो।', 'आन्दोलनको सफलता पछि कम्युनिष्ट तथा राजाको शक्तिलाई साथमा लिएर सत्ता सम्हाले पछि चरित्रगत कारणले नै यसले राजाको निरङ्कुशतामा हुर्केका राजनीतिक तथा आर्थिक अपराधीहरूलाई कार्यवाही गर्नमा उदासीनता मात्र देखाएन जघन्य अपराधीहरूलाई समेत छोड्ने हास्यास्पद काम समेत गर्न सङ्कोच मानेन।', 'अहिले पार्टीभित्र राष्ट्रियता तथा प्रजातन्त्र विरोधी शक्तिले प्रश्रय पाइरहेका छन्।', 'यही कारण हिजोका वरिष्ठ पञ्चहरूले समेत यसमा प्रवेश पाएका हुन्।', 'प्रबल पार्टी ब्युरोक्रेसी र आन्तरिक प्रजातन्त्रको अभावको बारेमा पार्टीका स्वयम् कार्यकर्ताहरू आवाज उठाइरहेका छन्।', '\"चीनसँग मित्रता र भारतसँग घनिष्\\u200dटता\" को यसको घोषित नीतिको दुष्परिणामहरू प्रकट हुन थालेका छन्।१९५० र १९६५ को सन्धिको अन्यायपूर्ण प्रावधानले राष्ट्रिय स्वार्थ र स्वाभीमानलाई किचिरहेको छ।', 'त्यस माथि अरू बोझहरू थपिँदै छन्।', 'कोशी र गण्डकी सम्झौतामा लागेको राष्ट्रिय कलङ्क र ठगिएको घाउ आलै छ।', 'भारत आफ्नो प्रतिरक्षा अवधारणा मनाउन दवाब दिइरहेको छ।', 'भारतीय एकाधिकार पूँजीको जकडबाट नेपाली अर्थतन्त्र आक्रान्त छ।', 'स्वतन्त्र राष्ट्रिय अर्थतन्त्रको विकासमा खुला सीमाना एउटा तगारो हो।', 'सीमाना नियन्त्रण गर्ने राष्ट्रिय जागरण बढी रहेको छ।', 'यो बेला साझा नदी, साझा मुद्रा र कुनै कुनै कुनाबाट साझा सरकारको समेत कुरा उठ्नुले मुलुकको राष्\\u200dट्रवादी शक्ति चिन्तित र ससङ्कित हुनु र सजगता देखाउनु स्वाभाविक हो।', 'वर्तमान संविधानमा महत्वपूर्ण सन्धि सम्झौता गरिँदा सदनको दुई तिहाइ बहुमतको अनुमोदन चाहिने प्रावधान छ।', 'यसको ध्येय राष्ट्रिय हितका विषयमा निर्णय लिइँदा राष्ट्रिय सहमति खोज्ने नै हो।', 'राष्ट्रिय हितलाई कुनै पार्टी विशेषको सेन्टिमेन्टले डिक्टेट गरिनु हुँदैन।', 'नेपाली काँग्रेसमा वर्तमान सामाजिक, आर्थिक संरचनालाई विकास र जनताको पक्षमा आमूल परिवर्तन गराउने सङ्कल्प शक्तिको सर्वथा अभाव छ।', 'यथास्थितिलाई कायम राखेर ल्याइने प्रजातान्त्रिक समाजवादको रूप के होला?', 'समाजको विपन्न र असक्त वर्गले नयाँ परिवर्तनलाई कसरी अनुभव गर्ने?', 'नेपाली काँग्रेसले पूर्ववर्ती शासनका आर्थिक सामाजिक नीतिहरूलाई विरासतमा लिने र उनीहरूकै पदचिह्नमा हिँड्ने सङ्केत गरी सकेको छ।', '\\n३. कम्युनिष्ट शक्ति- नेपालको वर्तमान शक्ति समीकरणमा अर्को महत्वपूर्ण शक्ति कम्युनिष्ट शक्ति हो।', 'राष्ट्रियताका सवालमा र प्रजातन्त्र स्थापनाको सङ्घर्षमा यसको योगदान सकारात्मक रहेको तथ्यलाई कसैले इन्कार्न मिल्दैन।', 'यसैकारण नै विश्व कम्युनिष्ट आन्दोलन सङ्कटबाट गुज्रिरहेको भए पनि यहाँ कम्युनिष्ट आन्दोलन प्रबल रूपमा रहेको छ।', 'यति हुँदाहुँदै पनि यो आन्दोलन एकीकृत आन्दोलन होइन।', 'विभिन्न धारा र चिरामा विभक्त यो आन्दोलनको विभाजन जनता र राष्ट्रका प्रश्\\u200dनमा भन्दा पनि नेतृत्व तृष्णा, विदेशी नक्कल र जडसूत्रको अनुसरणमा भएको छ।', 'बेला बखत यो आन्दोलन उग्र बामपन्थ र दक्षिणपन्थको सिकार रहेको कुरा स्वयम् कम्युनिष्टहरू स्विकार्दछन्।', 'यतिमात्र होइन उनीहरू अहिले पनि एक अर्कालाई दक्षिणपन्थी र जडसूत्रवादीको आरोप प्रत्यारोप लगाइ रहेका छन्।', 'सामाजिक अन्याय र शोषणको विरुद्धमा आवाज उठाउने काम त यस आन्दोलनबाट भएको छ तर तर्कसङ्गत सामाजिक न्याय र समुन्नति कसरी स्थापित गर्ने बारेमा नेपाली कम्युनिष्टहरूले कुनै भरपर्दो कार्यक्रम दिन सकेका छैनन्।', 'नेपाली कम्युनिष्ट आन्दोलन बृहत्तर प्रजातान्त्रिक आन्दोलनको एक हिस्सा भएर पनि यसले नेपालको भूराजनीतिक यथार्थको नेतृत्व गर्न सक्दैन।', 'कठोर पार्टी ब्युरोक्रेसी, आन्तरिक जनवादको अभाव र अनवरत पार्टीसत्ता सङ्घर्ष यस आन्दोलनका भित्री विशेषताहरू हुन्।', 'खुल्ला समाज र बहुदलीय प्रतिस्पर्धात्मक राजनीतिलाई ठाडै या घुमाउरो पाराले अस्वीकार गर्ने र सत्तामा कम्युनिष्ट नेतृत्व एकाधिकारको वकालत गर्ने धारा अहिले पनि यस आन्दोलनभित्र छँदैछ।', 'राष्\\u200dट्र र जनतासँग जिम्मेवार भएर प्रभावकारी र तर्क सङ्गत राष्ट्रिय दिशा निर्क्यौल गर्नमा भन्दा पनि यो आन्दोलन \"वाल रोग\" को बढी सिकार छ।', 'यस आमनिर्वाचनको सिलसिलामा \"एक बाम एक ठाम\" को प्रस्तावलाई कम्युनिष्टहरू बाटै धुजा धुजा पारियो।', 'उनीहरूको सत्ता लिप्सा, अपरिपक्वता, अहम्, र गैह्र जिम्मेवारीलाई नाप्ने यो भन्दा अरू कुनै मापदण्ड चाहिन्छ र?', 'नेपाली इतिहासमा पहिलो पटक कम्युनिष्टहरू यसपाली सत्तामा अंशियार बन्न पुगेका हुन्।', 'अन्तरिम मन्त्रि मण्डलका सफलता र असफलता नै उनीहरूको पनि वासलात हो।', 'उनीहरू सत्तामा रहेको जनताले राष्ट्रिय जीवनको कुन पक्षमा अनुभव गर्न पाए त्यसको इतिहासले मूल्याङ्कन गर्ने नै छ।', 'हामी यति भन्न विवश छौँ सत्तामा रहेकाहरूले आफ्नो छविलाई विवादास्पद बनाउनबाट जोगाउन सकेनन्।', '\\n४. जातीय तथा साम्प्रदायिक शक्तिहरू जन आन्दोलन पछि नै प्रकट रूपमा जातीय तथा साम्प्रदायिक आधारमा सङ्गठित हुने प्रक्रिया पनि हामी कहाँ देखिएको छ।', 'जातीय अर्थात् साम्प्रदायिक समस्या विद्यमान छ भन्नु, त्यसको उपयुक्त समाधानको खोजी गर्नु र आफ्नो हित तथा उत्थानको निम्ति सङ्गठित प्रयास गर्नु राम्रो कुरा हो।', 'तर पिछडिएका जातिको उत्थानको नाममा वा जातीय अन्तर विरोध नै प्रधान अन्तर विरोध हो भन्ने नाममा जाती जाती बीचको जातीय तथा साम्प्रदायिक सद्\\u200cभावलाई बिथोल्ने गरी या जातीय साम्प्रदायिक दङ्गा भड्काउने क्रियाकलाप कसैबाट पनि हुनुहुँदैन।', 'जातीय तथा साम्प्रदायिक समस्या समाधानको निम्ति केही क्षेत्रबाट सङ्घीय राज्य, स्वायत्त क्षेत्र, पछि परेका जात तथा जनजातिहरूको निम्ति आरक्षण तथा जातीय समानुपातिक प्रतिनिधित्व जस्ता कुरा पनि अघि सारिएका छन्।', 'जातीय भेदभाव र पछौटेपनको समाधान प्रजातान्त्रिक प्रक्रियाबाट नै गरिनु पर्दछ र यसको निम्ति हाम्रो यथार्थभित्र राष्ट्रिय छलफल गर्नु र राष्ट्रिय सहमति निकाल्नु आवश्यक छ जातीय समस्या प्रतिगामी तथा विदेशी शक्ति घुस्ने सबभन्दा सरल राजमार्ग हो भन्ने कुरा सम्बन्धित सबै क्षेत्रले बुझ्नु अनिवार्य छ र त्यसलाई बेलैमा निराकरण गर्ने तर्फ पाइला चाल्नु पर्दछ।', '\\n']\n",
      "Words after tokenization\n",
      "['३०', 'वर्षपछि', 'मुलुकमा', 'राजाको', 'पञ्चायती', 'व्यवस्थाको', 'अवसान', 'र', 'एक', 'पटक', 'फेरि', 'बहुदलीय', 'व्यवस्थाको', 'उदय', 'भएको', 'छ।', 'यस', 'सुखद', 'घडीको', 'पृष्ठभूमिमा', 'नेपाली', 'आमाका', 'सयौं', 'सपुतहरूले', 'प्रजातन्त्रको', 'निम्ति', 'बलिबेदीमा', 'आफ्नो', 'अमूल्य', 'जीवन', 'न्यौछावर', 'गरेका', 'छन्।', 'तपाईँ', 'हाम्रै', 'बीच', 'निरङ्कुश', 'व्यवस्थाको', 'पोल', 'खोल्ने', 'जीवन्त', 'साक्षीहरूको', 'रूपमा', 'यातना', 'शिविरबाट', 'फर्केका', 'कैयौं', 'अपाङ्गहरू', 'अहिले', 'पनि', 'छँदैछन्।', 'यस', 'प्रजातान्त्रिक', 'लडाइँलाई', 'निरन्तरता', 'दिने', 'क्रममा', 'तपाईँ', 'हाम्रै', 'गाउँघरमा', 'कैयन्', 'घरबारहरू', 'राजनीतिक', 'कारणले', 'बेहाल', 'बनाइएका', 'छन्।', 'जनताको', 'अनवरत', 'सङ्घर्ष', 'र', 'खासगरी', 'अघिल्लो', 'वर्ष', 'राजनीतिक', 'विचारधारा', 'बर्ग', 'धर्म', 'पेसा', 'या', 'जात', 'जातिको', 'कुनै', 'भेदभाव', 'नराखी', 'एक', 'ढिको', 'ढिकको', 'भएर', 'नेपाली', 'जनताको', 'जुझारू', 'र', 'निर्णायक', 'सङ्घर्षले', '३०', 'वर्षसम्म', 'एकछत्र', 'रजाइँ', 'गर्दै', 'आएको', 'एक', 'दलीय', 'तानाशाही', 'व्यवस्थालाई', 'लत्\\u200cर्याइयो।', 'अथाह', 'कष्ट', 'असह्य', 'यातना', 'र', 'निर्मम', 'शोषणमाथि', 'बनेको', 'निरङ्कुशताको', 'महल', 'अब', 'रहेन।', '३२', 'वर्षपछि', 'नेपाली', 'जनता', 'बहुदलीय', 'प्रतिस्पर्धात्मक', 'वातावरणमा', 'आम', 'चुनावमा', 'जान', 'पाइ', 'रहेका', 'छन्।', 'यस', 'सुखद', 'अवसरमा', 'प्रजातान्त्रिक', 'जनमञ्च', 'निरङ्कुशता', 'फाल्न', 'र', 'प्रजातन्त्र', 'ल्याउन', 'सहादत', 'हुनुहुने', 'तमाम', 'शहीदहरूमा', 'कृतज्ञता', 'पूर्वक', 'श्रद्धाञ्जली', 'अर्पण', 'गर्दछ।', 'यस', 'विजयमा', 'नेपाली', 'जनताको', 'अजेय', 'पौरख', 'अभिव्यक्त', 'भएको', 'छ।', 'हामी', 'समस्त', 'नेपाली', 'जनतालाई', 'हार्दिक', 'अभिवादन', 'गर्न', 'चाहन्छौं।', 'यस', 'लामो', 'प्रजातान्त्रिक', 'सङ्घर्षमा', 'सहभागी', 'हुनुहुने', 'तमाम', 'योद्धाहरू', 'धन्यवादका', 'पात्र', 'छन्।', 'हाम्रो', 'यो', 'आन्दोलनमा', 'विदेशी', 'मित्रहरूको', 'न्यानो', 'नैतिक', 'समर्थनले', 'आन्दोलनको', 'सफलताको', 'निम्ति', 'थप', 'उर्जाको', 'काम', 'गर्\\u200dयो।', 'हामी', 'हाम्रा', 'समस्त', 'विदेशी', 'मित्रहरूको', 'यस', 'दिशामा', 'भएको', 'भूमिका', 'र', 'योगदानको', 'उच्च', 'मूल्याङ्कन', 'गर्दछौ', 'र', 'यस', 'पवन', 'घडीमा', 'वहाँहरू', 'प्रति', 'आभार', 'प्रकट', 'गर्दछौँ।', 'प्रजातान्त्रिक', 'जनमञ्च', 'नेपालमा', 'अहिलेसम्म', 'बनेका', 'राजनीतिक', 'सङ्गठनमा', 'सबभन्दा', 'कान्छो', 'सङ्गठन', 'हो।', 'गत', '२०४७', 'माघ', '२', 'गते', 'मात्र', 'विभिन्न', 'क्षेत्रमा', 'कार्यरत', 'राजनीतिक', 'व्यक्तिहरूको', 'आपसी', 'छलफल', 'र', 'विचार', 'विनिमयको', 'स्वाभाविक', 'निष्कर्ष', 'हो-', 'जनमञ्च।', 'राजनीतिक', 'पार्टीको', 'रूपमा', 'विकास', 'नभइसकेको', 'भए', 'पनि', 'यसले', 'यति', 'छिटो', 'अवधिमा', 'नै', 'जति', 'बढी', 'जन', 'अभिरुचि', 'समर्थन', 'र', 'सहभागिता', 'पाउन', 'सकेको', 'छ', 'त्यसले', 'जनमञ्चको', 'नवीन', 'धाराको', 'औचित्यलाई', 'थप', 'पुष्टि', 'गरेको', 'छ।', 'ठूलो', 'मूल्य', 'चुकाएर', 'प्राप्त', 'गरेको', 'प्रजातान्त्रिक', 'उपलब्धिलाई', 'सुदृढ', 'तथा', 'प्रवर्द्धन', 'गर्न', 'हिजोभन्दा', 'बढी', 'सतर्क', 'र', 'जिम्मेवारीका', 'साथ', 'लाग्नु', 'सबै', 'नेपालीहरूको', 'परम', 'दायित्व', 'हो।', 'प्रजातन्त्र-अभिव्यक्ति', 'स्वतन्त्रता', 'र', 'सङ्गठन', 'गर्ने', 'अधिकार', 'मात्र', 'होइन।', 'यसले', 'जनताको', 'गुणस्तरमा', 'सुधार', 'ल्याउन', 'सक्नु', 'पर्दछ।', 'हिजोको', 'शासनले', 'विकास', 'श्रीलङ्कामा', 'हामीलाई', 'पुछारमा', 'मात्र', 'छाडेन', 'आम', 'गरिबी', 'चरम', 'विषमता', 'र', 'व्यापक', 'बेरोजगारी', 'पनि', 'विरासतमा', 'छाडेको', 'छ।', 'अहिले', 'मुलुकको', 'हालत', 'भनेको', 'बेवारिसे', 'वालकको', 'जस्तो', 'लथालिङ्ग', 'छ।', 'त्यसैले', 'अब', 'आर्थिक', 'सामाजिक', 'क्षेत्रमा', 'प्रजातान्त्रिक', 'पुनर्गठन', 'गर्नु', 'हाम्रो', 'चुनौतीपूर्ण', 'कार्य', 'हो।', 'जनताको', 'आर्थिक', 'सामाजिक', 'जीवनमा', 'व्यापक', 'सुधार', 'ल्याएर', 'मात्रै', 'प्रजातन्त्रलाई', 'सुदृढ', 'र', 'दिगो', 'बनाउन', 'सकिन्छ', 'र', 'मात्रै', 'साँचो', 'अर्थमा', 'प्रजातन्त्रलाई', '\"जनताको', 'जनताद्वारा', 'जनताको', 'निम्ति', 'सरकार\"', 'मा', 'अनुवाद', 'गर्न', 'सकिन्छ।', 'त्यसै', 'पनि', 'हाम्रो', 'गरिबीले', 'हाम्रो', 'राष्ट्रिय', 'स्वाभीमान', 'र', 'अस्मितालाई', 'निर्बल', 'त', 'बनाएको', 'छँदैछ', 'त्यसमाथि', 'राष्ट्रियता', 'सम्बन्धी', 'समस्याहरू', 'थाती', 'राख्ने', 'र', 'थुपार्ने', 'काम', 'निरन्तर', 'हुँदै', 'आइरहेका', 'छन्।', 'अझ', 'प्रजातन्त्रको', 'नाममा', 'राष्ट्रिय', 'हितलाई', 'किञ्चित्', 'मात्र', 'पनि', 'आँच', 'आउने', 'काम', 'हुन्छ', 'कि', 'भन्ने', 'विषयमा', 'आज', 'राष्ट्रिय', 'जागरुकता', 'अरू', 'आवश्यक', 'बनेको', 'छ।', 'राष्ट्रिय', 'सङ्कल्प', 'र', 'साहसका', 'साथ', 'हामीले', 'विदेशसँगको', 'सम्बन्धलाई', 'पञ्चशीलका', 'सिद्धान्तका', 'आधारमा', 'सुव्यवस्थित', 'गर्नु', 'पर्दछ।', 'हाम्रो', 'भूराजनीतिक', 'अवस्थाले', 'हामीलाई', 'तर्कसङ्गत', 'र', 'लचिलो', 'विदेशनीति', 'अवलम्वन', 'गर्न', 'प्रेरित', 'गरेको', 'छ।', 'तर', 'यसको', 'अर्थ', 'स्वतन्त्र', 'राष्ट्रिय', 'व्यक्तित्व', 'विकासमा', 'आँच', 'पुर्\\u200dयाउने', 'या', 'राष्ट्रिय', 'हितलाई', 'कुनै', 'पनि', 'बहानामा', 'सौदाबाजी', 'गर्ने', 'हुनुहुँदैन।', 'हामीबाट', 'खास', 'गरी', 'चीन', 'तथा', 'भारतसँगको', 'सम्बन्धमा', 'सन्तुलित', 'र', 'सतर्क', 'ढङ्गले', 'घनिष्ट', 'रूपमा', 'समान', 'व्यवहार', 'गरिनु', 'पर्दछ।', 'प्रजातन्त्रको', 'विकास', 'प्रकृयामा', 'हामी', 'नितान्त', 'सुषुप्त', 'अवस्थामा', 'छौँ।', 'हामीले', 'हाम्रा', 'देशवासीलाई', 'मानवजातिको', 'अथक', 'सङ्घर्ष', 'र', 'सभ्यताले', 'सिर्जेका', 'तथा', 'परिष्कृत', 'गरिएका', 'आधुनिकतम', 'मानव', 'मूल्य', 'अनुसरण', 'गर्न', 'सक्षम', 'तुल्याउनु', 'पर्दछ।', 'व्यक्तिगत', 'स्वतन्त्रता', 'र', 'सामाजिक', 'उत्तरदायित्वको', 'आदर्शतम', 'सन्तुलन', 'नै', 'मानव', 'सभ्यता', 'र', 'मानव', 'प्रगतिको', 'अन्तरलुप्\\u200dत', 'रहस्य', 'हो', 'भन्ने', 'कुरा', 'अब', 'विवादको', 'विषय', 'रहेन।', 'व्यक्तिगत', 'स्वतन्त्रताको', 'उपयोग', 'गर्दा', 'सामाजिक', 'उत्तरदायित्वको', 'हेक्का', 'राखिनु', 'पर्दछ।', 'हाम्रो', 'भविष्य', 'र', 'हाम्रो', 'विकल्प', 'भनेको', 'राष्\\u200dट्रवादी', 'प्रजातान्त्रिक', 'विकल्प', 'नै', 'हो।', 'हाम्रा', 'घोषित', 'लक्ष', 'र', 'सो', 'प्रतिको', 'निष्\\u200dठा', 'र', 'प्रतिवद्धताको', 'गहनाले', 'यथास्थिति', 'का', 'सीमालाई', 'नाघ्दछ।', 'वर्तमान', 'सामाजिक', 'आर्थिक', 'संरचना', 'र', 'संस्थाबाट', 'द्रुततर', 'सामग्रिक', 'विकासको', 'आकाङ्क्षा', 'फलीभूत', 'हुन', 'सक्दैन।', 'प्रजातान्त्रिक', 'ढङ्गले', 'यस', 'क्षेत्रमा', 'विकासलाई', 'गति', 'दिने', 'गरी', 'परिवर्तन', 'ल्याउनु', 'पर्दछ।', 'त्यसैले', 'प्रजातान्त्रिक', 'जनमञ्चले', 'सामाजिक', 'आर्थिक', 'क्रान्तिको', 'बिगुल', 'फुक्दै', 'आमूल', 'परिवर्तन', 'कारी', 'प्रजातान्त्रिक', 'विकल्पको', 'अवधारणा', 'अघि', 'सारेको', 'हो।', 'स्थापित', 'राजनीतिक', 'शक्तिहरूबाट', 'राष्\\u200dट्रवादी', 'प्रजातान्त्रिक', 'अभिभारा', 'सम्पन्न', 'हुने', 'आशा', 'राख्ने', 'ठाउँ', 'छैन।', 'राजाको', 'शक्तिले', 'मुलुकलाई', 'निरङ्कुशतामा', 'जकडेको', 'मात्र', 'नभएर', 'आर्थिक', 'सामाजिक', 'रूपमा', 'रसातलमा', 'पुर्\\u200dयाइ', 'दियो।', 'राजनीतिक', 'नेतृत्व', 'विशेष', 'शक्ति', 'या', 'कुलको', 'निम्ति', 'सार्वकालिक', 'रूपमा', 'सुरक्षित', 'गर्ने', 'विषय', 'होइन।', 'सत्तामा', 'राजनीतिक', 'एकाधिकारको', 'नाम', 'नै', 'तानाशाही', 'या', 'निरङ्कुश', 'तन्त्र', 'हो।', 'जनताको', 'नाममा', 'पार्टी', 'नोकरशाहहरूले', 'या', 'प्रजातन्त्रको', 'नाममा', 'सम्भ्रान्तहरूले', 'शासन', 'गर्ने', 'परिपाटी', 'अभिशापपूर्ण', 'रहेको', 'तथ्य', 'सबैको', 'सामु', 'छर्लङ्ग', 'छ।', 'सत्तामा', 'राजनीतिक', 'नेतृत्व', 'आवधिक', 'रूपमा', 'जनताको', 'अनुमोदन', 'लिई', 'रहनु', 'पर्दछ', 'र', 'प्रतिस्पर्धालाई', 'स्विकार्नु', 'पर्दछ।', 'अर्कोतिर', 'सत्ता', 'लिप्साको', 'निम्ति', 'राष्ट्रिय', 'स्वार्थलाई', 'गौण', 'र', 'सौदाबाजीको', 'विषय', 'बनाउने', 'र', 'राष्ट्रिय', 'हितको', 'जगेर्ना', 'भन्दा', 'पनि', 'पराई', 'मुलुकको', 'हितमा', 'वकालत', 'गर्ने', 'प्रवृत्ति', 'पनि', 'राजनीतिक', 'शक्तिहरूमा', 'छदैछ।', 'नयाँ', 'राजनीतिक', 'नेतृत्वको', 'खाँचो', 'यसैले', 'परेको', 'हो।', 'प्रजातान्त्रिक', 'जनमञ्च', 'यस', 'दिशामा', 'प्रारंभिक', 'पाइलो', 'हो।', 'हामी', 'सवल', 'प्रजातान्त्रिक', 'विकल्प', 'विकासको', 'निम्ति', 'कृतसङ्कल्पित', 'छौँ।', 'जातीय', 'तथा', 'भौगोलिक', 'बनोटको', 'हिसाबले', 'हाम्रो', 'देश', 'भिन्नताको', 'मेल', 'हो।', 'बिभिन्न', 'जातजाति', 'भाषाभाषी', 'र', 'उनीहरूको', 'आ-', 'आफ्नै', 'परम्परा', 'र', 'संस्कृतिले', 'नेपाललाई', '\"सयौं', 'फूलहरूको', 'फूलबारी\"', 'बनाइ', 'दिएको', 'छ।', 'हामी', 'कहाँ', 'धर्म', 'भाषा', 'भेष', 'भूषा', 'चाडबाड', 'रीतिरिवाज', 'चलन', 'वा', 'परम्पराको', 'भिन्नताले', 'अलग', 'अलग', 'जातीय', 'अस्तित्व', 'बोकेको', 'मात्र', 'नभएर', 'पारस्परिक', 'समझदारी', 'सदभाव', 'सहिष्णुता', 'र', 'एकताको', 'आदर्श', 'भावले', 'साझा', 'राष्ट्रिय', 'संस्कृतिको', 'धरोहर', 'खडा', 'गरेको', 'छ।', 'यति', 'हुँदाहुँदै', 'पनि', 'यस', 'क्षेत्रमा', 'समस्याहरू', 'छन्।', 'शासक', 'वर्गका', 'क्रियाकलापबाट', 'विभिन्न', 'जाती', 'भाषा', 'तथा', 'संस्कृति', 'बीच', 'विभेद', 'भएको', 'छ।', 'सामाजिक', 'विकासका', 'प्रवाहमा', 'कतिपय', 'जातिहरू', 'खास', 'गरी', 'जनजातिहरू', 'पछि', 'परेका', 'छन्।', 'असमान', 'जातीय', 'विकासले', 'सृजेका', 'समस्याहरू', 'सधैं', 'भरि', 'थाती', 'राखेर', 'वा', 'उपेक्षा', 'गरेर', 'राख्न', 'मिल्दैन।', 'जनतामा', 'जातीय', 'भेदभावको', 'बोध', 'विकास', 'हुन', 'थालेपछि', 'त्यसले', 'कस्तो', 'भयावह', 'रूप', 'लिन्छ', 'भन्ने', 'कुरा', 'हामीले', 'छिमेकी', 'मुलुककै', 'विकासक्रमबाट', 'हेरे', 'पनि', 'प्रष्ट', 'हुन्छ।', 'आगामी', 'दिनमा', 'हामीले', 'प्राथमिकताका', 'साथ', 'समाधान', 'गर्नु', 'पर्ने', 'समस्या', 'यो', 'पनि', 'हो।', 'तर', 'सबैले', 'के', 'कुरा', 'बुझ्नु', 'जरुरी', 'छ', 'भने', 'यो', 'समस्या', 'विद्यमान', 'छ', 'भन्ने', 'नाउँमा', 'यसलाई', 'जातीय', 'मेलमिलाप', 'र', 'राष्ट्रिय', 'अखण्डतामा', 'खलल', 'पुग्ने', 'गरी', 'साम्प्रदायिकता', 'भडकाउने', 'या', 'राष्ट्रिय', 'विघटन', 'कार्यमा', 'सघाउ', 'पुर्\\u200dयाउने', 'कार्य', 'गर्न', 'कसैलाई', 'अनुमति', 'हुने', 'छैन।', 'हिजोको', 'निरङ्कुश', 'शासनको', 'तर', 'काढेर', 'बसेकाहरू', 'जातीय', 'हितका', 'इसामसिह', 'बन्न', 'खोजेको', 'हरकतलाई', 'खास', 'गरी', 'सम्बन्धित', 'क्षेत्रबाट', 'नै', 'स्यालको', 'निरर्थक', 'धुर्त्याई', 'हो', 'भनेर', 'बुझ्न', 'र', 'बुझाउन', 'जरुरी', 'छ।', 'यसै', 'गरी', 'हाम्रो', 'भौगोलिक', 'बनोटका', 'अतिरिक्त', 'शासक', 'वर्गहरूको', 'असन्तुलित', 'नीति', 'र', 'सीमान्त', 'क्षेत्रको', 'शोषणबाट', 'केन्द्र', 'सिंगार्ने', 'नीतिले', 'गर्दा', 'क्षेत्रीय', 'विकासमा', 'जवर्जस्त', 'असन्तुलन', 'कायम', 'हुन', 'गएको', 'छ।', 'दुर्गम', 'तथा', 'पहाडी', 'क्षेत्र', 'सुदूर', 'पश्चिम', 'इलाका', 'विकास', 'प्रवाहमा', 'समाहित', 'हुन', 'सकेका', 'छैनन्।', 'सिमान्त', 'क्षेत्रको', 'तराई', 'त्यस्तै', 'जर्जर', 'र', 'उजाड', 'छ।', 'यस', 'असन्तुलनलाई', 'हामीले', 'कहिले', 'सम्म', 'थेग्न', 'सक्छौँ?', 'अब', 'उप्रान्त', 'विकास', 'सम्बन्धी', 'नीति', 'कार्यक्रम', 'तथा', 'परियोजना', 'तर्जुमा', 'तथा', 'सञ्चालन', 'गर्दा', 'यस', 'असन्तुलनलाई', 'मध्ये', 'नजर', 'राखेर', 'सञ्चालन', 'गरिनु', 'पर्दछ', 'र', 'पिछडिएका', 'क्षेत्रमा', 'प्राथमिकता', 'दिनु', 'पर्दछ।', 'आदरणीय', 'देशवासीहरू', '!', 'आमा', 'निर्वाचनको', 'दिन', 'नजिकिंदै', 'छ।', 'कम्तीमा', 'राष्ट्रलाई', 'आगामी', 'पाँच', 'वर्षका', 'निम्ति', 'दिशा', 'दिने', 'काम', 'यस', 'निर्वाचनबाट', 'गठित', 'संसद', 'र', 'सरकारले', 'गर्ने', 'छ।', 'संसद', 'र', 'सरकारको', 'बनोटलाई', 'विद्यमान', 'पार्टी', 'र', 'उनीहरूको', 'प्रत्यासीहरूले', 'प्रभावित', 'गर्ने', 'भएको', 'हुँदा', 'उनीहरूप्रति', 'मोटामोटी', 'रूपमा', 'विचार', 'बनाउनु', 'जरुरी', 'छ।', 'अहिले', 'मूलतः', 'यस', 'निर्वाचनमा', 'निम्न', 'राजनीतिक', 'शक्तिहरू', 'क्रियाशील', 'रहेका', 'छन्।', '\\n१', 'राजाको', 'पञ्चायती', 'शक्ति-', 'बहुदलीय', 'व्यवस्था', 'पुनर्स्थापनको', 'लगत्तै', 'पछि', 'एकै', 'दिन', 'एउटै', 'झण्डा', 'बोकि', 'एउटै', 'नाममा', 'खुलेका', 'दुईवटा', 'राष्ट्रिय', 'प्रजातन्त्र', 'पार्टी', 'राजा', 'र', 'राजदरबारकै', 'जुम्ल्याहा', 'बच्चा', 'हुन्', 'भन्नुमा', 'अत्युक्ति', 'नहोला।', 'पञ्चायतको', 'परिवर्तित', 'रूपलाई', 'यिनीहरूले', 'प्रतिनिधित्व', 'गर्दछन्।', 'यिनीहरूले', 'विगत', '३०', 'वर्षमा', 'कयौं', 'पटक', 'राजाको', 'सकृय', 'नेतृत्वको', 'कसम', 'खाएका', 'छन्।', 'राजा', 'पनि', 'त्यसैगरी', 'नाचेका', 'छन्।', 'निर्दलीयताको', 'नाममा', 'निर्मन', 'दमनबाट', 'चलेको', 'तानाशाही', 'शासन', 'नै', 'उनीहरूको', 'पुर्ख्यौली', 'राजनीतिक', 'सम्पत्ति', 'हो।', 'शोषण', 'विहिन्', 'समाज', 'निर्माण', 'गर्ने', 'नाममा', 'उनीहरूले', 'राष्ट्रको', 'सर्वस्व', 'लुटेका', 'छन्', 'र', 'अथाह', 'सम्पाति', 'विदेशमा', 'थुपारेका', 'छन्।', '३०', 'वर्षको', 'उनीहरूको', 'कुकर्मलाई', 'हेरेर', 'इतिहासले', 'जुन', 'निर्णय', 'दिएको', 'छ', 'त्यसलाई', 'राज्यसत्ता', 'र', 'ब्रह्मलुटको', 'सम्पत्तिले', 'उल्ट्\\u200dयाउन', 'उनीहरू', 'भरमग्दुर', 'लागेका', 'छन्।', 'इतिहासको', 'पाङ्ग्रालाई', 'पछि', 'धकेल्ने', 'उनीहरूका', 'दुश्\\u200dचेष्\\u200dटा', 'किमार्थ', 'सफल', 'हुने', 'छैनन्।', 'अन्तरिम', 'मन्त्रिमण्डलले', 'जनादेशको', 'शाहसपूर्वक', 'कार्यान्वयन', 'गर्न', 'नसकेर', 'पनि', 'उनीहरू', 'अहिले', 'छाती', 'खोल्न', 'पाइरहेका', 'छन्।', 'इतिहासको', 'निर्णयलाई', 'बदर', 'गराउन', 'खोज्ने', 'यस', 'शक्तिलाई', 'आगामी', 'निर्वाचनले', 'पनि', 'यसरी', 'ङ्याक्नु', 'पर्दछ', 'जसले', 'गर्दा', 'पुनः', 'अर्को', 'तानाशाही', 'शक्ति', 'शिर', 'उठाउने', 'हिम्मत', 'गर्न', 'नसकोस्।', '\\n२.', 'नेपाली', 'काँग्रेस-', 'राजाको', 'निरङ्कुशताको', 'रूपमा', 'रहेको', 'पञ्चायती', 'व्यवस्थालाई', 'मास्न', 'र', 'बहुदलीय', 'व्यवस्थाको', 'स्थापनाको', 'निम्ति', 'नेपाली', 'काङ्ग्रेसले', 'गरेको', 'योगदान', 'सराहनीय', 'छ।', 'पञ्चायत', 'विरोधी', 'आन्दोलनकारी', 'शक्तिहरूसँगको', 'संयुक्त', 'आन्दोलनको', 'विरोध', 'र', 'खासगरी', '३०', 'को', 'दशकमा', 'आएर', 'निरङ्कुश', 'राजतन्त्रसँगको', 'मेलमिलापको', 'नीतिले', 'गर्दा', 'नै', 'पञ्चायतको', 'आयु', 'यतिसम्म', 'लामो', 'हुन', 'गएको', 'हो।', 'गएको', 'जन', 'आन्दोलनमा', 'आन्दोलनको', 'उद्\\u200dघोष', 'मात्र', 'होइन', 'तालमेल', 'कै', 'हदसम्म', 'भए', 'पनि', 'संयुक्त', 'आन्दोलनमा', 'आउने', 'उसको', 'निर्णय', 'प्रजातान्त्रिक', 'आन्दोलनको', 'विकासको', 'निम्ति', 'निर्णायक', 'मोड', 'बन्न', 'पुग्यो।', 'आन्दोलनको', 'सफलता', 'पछि', 'कम्युनिष्ट', 'तथा', 'राजाको', 'शक्तिलाई', 'साथमा', 'लिएर', 'सत्ता', 'सम्हाले', 'पछि', 'चरित्रगत', 'कारणले', 'नै', 'यसले', 'राजाको', 'निरङ्कुशतामा', 'हुर्केका', 'राजनीतिक', 'तथा', 'आर्थिक', 'अपराधीहरूलाई', 'कार्यवाही', 'गर्नमा', 'उदासीनता', 'मात्र', 'देखाएन', 'जघन्य', 'अपराधीहरूलाई', 'समेत', 'छोड्ने', 'हास्यास्पद', 'काम', 'समेत', 'गर्न', 'सङ्कोच', 'मानेन।', 'अहिले', 'पार्टीभित्र', 'राष्ट्रियता', 'तथा', 'प्रजातन्त्र', 'विरोधी', 'शक्तिले', 'प्रश्रय', 'पाइरहेका', 'छन्।', 'यही', 'कारण', 'हिजोका', 'वरिष्ठ', 'पञ्चहरूले', 'समेत', 'यसमा', 'प्रवेश', 'पाएका', 'हुन्।', 'प्रबल', 'पार्टी', 'ब्युरोक्रेसी', 'र', 'आन्तरिक', 'प्रजातन्त्रको', 'अभावको', 'बारेमा', 'पार्टीका', 'स्वयम्', 'कार्यकर्ताहरू', 'आवाज', 'उठाइरहेका', 'छन्।', '\"चीनसँग', 'मित्रता', 'र', 'भारतसँग', 'घनिष्\\u200dटता\"', 'को', 'यसको', 'घोषित', 'नीतिको', 'दुष्परिणामहरू', 'प्रकट', 'हुन', 'थालेका', 'छन्।१९५०', 'र', '१९६५', 'को', 'सन्धिको', 'अन्यायपूर्ण', 'प्रावधानले', 'राष्ट्रिय', 'स्वार्थ', 'र', 'स्वाभीमानलाई', 'किचिरहेको', 'छ।', 'त्यस', 'माथि', 'अरू', 'बोझहरू', 'थपिँदै', 'छन्।', 'कोशी', 'र', 'गण्डकी', 'सम्झौतामा', 'लागेको', 'राष्ट्रिय', 'कलङ्क', 'र', 'ठगिएको', 'घाउ', 'आलै', 'छ।', 'भारत', 'आफ्नो', 'प्रतिरक्षा', 'अवधारणा', 'मनाउन', 'दवाब', 'दिइरहेको', 'छ।', 'भारतीय', 'एकाधिकार', 'पूँजीको', 'जकडबाट', 'नेपाली', 'अर्थतन्त्र', 'आक्रान्त', 'छ।', 'स्वतन्त्र', 'राष्ट्रिय', 'अर्थतन्त्रको', 'विकासमा', 'खुला', 'सीमाना', 'एउटा', 'तगारो', 'हो।', 'सीमाना', 'नियन्त्रण', 'गर्ने', 'राष्ट्रिय', 'जागरण', 'बढी', 'रहेको', 'छ।', 'यो', 'बेला', 'साझा', 'नदी', 'साझा', 'मुद्रा', 'र', 'कुनै', 'कुनै', 'कुनाबाट', 'साझा', 'सरकारको', 'समेत', 'कुरा', 'उठ्नुले', 'मुलुकको', 'राष्\\u200dट्रवादी', 'शक्ति', 'चिन्तित', 'र', 'ससङ्कित', 'हुनु', 'र', 'सजगता', 'देखाउनु', 'स्वाभाविक', 'हो।', 'वर्तमान', 'संविधानमा', 'महत्वपूर्ण', 'सन्धि', 'सम्झौता', 'गरिँदा', 'सदनको', 'दुई', 'तिहाइ', 'बहुमतको', 'अनुमोदन', 'चाहिने', 'प्रावधान', 'छ।', 'यसको', 'ध्येय', 'राष्ट्रिय', 'हितका', 'विषयमा', 'निर्णय', 'लिइँदा', 'राष्ट्रिय', 'सहमति', 'खोज्ने', 'नै', 'हो।', 'राष्ट्रिय', 'हितलाई', 'कुनै', 'पार्टी', 'विशेषको', 'सेन्टिमेन्टले', 'डिक्टेट', 'गरिनु', 'हुँदैन।', 'नेपाली', 'काँग्रेसमा', 'वर्तमान', 'सामाजिक', 'आर्थिक', 'संरचनालाई', 'विकास', 'र', 'जनताको', 'पक्षमा', 'आमूल', 'परिवर्तन', 'गराउने', 'सङ्कल्प', 'शक्तिको', 'सर्वथा', 'अभाव', 'छ।', 'यथास्थितिलाई', 'कायम', 'राखेर', 'ल्याइने', 'प्रजातान्त्रिक', 'समाजवादको', 'रूप', 'के', 'होला?', 'समाजको', 'विपन्न', 'र', 'असक्त', 'वर्गले', 'नयाँ', 'परिवर्तनलाई', 'कसरी', 'अनुभव', 'गर्ने?', 'नेपाली', 'काँग्रेसले', 'पूर्ववर्ती', 'शासनका', 'आर्थिक', 'सामाजिक', 'नीतिहरूलाई', 'विरासतमा', 'लिने', 'र', 'उनीहरूकै', 'पदचिह्नमा', 'हिँड्ने', 'सङ्केत', 'गरी', 'सकेको', 'छ।', '\\n३.', 'कम्युनिष्ट', 'शक्ति-', 'नेपालको', 'वर्तमान', 'शक्ति', 'समीकरणमा', 'अर्को', 'महत्वपूर्ण', 'शक्ति', 'कम्युनिष्ट', 'शक्ति', 'हो।', 'राष्ट्रियताका', 'सवालमा', 'र', 'प्रजातन्त्र', 'स्थापनाको', 'सङ्घर्षमा', 'यसको', 'योगदान', 'सकारात्मक', 'रहेको', 'तथ्यलाई', 'कसैले', 'इन्कार्न', 'मिल्दैन।', 'यसैकारण', 'नै', 'विश्व', 'कम्युनिष्ट', 'आन्दोलन', 'सङ्कटबाट', 'गुज्रिरहेको', 'भए', 'पनि', 'यहाँ', 'कम्युनिष्ट', 'आन्दोलन', 'प्रबल', 'रूपमा', 'रहेको', 'छ।', 'यति', 'हुँदाहुँदै', 'पनि', 'यो', 'आन्दोलन', 'एकीकृत', 'आन्दोलन', 'होइन।', 'विभिन्न', 'धारा', 'र', 'चिरामा', 'विभक्त', 'यो', 'आन्दोलनको', 'विभाजन', 'जनता', 'र', 'राष्ट्रका', 'प्रश्\\u200dनमा', 'भन्दा', 'पनि', 'नेतृत्व', 'तृष्णा', 'विदेशी', 'नक्कल', 'र', 'जडसूत्रको', 'अनुसरणमा', 'भएको', 'छ।', 'बेला', 'बखत', 'यो', 'आन्दोलन', 'उग्र', 'बामपन्थ', 'र', 'दक्षिणपन्थको', 'सिकार', 'रहेको', 'कुरा', 'स्वयम्', 'कम्युनिष्टहरू', 'स्विकार्दछन्।', 'यतिमात्र', 'होइन', 'उनीहरू', 'अहिले', 'पनि', 'एक', 'अर्कालाई', 'दक्षिणपन्थी', 'र', 'जडसूत्रवादीको', 'आरोप', 'प्रत्यारोप', 'लगाइ', 'रहेका', 'छन्।', 'सामाजिक', 'अन्याय', 'र', 'शोषणको', 'विरुद्धमा', 'आवाज', 'उठाउने', 'काम', 'त', 'यस', 'आन्दोलनबाट', 'भएको', 'छ', 'तर', 'तर्कसङ्गत', 'सामाजिक', 'न्याय', 'र', 'समुन्नति', 'कसरी', 'स्थापित', 'गर्ने', 'बारेमा', 'नेपाली', 'कम्युनिष्टहरूले', 'कुनै', 'भरपर्दो', 'कार्यक्रम', 'दिन', 'सकेका', 'छैनन्।', 'नेपाली', 'कम्युनिष्ट', 'आन्दोलन', 'बृहत्तर', 'प्रजातान्त्रिक', 'आन्दोलनको', 'एक', 'हिस्सा', 'भएर', 'पनि', 'यसले', 'नेपालको', 'भूराजनीतिक', 'यथार्थको', 'नेतृत्व', 'गर्न', 'सक्दैन।', 'कठोर', 'पार्टी', 'ब्युरोक्रेसी', 'आन्तरिक', 'जनवादको', 'अभाव', 'र', 'अनवरत', 'पार्टीसत्ता', 'सङ्घर्ष', 'यस', 'आन्दोलनका', 'भित्री', 'विशेषताहरू', 'हुन्।', 'खुल्ला', 'समाज', 'र', 'बहुदलीय', 'प्रतिस्पर्धात्मक', 'राजनीतिलाई', 'ठाडै', 'या', 'घुमाउरो', 'पाराले', 'अस्वीकार', 'गर्ने', 'र', 'सत्तामा', 'कम्युनिष्ट', 'नेतृत्व', 'एकाधिकारको', 'वकालत', 'गर्ने', 'धारा', 'अहिले', 'पनि', 'यस', 'आन्दोलनभित्र', 'छँदैछ।', 'राष्\\u200dट्र', 'र', 'जनतासँग', 'जिम्मेवार', 'भएर', 'प्रभावकारी', 'र', 'तर्क', 'सङ्गत', 'राष्ट्रिय', 'दिशा', 'निर्क्यौल', 'गर्नमा', 'भन्दा', 'पनि', 'यो', 'आन्दोलन', '\"वाल', 'रोग\"', 'को', 'बढी', 'सिकार', 'छ।', 'यस', 'आमनिर्वाचनको', 'सिलसिलामा', '\"एक', 'बाम', 'एक', 'ठाम\"', 'को', 'प्रस्तावलाई', 'कम्युनिष्टहरू', 'बाटै', 'धुजा', 'धुजा', 'पारियो।', 'उनीहरूको', 'सत्ता', 'लिप्सा', 'अपरिपक्वता', 'अहम्', 'र', 'गैह्र', 'जिम्मेवारीलाई', 'नाप्ने', 'यो', 'भन्दा', 'अरू', 'कुनै', 'मापदण्ड', 'चाहिन्छ', 'र?', 'नेपाली', 'इतिहासमा', 'पहिलो', 'पटक', 'कम्युनिष्टहरू', 'यसपाली', 'सत्तामा', 'अंशियार', 'बन्न', 'पुगेका', 'हुन्।', 'अन्तरिम', 'मन्त्रि', 'मण्डलका', 'सफलता', 'र', 'असफलता', 'नै', 'उनीहरूको', 'पनि', 'वासलात', 'हो।', 'उनीहरू', 'सत्तामा', 'रहेको', 'जनताले', 'राष्ट्रिय', 'जीवनको', 'कुन', 'पक्षमा', 'अनुभव', 'गर्न', 'पाए', 'त्यसको', 'इतिहासले', 'मूल्याङ्कन', 'गर्ने', 'नै', 'छ।', 'हामी', 'यति', 'भन्न', 'विवश', 'छौँ', 'सत्तामा', 'रहेकाहरूले', 'आफ्नो', 'छविलाई', 'विवादास्पद', 'बनाउनबाट', 'जोगाउन', 'सकेनन्।', '\\n४.', 'जातीय', 'तथा', 'साम्प्रदायिक', 'शक्तिहरू', 'जन', 'आन्दोलन', 'पछि', 'नै', 'प्रकट', 'रूपमा', 'जातीय', 'तथा', 'साम्प्रदायिक', 'आधारमा', 'सङ्गठित', 'हुने', 'प्रक्रिया', 'पनि', 'हामी', 'कहाँ', 'देखिएको', 'छ।', 'जातीय', 'अर्थात्', 'साम्प्रदायिक', 'समस्या', 'विद्यमान', 'छ', 'भन्नु', 'त्यसको', 'उपयुक्त', 'समाधानको', 'खोजी', 'गर्नु', 'र', 'आफ्नो', 'हित', 'तथा', 'उत्थानको', 'निम्ति', 'सङ्गठित', 'प्रयास', 'गर्नु', 'राम्रो', 'कुरा', 'हो।', 'तर', 'पिछडिएका', 'जातिको', 'उत्थानको', 'नाममा', 'वा', 'जातीय', 'अन्तर', 'विरोध', 'नै', 'प्रधान', 'अन्तर', 'विरोध', 'हो', 'भन्ने', 'नाममा', 'जाती', 'जाती', 'बीचको', 'जातीय', 'तथा', 'साम्प्रदायिक', 'सद्\\u200cभावलाई', 'बिथोल्ने', 'गरी', 'या', 'जातीय', 'साम्प्रदायिक', 'दङ्गा', 'भड्काउने', 'क्रियाकलाप', 'कसैबाट', 'पनि', 'हुनुहुँदैन।', 'जातीय', 'तथा', 'साम्प्रदायिक', 'समस्या', 'समाधानको', 'निम्ति', 'केही', 'क्षेत्रबाट', 'सङ्घीय', 'राज्य', 'स्वायत्त', 'क्षेत्र', 'पछि', 'परेका', 'जात', 'तथा', 'जनजातिहरूको', 'निम्ति', 'आरक्षण', 'तथा', 'जातीय', 'समानुपातिक', 'प्रतिनिधित्व', 'जस्ता', 'कुरा', 'पनि', 'अघि', 'सारिएका', 'छन्।', 'जातीय', 'भेदभाव', 'र', 'पछौटेपनको', 'समाधान', 'प्रजातान्त्रिक', 'प्रक्रियाबाट', 'नै', 'गरिनु', 'पर्दछ', 'र', 'यसको', 'निम्ति', 'हाम्रो', 'यथार्थभित्र', 'राष्ट्रिय', 'छलफल', 'गर्नु', 'र', 'राष्ट्रिय', 'सहमति', 'निकाल्नु', 'आवश्यक', 'छ', 'जातीय', 'समस्या', 'प्रतिगामी', 'तथा', 'विदेशी', 'शक्ति', 'घुस्ने', 'सबभन्दा', 'सरल', 'राजमार्ग', 'हो', 'भन्ने', 'कुरा', 'सम्बन्धित', 'सबै', 'क्षेत्रले', 'बुझ्नु', 'अनिवार्य', 'छ', 'र', 'त्यसलाई', 'बेलैमा', 'निराकरण', 'गर्ने', 'तर्फ', 'पाइला', 'चाल्नु', 'पर्दछ।', '\\n']\n",
      "After removing special symbols and numbers\n",
      "['वर्षपछि', 'मुलुकमा', 'राजाको', 'पञ्चायती', 'व्यवस्थाको', 'अवसान', 'र', 'एक', 'पटक', 'फेरि', 'बहुदलीय', 'व्यवस्थाको', 'उदय', 'भएको', 'छ', 'यस', 'सुखद', 'घडीको', 'पृष्ठभूमिमा', 'नेपाली', 'आमाका', 'सयौं', 'सपुतहरूले', 'प्रजातन्त्रको', 'निम्ति', 'बलिबेदीमा', 'आफ्नो', 'अमूल्य', 'जीवन', 'न्यौछावर', 'गरेका', 'छन्', 'तपाईँ', 'हाम्रै', 'बीच', 'निरङ्कुश', 'व्यवस्थाको', 'पोल', 'खोल्ने', 'जीवन्त', 'साक्षीहरूको', 'रूपमा', 'यातना', 'शिविरबाट', 'फर्केका', 'कैयौं', 'अपाङ्गहरू', 'अहिले', 'पनि', 'छँदैछन्', 'यस', 'प्रजातान्त्रिक', 'लडाइँलाई', 'निरन्तरता', 'दिने', 'क्रममा', 'तपाईँ', 'हाम्रै', 'गाउँघरमा', 'कैयन्', 'घरबारहरू', 'राजनीतिक', 'कारणले', 'बेहाल', 'बनाइएका', 'छन्', 'जनताको', 'अनवरत', 'सङ्घर्ष', 'र', 'खासगरी', 'अघिल्लो', 'वर्ष', 'राजनीतिक', 'विचारधारा', 'बर्ग', 'धर्म', 'पेसा', 'या', 'जात', 'जातिको', 'कुनै', 'भेदभाव', 'नराखी', 'एक', 'ढिको', 'ढिकको', 'भएर', 'नेपाली', 'जनताको', 'जुझारू', 'र', 'निर्णायक', 'सङ्घर्षले', 'वर्षसम्म', 'एकछत्र', 'रजाइँ', 'गर्दै', 'आएको', 'एक', 'दलीय', 'तानाशाही', 'व्यवस्थालाई', 'लत्\\u200cर्याइयो', 'अथाह', 'कष्ट', 'असह्य', 'यातना', 'र', 'निर्मम', 'शोषणमाथि', 'बनेको', 'निरङ्कुशताको', 'महल', 'अब', 'रहेन', 'वर्षपछि', 'नेपाली', 'जनता', 'बहुदलीय', 'प्रतिस्पर्धात्मक', 'वातावरणमा', 'आम', 'चुनावमा', 'जान', 'पाइ', 'रहेका', 'छन्', 'यस', 'सुखद', 'अवसरमा', 'प्रजातान्त्रिक', 'जनमञ्च', 'निरङ्कुशता', 'फाल्न', 'र', 'प्रजातन्त्र', 'ल्याउन', 'सहादत', 'हुनुहुने', 'तमाम', 'शहीदहरूमा', 'कृतज्ञता', 'पूर्वक', 'श्रद्धाञ्जली', 'अर्पण', 'गर्दछ', 'यस', 'विजयमा', 'नेपाली', 'जनताको', 'अजेय', 'पौरख', 'अभिव्यक्त', 'भएको', 'छ', 'हामी', 'समस्त', 'नेपाली', 'जनतालाई', 'हार्दिक', 'अभिवादन', 'गर्न', 'चाहन्छौं', 'यस', 'लामो', 'प्रजातान्त्रिक', 'सङ्घर्षमा', 'सहभागी', 'हुनुहुने', 'तमाम', 'योद्धाहरू', 'धन्यवादका', 'पात्र', 'छन्', 'हाम्रो', 'यो', 'आन्दोलनमा', 'विदेशी', 'मित्रहरूको', 'न्यानो', 'नैतिक', 'समर्थनले', 'आन्दोलनको', 'सफलताको', 'निम्ति', 'थप', 'उर्जाको', 'काम', 'गर्\\u200dयो', 'हामी', 'हाम्रा', 'समस्त', 'विदेशी', 'मित्रहरूको', 'यस', 'दिशामा', 'भएको', 'भूमिका', 'र', 'योगदानको', 'उच्च', 'मूल्याङ्कन', 'गर्दछौ', 'र', 'यस', 'पवन', 'घडीमा', 'वहाँहरू', 'प्रति', 'आभार', 'प्रकट', 'गर्दछौँ', 'प्रजातान्त्रिक', 'जनमञ्च', 'नेपालमा', 'अहिलेसम्म', 'बनेका', 'राजनीतिक', 'सङ्गठनमा', 'सबभन्दा', 'कान्छो', 'सङ्गठन', 'हो', 'गत', 'माघ', 'गते', 'मात्र', 'विभिन्न', 'क्षेत्रमा', 'कार्यरत', 'राजनीतिक', 'व्यक्तिहरूको', 'आपसी', 'छलफल', 'र', 'विचार', 'विनिमयको', 'स्वाभाविक', 'निष्कर्ष', 'हो', 'जनमञ्च', 'राजनीतिक', 'पार्टीको', 'रूपमा', 'विकास', 'नभइसकेको', 'भए', 'पनि', 'यसले', 'यति', 'छिटो', 'अवधिमा', 'नै', 'जति', 'बढी', 'जन', 'अभिरुचि', 'समर्थन', 'र', 'सहभागिता', 'पाउन', 'सकेको', 'छ', 'त्यसले', 'जनमञ्चको', 'नवीन', 'धाराको', 'औचित्यलाई', 'थप', 'पुष्टि', 'गरेको', 'छ', 'ठूलो', 'मूल्य', 'चुकाएर', 'प्राप्त', 'गरेको', 'प्रजातान्त्रिक', 'उपलब्धिलाई', 'सुदृढ', 'तथा', 'प्रवर्द्धन', 'गर्न', 'हिजोभन्दा', 'बढी', 'सतर्क', 'र', 'जिम्मेवारीका', 'साथ', 'लाग्नु', 'सबै', 'नेपालीहरूको', 'परम', 'दायित्व', 'हो', 'प्रजातन्त्रअभिव्यक्ति', 'स्वतन्त्रता', 'र', 'सङ्गठन', 'गर्ने', 'अधिकार', 'मात्र', 'होइन', 'यसले', 'जनताको', 'गुणस्तरमा', 'सुधार', 'ल्याउन', 'सक्नु', 'पर्दछ', 'हिजोको', 'शासनले', 'विकास', 'श्रीलङ्कामा', 'हामीलाई', 'पुछारमा', 'मात्र', 'छाडेन', 'आम', 'गरिबी', 'चरम', 'विषमता', 'र', 'व्यापक', 'बेरोजगारी', 'पनि', 'विरासतमा', 'छाडेको', 'छ', 'अहिले', 'मुलुकको', 'हालत', 'भनेको', 'बेवारिसे', 'वालकको', 'जस्तो', 'लथालिङ्ग', 'छ', 'त्यसैले', 'अब', 'आर्थिक', 'सामाजिक', 'क्षेत्रमा', 'प्रजातान्त्रिक', 'पुनर्गठन', 'गर्नु', 'हाम्रो', 'चुनौतीपूर्ण', 'कार्य', 'हो', 'जनताको', 'आर्थिक', 'सामाजिक', 'जीवनमा', 'व्यापक', 'सुधार', 'ल्याएर', 'मात्रै', 'प्रजातन्त्रलाई', 'सुदृढ', 'र', 'दिगो', 'बनाउन', 'सकिन्छ', 'र', 'मात्रै', 'साँचो', 'अर्थमा', 'प्रजातन्त्रलाई', '\"जनताको', 'जनताद्वारा', 'जनताको', 'निम्ति', 'सरकार\"', 'मा', 'अनुवाद', 'गर्न', 'सकिन्छ', 'त्यसै', 'पनि', 'हाम्रो', 'गरिबीले', 'हाम्रो', 'राष्ट्रिय', 'स्वाभीमान', 'र', 'अस्मितालाई', 'निर्बल', 'त', 'बनाएको', 'छँदैछ', 'त्यसमाथि', 'राष्ट्रियता', 'सम्बन्धी', 'समस्याहरू', 'थाती', 'राख्ने', 'र', 'थुपार्ने', 'काम', 'निरन्तर', 'हुँदै', 'आइरहेका', 'छन्', 'अझ', 'प्रजातन्त्रको', 'नाममा', 'राष्ट्रिय', 'हितलाई', 'किञ्चित्', 'मात्र', 'पनि', 'आँच', 'आउने', 'काम', 'हुन्छ', 'कि', 'भन्ने', 'विषयमा', 'आज', 'राष्ट्रिय', 'जागरुकता', 'अरू', 'आवश्यक', 'बनेको', 'छ', 'राष्ट्रिय', 'सङ्कल्प', 'र', 'साहसका', 'साथ', 'हामीले', 'विदेशसँगको', 'सम्बन्धलाई', 'पञ्चशीलका', 'सिद्धान्तका', 'आधारमा', 'सुव्यवस्थित', 'गर्नु', 'पर्दछ', 'हाम्रो', 'भूराजनीतिक', 'अवस्थाले', 'हामीलाई', 'तर्कसङ्गत', 'र', 'लचिलो', 'विदेशनीति', 'अवलम्वन', 'गर्न', 'प्रेरित', 'गरेको', 'छ', 'तर', 'यसको', 'अर्थ', 'स्वतन्त्र', 'राष्ट्रिय', 'व्यक्तित्व', 'विकासमा', 'आँच', 'पुर्\\u200dयाउने', 'या', 'राष्ट्रिय', 'हितलाई', 'कुनै', 'पनि', 'बहानामा', 'सौदाबाजी', 'गर्ने', 'हुनुहुँदैन', 'हामीबाट', 'खास', 'गरी', 'चीन', 'तथा', 'भारतसँगको', 'सम्बन्धमा', 'सन्तुलित', 'र', 'सतर्क', 'ढङ्गले', 'घनिष्ट', 'रूपमा', 'समान', 'व्यवहार', 'गरिनु', 'पर्दछ', 'प्रजातन्त्रको', 'विकास', 'प्रकृयामा', 'हामी', 'नितान्त', 'सुषुप्त', 'अवस्थामा', 'छौँ', 'हामीले', 'हाम्रा', 'देशवासीलाई', 'मानवजातिको', 'अथक', 'सङ्घर्ष', 'र', 'सभ्यताले', 'सिर्जेका', 'तथा', 'परिष्कृत', 'गरिएका', 'आधुनिकतम', 'मानव', 'मूल्य', 'अनुसरण', 'गर्न', 'सक्षम', 'तुल्याउनु', 'पर्दछ', 'व्यक्तिगत', 'स्वतन्त्रता', 'र', 'सामाजिक', 'उत्तरदायित्वको', 'आदर्शतम', 'सन्तुलन', 'नै', 'मानव', 'सभ्यता', 'र', 'मानव', 'प्रगतिको', 'अन्तरलुप्\\u200dत', 'रहस्य', 'हो', 'भन्ने', 'कुरा', 'अब', 'विवादको', 'विषय', 'रहेन', 'व्यक्तिगत', 'स्वतन्त्रताको', 'उपयोग', 'गर्दा', 'सामाजिक', 'उत्तरदायित्वको', 'हेक्का', 'राखिनु', 'पर्दछ', 'हाम्रो', 'भविष्य', 'र', 'हाम्रो', 'विकल्प', 'भनेको', 'राष्\\u200dट्रवादी', 'प्रजातान्त्रिक', 'विकल्प', 'नै', 'हो', 'हाम्रा', 'घोषित', 'लक्ष', 'र', 'सो', 'प्रतिको', 'निष्\\u200dठा', 'र', 'प्रतिवद्धताको', 'गहनाले', 'यथास्थिति', 'का', 'सीमालाई', 'नाघ्दछ', 'वर्तमान', 'सामाजिक', 'आर्थिक', 'संरचना', 'र', 'संस्थाबाट', 'द्रुततर', 'सामग्रिक', 'विकासको', 'आकाङ्क्षा', 'फलीभूत', 'हुन', 'सक्दैन', 'प्रजातान्त्रिक', 'ढङ्गले', 'यस', 'क्षेत्रमा', 'विकासलाई', 'गति', 'दिने', 'गरी', 'परिवर्तन', 'ल्याउनु', 'पर्दछ', 'त्यसैले', 'प्रजातान्त्रिक', 'जनमञ्चले', 'सामाजिक', 'आर्थिक', 'क्रान्तिको', 'बिगुल', 'फुक्दै', 'आमूल', 'परिवर्तन', 'कारी', 'प्रजातान्त्रिक', 'विकल्पको', 'अवधारणा', 'अघि', 'सारेको', 'हो', 'स्थापित', 'राजनीतिक', 'शक्तिहरूबाट', 'राष्\\u200dट्रवादी', 'प्रजातान्त्रिक', 'अभिभारा', 'सम्पन्न', 'हुने', 'आशा', 'राख्ने', 'ठाउँ', 'छैन', 'राजाको', 'शक्तिले', 'मुलुकलाई', 'निरङ्कुशतामा', 'जकडेको', 'मात्र', 'नभएर', 'आर्थिक', 'सामाजिक', 'रूपमा', 'रसातलमा', 'पुर्\\u200dयाइ', 'दियो', 'राजनीतिक', 'नेतृत्व', 'विशेष', 'शक्ति', 'या', 'कुलको', 'निम्ति', 'सार्वकालिक', 'रूपमा', 'सुरक्षित', 'गर्ने', 'विषय', 'होइन', 'सत्तामा', 'राजनीतिक', 'एकाधिकारको', 'नाम', 'नै', 'तानाशाही', 'या', 'निरङ्कुश', 'तन्त्र', 'हो', 'जनताको', 'नाममा', 'पार्टी', 'नोकरशाहहरूले', 'या', 'प्रजातन्त्रको', 'नाममा', 'सम्भ्रान्तहरूले', 'शासन', 'गर्ने', 'परिपाटी', 'अभिशापपूर्ण', 'रहेको', 'तथ्य', 'सबैको', 'सामु', 'छर्लङ्ग', 'छ', 'सत्तामा', 'राजनीतिक', 'नेतृत्व', 'आवधिक', 'रूपमा', 'जनताको', 'अनुमोदन', 'लिई', 'रहनु', 'पर्दछ', 'र', 'प्रतिस्पर्धालाई', 'स्विकार्नु', 'पर्दछ', 'अर्कोतिर', 'सत्ता', 'लिप्साको', 'निम्ति', 'राष्ट्रिय', 'स्वार्थलाई', 'गौण', 'र', 'सौदाबाजीको', 'विषय', 'बनाउने', 'र', 'राष्ट्रिय', 'हितको', 'जगेर्ना', 'भन्दा', 'पनि', 'पराई', 'मुलुकको', 'हितमा', 'वकालत', 'गर्ने', 'प्रवृत्ति', 'पनि', 'राजनीतिक', 'शक्तिहरूमा', 'छदैछ', 'नयाँ', 'राजनीतिक', 'नेतृत्वको', 'खाँचो', 'यसैले', 'परेको', 'हो', 'प्रजातान्त्रिक', 'जनमञ्च', 'यस', 'दिशामा', 'प्रारंभिक', 'पाइलो', 'हो', 'हामी', 'सवल', 'प्रजातान्त्रिक', 'विकल्प', 'विकासको', 'निम्ति', 'कृतसङ्कल्पित', 'छौँ', 'जातीय', 'तथा', 'भौगोलिक', 'बनोटको', 'हिसाबले', 'हाम्रो', 'देश', 'भिन्नताको', 'मेल', 'हो', 'बिभिन्न', 'जातजाति', 'भाषाभाषी', 'र', 'उनीहरूको', 'आ', 'आफ्नै', 'परम्परा', 'र', 'संस्कृतिले', 'नेपाललाई', '\"सयौं', 'फूलहरूको', 'फूलबारी\"', 'बनाइ', 'दिएको', 'छ', 'हामी', 'कहाँ', 'धर्म', 'भाषा', 'भेष', 'भूषा', 'चाडबाड', 'रीतिरिवाज', 'चलन', 'वा', 'परम्पराको', 'भिन्नताले', 'अलग', 'अलग', 'जातीय', 'अस्तित्व', 'बोकेको', 'मात्र', 'नभएर', 'पारस्परिक', 'समझदारी', 'सदभाव', 'सहिष्णुता', 'र', 'एकताको', 'आदर्श', 'भावले', 'साझा', 'राष्ट्रिय', 'संस्कृतिको', 'धरोहर', 'खडा', 'गरेको', 'छ', 'यति', 'हुँदाहुँदै', 'पनि', 'यस', 'क्षेत्रमा', 'समस्याहरू', 'छन्', 'शासक', 'वर्गका', 'क्रियाकलापबाट', 'विभिन्न', 'जाती', 'भाषा', 'तथा', 'संस्कृति', 'बीच', 'विभेद', 'भएको', 'छ', 'सामाजिक', 'विकासका', 'प्रवाहमा', 'कतिपय', 'जातिहरू', 'खास', 'गरी', 'जनजातिहरू', 'पछि', 'परेका', 'छन्', 'असमान', 'जातीय', 'विकासले', 'सृजेका', 'समस्याहरू', 'सधैं', 'भरि', 'थाती', 'राखेर', 'वा', 'उपेक्षा', 'गरेर', 'राख्न', 'मिल्दैन', 'जनतामा', 'जातीय', 'भेदभावको', 'बोध', 'विकास', 'हुन', 'थालेपछि', 'त्यसले', 'कस्तो', 'भयावह', 'रूप', 'लिन्छ', 'भन्ने', 'कुरा', 'हामीले', 'छिमेकी', 'मुलुककै', 'विकासक्रमबाट', 'हेरे', 'पनि', 'प्रष्ट', 'हुन्छ', 'आगामी', 'दिनमा', 'हामीले', 'प्राथमिकताका', 'साथ', 'समाधान', 'गर्नु', 'पर्ने', 'समस्या', 'यो', 'पनि', 'हो', 'तर', 'सबैले', 'के', 'कुरा', 'बुझ्नु', 'जरुरी', 'छ', 'भने', 'यो', 'समस्या', 'विद्यमान', 'छ', 'भन्ने', 'नाउँमा', 'यसलाई', 'जातीय', 'मेलमिलाप', 'र', 'राष्ट्रिय', 'अखण्डतामा', 'खलल', 'पुग्ने', 'गरी', 'साम्प्रदायिकता', 'भडकाउने', 'या', 'राष्ट्रिय', 'विघटन', 'कार्यमा', 'सघाउ', 'पुर्\\u200dयाउने', 'कार्य', 'गर्न', 'कसैलाई', 'अनुमति', 'हुने', 'छैन', 'हिजोको', 'निरङ्कुश', 'शासनको', 'तर', 'काढेर', 'बसेकाहरू', 'जातीय', 'हितका', 'इसामसिह', 'बन्न', 'खोजेको', 'हरकतलाई', 'खास', 'गरी', 'सम्बन्धित', 'क्षेत्रबाट', 'नै', 'स्यालको', 'निरर्थक', 'धुर्त्याई', 'हो', 'भनेर', 'बुझ्न', 'र', 'बुझाउन', 'जरुरी', 'छ', 'यसै', 'गरी', 'हाम्रो', 'भौगोलिक', 'बनोटका', 'अतिरिक्त', 'शासक', 'वर्गहरूको', 'असन्तुलित', 'नीति', 'र', 'सीमान्त', 'क्षेत्रको', 'शोषणबाट', 'केन्द्र', 'सिंगार्ने', 'नीतिले', 'गर्दा', 'क्षेत्रीय', 'विकासमा', 'जवर्जस्त', 'असन्तुलन', 'कायम', 'हुन', 'गएको', 'छ', 'दुर्गम', 'तथा', 'पहाडी', 'क्षेत्र', 'सुदूर', 'पश्चिम', 'इलाका', 'विकास', 'प्रवाहमा', 'समाहित', 'हुन', 'सकेका', 'छैनन्', 'सिमान्त', 'क्षेत्रको', 'तराई', 'त्यस्तै', 'जर्जर', 'र', 'उजाड', 'छ', 'यस', 'असन्तुलनलाई', 'हामीले', 'कहिले', 'सम्म', 'थेग्न', 'सक्छौँ', 'अब', 'उप्रान्त', 'विकास', 'सम्बन्धी', 'नीति', 'कार्यक्रम', 'तथा', 'परियोजना', 'तर्जुमा', 'तथा', 'सञ्चालन', 'गर्दा', 'यस', 'असन्तुलनलाई', 'मध्ये', 'नजर', 'राखेर', 'सञ्चालन', 'गरिनु', 'पर्दछ', 'र', 'पिछडिएका', 'क्षेत्रमा', 'प्राथमिकता', 'दिनु', 'पर्दछ', 'आदरणीय', 'देशवासीहरू', 'आमा', 'निर्वाचनको', 'दिन', 'नजिकिंदै', 'छ', 'कम्तीमा', 'राष्ट्रलाई', 'आगामी', 'पाँच', 'वर्षका', 'निम्ति', 'दिशा', 'दिने', 'काम', 'यस', 'निर्वाचनबाट', 'गठित', 'संसद', 'र', 'सरकारले', 'गर्ने', 'छ', 'संसद', 'र', 'सरकारको', 'बनोटलाई', 'विद्यमान', 'पार्टी', 'र', 'उनीहरूको', 'प्रत्यासीहरूले', 'प्रभावित', 'गर्ने', 'भएको', 'हुँदा', 'उनीहरूप्रति', 'मोटामोटी', 'रूपमा', 'विचार', 'बनाउनु', 'जरुरी', 'छ', 'अहिले', 'मूलतः', 'यस', 'निर्वाचनमा', 'निम्न', 'राजनीतिक', 'शक्तिहरू', 'क्रियाशील', 'रहेका', 'छन्', '\\n', 'राजाको', 'पञ्चायती', 'शक्ति', 'बहुदलीय', 'व्यवस्था', 'पुनर्स्थापनको', 'लगत्तै', 'पछि', 'एकै', 'दिन', 'एउटै', 'झण्डा', 'बोकि', 'एउटै', 'नाममा', 'खुलेका', 'दुईवटा', 'राष्ट्रिय', 'प्रजातन्त्र', 'पार्टी', 'राजा', 'र', 'राजदरबारकै', 'जुम्ल्याहा', 'बच्चा', 'हुन्', 'भन्नुमा', 'अत्युक्ति', 'नहोला', 'पञ्चायतको', 'परिवर्तित', 'रूपलाई', 'यिनीहरूले', 'प्रतिनिधित्व', 'गर्दछन्', 'यिनीहरूले', 'विगत', 'वर्षमा', 'कयौं', 'पटक', 'राजाको', 'सकृय', 'नेतृत्वको', 'कसम', 'खाएका', 'छन्', 'राजा', 'पनि', 'त्यसैगरी', 'नाचेका', 'छन्', 'निर्दलीयताको', 'नाममा', 'निर्मन', 'दमनबाट', 'चलेको', 'तानाशाही', 'शासन', 'नै', 'उनीहरूको', 'पुर्ख्यौली', 'राजनीतिक', 'सम्पत्ति', 'हो', 'शोषण', 'विहिन्', 'समाज', 'निर्माण', 'गर्ने', 'नाममा', 'उनीहरूले', 'राष्ट्रको', 'सर्वस्व', 'लुटेका', 'छन्', 'र', 'अथाह', 'सम्पाति', 'विदेशमा', 'थुपारेका', 'छन्', 'वर्षको', 'उनीहरूको', 'कुकर्मलाई', 'हेरेर', 'इतिहासले', 'जुन', 'निर्णय', 'दिएको', 'छ', 'त्यसलाई', 'राज्यसत्ता', 'र', 'ब्रह्मलुटको', 'सम्पत्तिले', 'उल्ट्\\u200dयाउन', 'उनीहरू', 'भरमग्दुर', 'लागेका', 'छन्', 'इतिहासको', 'पाङ्ग्रालाई', 'पछि', 'धकेल्ने', 'उनीहरूका', 'दुश्\\u200dचेष्\\u200dटा', 'किमार्थ', 'सफल', 'हुने', 'छैनन्', 'अन्तरिम', 'मन्त्रिमण्डलले', 'जनादेशको', 'शाहसपूर्वक', 'कार्यान्वयन', 'गर्न', 'नसकेर', 'पनि', 'उनीहरू', 'अहिले', 'छाती', 'खोल्न', 'पाइरहेका', 'छन्', 'इतिहासको', 'निर्णयलाई', 'बदर', 'गराउन', 'खोज्ने', 'यस', 'शक्तिलाई', 'आगामी', 'निर्वाचनले', 'पनि', 'यसरी', 'ङ्याक्नु', 'पर्दछ', 'जसले', 'गर्दा', 'पुनः', 'अर्को', 'तानाशाही', 'शक्ति', 'शिर', 'उठाउने', 'हिम्मत', 'गर्न', 'नसकोस्', '\\n.', 'नेपाली', 'काँग्रेस', 'राजाको', 'निरङ्कुशताको', 'रूपमा', 'रहेको', 'पञ्चायती', 'व्यवस्थालाई', 'मास्न', 'र', 'बहुदलीय', 'व्यवस्थाको', 'स्थापनाको', 'निम्ति', 'नेपाली', 'काङ्ग्रेसले', 'गरेको', 'योगदान', 'सराहनीय', 'छ', 'पञ्चायत', 'विरोधी', 'आन्दोलनकारी', 'शक्तिहरूसँगको', 'संयुक्त', 'आन्दोलनको', 'विरोध', 'र', 'खासगरी', 'को', 'दशकमा', 'आएर', 'निरङ्कुश', 'राजतन्त्रसँगको', 'मेलमिलापको', 'नीतिले', 'गर्दा', 'नै', 'पञ्चायतको', 'आयु', 'यतिसम्म', 'लामो', 'हुन', 'गएको', 'हो', 'गएको', 'जन', 'आन्दोलनमा', 'आन्दोलनको', 'उद्\\u200dघोष', 'मात्र', 'होइन', 'तालमेल', 'कै', 'हदसम्म', 'भए', 'पनि', 'संयुक्त', 'आन्दोलनमा', 'आउने', 'उसको', 'निर्णय', 'प्रजातान्त्रिक', 'आन्दोलनको', 'विकासको', 'निम्ति', 'निर्णायक', 'मोड', 'बन्न', 'पुग्यो', 'आन्दोलनको', 'सफलता', 'पछि', 'कम्युनिष्ट', 'तथा', 'राजाको', 'शक्तिलाई', 'साथमा', 'लिएर', 'सत्ता', 'सम्हाले', 'पछि', 'चरित्रगत', 'कारणले', 'नै', 'यसले', 'राजाको', 'निरङ्कुशतामा', 'हुर्केका', 'राजनीतिक', 'तथा', 'आर्थिक', 'अपराधीहरूलाई', 'कार्यवाही', 'गर्नमा', 'उदासीनता', 'मात्र', 'देखाएन', 'जघन्य', 'अपराधीहरूलाई', 'समेत', 'छोड्ने', 'हास्यास्पद', 'काम', 'समेत', 'गर्न', 'सङ्कोच', 'मानेन', 'अहिले', 'पार्टीभित्र', 'राष्ट्रियता', 'तथा', 'प्रजातन्त्र', 'विरोधी', 'शक्तिले', 'प्रश्रय', 'पाइरहेका', 'छन्', 'यही', 'कारण', 'हिजोका', 'वरिष्ठ', 'पञ्चहरूले', 'समेत', 'यसमा', 'प्रवेश', 'पाएका', 'हुन्', 'प्रबल', 'पार्टी', 'ब्युरोक्रेसी', 'र', 'आन्तरिक', 'प्रजातन्त्रको', 'अभावको', 'बारेमा', 'पार्टीका', 'स्वयम्', 'कार्यकर्ताहरू', 'आवाज', 'उठाइरहेका', 'छन्', '\"चीनसँग', 'मित्रता', 'र', 'भारतसँग', 'घनिष्\\u200dटता\"', 'को', 'यसको', 'घोषित', 'नीतिको', 'दुष्परिणामहरू', 'प्रकट', 'हुन', 'थालेका', 'छन्', 'र', 'को', 'सन्धिको', 'अन्यायपूर्ण', 'प्रावधानले', 'राष्ट्रिय', 'स्वार्थ', 'र', 'स्वाभीमानलाई', 'किचिरहेको', 'छ', 'त्यस', 'माथि', 'अरू', 'बोझहरू', 'थपिँदै', 'छन्', 'कोशी', 'र', 'गण्डकी', 'सम्झौतामा', 'लागेको', 'राष्ट्रिय', 'कलङ्क', 'र', 'ठगिएको', 'घाउ', 'आलै', 'छ', 'भारत', 'आफ्नो', 'प्रतिरक्षा', 'अवधारणा', 'मनाउन', 'दवाब', 'दिइरहेको', 'छ', 'भारतीय', 'एकाधिकार', 'पूँजीको', 'जकडबाट', 'नेपाली', 'अर्थतन्त्र', 'आक्रान्त', 'छ', 'स्वतन्त्र', 'राष्ट्रिय', 'अर्थतन्त्रको', 'विकासमा', 'खुला', 'सीमाना', 'एउटा', 'तगारो', 'हो', 'सीमाना', 'नियन्त्रण', 'गर्ने', 'राष्ट्रिय', 'जागरण', 'बढी', 'रहेको', 'छ', 'यो', 'बेला', 'साझा', 'नदी', 'साझा', 'मुद्रा', 'र', 'कुनै', 'कुनै', 'कुनाबाट', 'साझा', 'सरकारको', 'समेत', 'कुरा', 'उठ्नुले', 'मुलुकको', 'राष्\\u200dट्रवादी', 'शक्ति', 'चिन्तित', 'र', 'ससङ्कित', 'हुनु', 'र', 'सजगता', 'देखाउनु', 'स्वाभाविक', 'हो', 'वर्तमान', 'संविधानमा', 'महत्वपूर्ण', 'सन्धि', 'सम्झौता', 'गरिँदा', 'सदनको', 'दुई', 'तिहाइ', 'बहुमतको', 'अनुमोदन', 'चाहिने', 'प्रावधान', 'छ', 'यसको', 'ध्येय', 'राष्ट्रिय', 'हितका', 'विषयमा', 'निर्णय', 'लिइँदा', 'राष्ट्रिय', 'सहमति', 'खोज्ने', 'नै', 'हो', 'राष्ट्रिय', 'हितलाई', 'कुनै', 'पार्टी', 'विशेषको', 'सेन्टिमेन्टले', 'डिक्टेट', 'गरिनु', 'हुँदैन', 'नेपाली', 'काँग्रेसमा', 'वर्तमान', 'सामाजिक', 'आर्थिक', 'संरचनालाई', 'विकास', 'र', 'जनताको', 'पक्षमा', 'आमूल', 'परिवर्तन', 'गराउने', 'सङ्कल्प', 'शक्तिको', 'सर्वथा', 'अभाव', 'छ', 'यथास्थितिलाई', 'कायम', 'राखेर', 'ल्याइने', 'प्रजातान्त्रिक', 'समाजवादको', 'रूप', 'के', 'होला', 'समाजको', 'विपन्न', 'र', 'असक्त', 'वर्गले', 'नयाँ', 'परिवर्तनलाई', 'कसरी', 'अनुभव', 'गर्ने', 'नेपाली', 'काँग्रेसले', 'पूर्ववर्ती', 'शासनका', 'आर्थिक', 'सामाजिक', 'नीतिहरूलाई', 'विरासतमा', 'लिने', 'र', 'उनीहरूकै', 'पदचिह्नमा', 'हिँड्ने', 'सङ्केत', 'गरी', 'सकेको', 'छ', '\\n.', 'कम्युनिष्ट', 'शक्ति', 'नेपालको', 'वर्तमान', 'शक्ति', 'समीकरणमा', 'अर्को', 'महत्वपूर्ण', 'शक्ति', 'कम्युनिष्ट', 'शक्ति', 'हो', 'राष्ट्रियताका', 'सवालमा', 'र', 'प्रजातन्त्र', 'स्थापनाको', 'सङ्घर्षमा', 'यसको', 'योगदान', 'सकारात्मक', 'रहेको', 'तथ्यलाई', 'कसैले', 'इन्कार्न', 'मिल्दैन', 'यसैकारण', 'नै', 'विश्व', 'कम्युनिष्ट', 'आन्दोलन', 'सङ्कटबाट', 'गुज्रिरहेको', 'भए', 'पनि', 'यहाँ', 'कम्युनिष्ट', 'आन्दोलन', 'प्रबल', 'रूपमा', 'रहेको', 'छ', 'यति', 'हुँदाहुँदै', 'पनि', 'यो', 'आन्दोलन', 'एकीकृत', 'आन्दोलन', 'होइन', 'विभिन्न', 'धारा', 'र', 'चिरामा', 'विभक्त', 'यो', 'आन्दोलनको', 'विभाजन', 'जनता', 'र', 'राष्ट्रका', 'प्रश्\\u200dनमा', 'भन्दा', 'पनि', 'नेतृत्व', 'तृष्णा', 'विदेशी', 'नक्कल', 'र', 'जडसूत्रको', 'अनुसरणमा', 'भएको', 'छ', 'बेला', 'बखत', 'यो', 'आन्दोलन', 'उग्र', 'बामपन्थ', 'र', 'दक्षिणपन्थको', 'सिकार', 'रहेको', 'कुरा', 'स्वयम्', 'कम्युनिष्टहरू', 'स्विकार्दछन्', 'यतिमात्र', 'होइन', 'उनीहरू', 'अहिले', 'पनि', 'एक', 'अर्कालाई', 'दक्षिणपन्थी', 'र', 'जडसूत्रवादीको', 'आरोप', 'प्रत्यारोप', 'लगाइ', 'रहेका', 'छन्', 'सामाजिक', 'अन्याय', 'र', 'शोषणको', 'विरुद्धमा', 'आवाज', 'उठाउने', 'काम', 'त', 'यस', 'आन्दोलनबाट', 'भएको', 'छ', 'तर', 'तर्कसङ्गत', 'सामाजिक', 'न्याय', 'र', 'समुन्नति', 'कसरी', 'स्थापित', 'गर्ने', 'बारेमा', 'नेपाली', 'कम्युनिष्टहरूले', 'कुनै', 'भरपर्दो', 'कार्यक्रम', 'दिन', 'सकेका', 'छैनन्', 'नेपाली', 'कम्युनिष्ट', 'आन्दोलन', 'बृहत्तर', 'प्रजातान्त्रिक', 'आन्दोलनको', 'एक', 'हिस्सा', 'भएर', 'पनि', 'यसले', 'नेपालको', 'भूराजनीतिक', 'यथार्थको', 'नेतृत्व', 'गर्न', 'सक्दैन', 'कठोर', 'पार्टी', 'ब्युरोक्रेसी', 'आन्तरिक', 'जनवादको', 'अभाव', 'र', 'अनवरत', 'पार्टीसत्ता', 'सङ्घर्ष', 'यस', 'आन्दोलनका', 'भित्री', 'विशेषताहरू', 'हुन्', 'खुल्ला', 'समाज', 'र', 'बहुदलीय', 'प्रतिस्पर्धात्मक', 'राजनीतिलाई', 'ठाडै', 'या', 'घुमाउरो', 'पाराले', 'अस्वीकार', 'गर्ने', 'र', 'सत्तामा', 'कम्युनिष्ट', 'नेतृत्व', 'एकाधिकारको', 'वकालत', 'गर्ने', 'धारा', 'अहिले', 'पनि', 'यस', 'आन्दोलनभित्र', 'छँदैछ', 'राष्\\u200dट्र', 'र', 'जनतासँग', 'जिम्मेवार', 'भएर', 'प्रभावकारी', 'र', 'तर्क', 'सङ्गत', 'राष्ट्रिय', 'दिशा', 'निर्क्यौल', 'गर्नमा', 'भन्दा', 'पनि', 'यो', 'आन्दोलन', '\"वाल', 'रोग\"', 'को', 'बढी', 'सिकार', 'छ', 'यस', 'आमनिर्वाचनको', 'सिलसिलामा', '\"एक', 'बाम', 'एक', 'ठाम\"', 'को', 'प्रस्तावलाई', 'कम्युनिष्टहरू', 'बाटै', 'धुजा', 'धुजा', 'पारियो', 'उनीहरूको', 'सत्ता', 'लिप्सा', 'अपरिपक्वता', 'अहम्', 'र', 'गैह्र', 'जिम्मेवारीलाई', 'नाप्ने', 'यो', 'भन्दा', 'अरू', 'कुनै', 'मापदण्ड', 'चाहिन्छ', 'र', 'नेपाली', 'इतिहासमा', 'पहिलो', 'पटक', 'कम्युनिष्टहरू', 'यसपाली', 'सत्तामा', 'अंशियार', 'बन्न', 'पुगेका', 'हुन्', 'अन्तरिम', 'मन्त्रि', 'मण्डलका', 'सफलता', 'र', 'असफलता', 'नै', 'उनीहरूको', 'पनि', 'वासलात', 'हो', 'उनीहरू', 'सत्तामा', 'रहेको', 'जनताले', 'राष्ट्रिय', 'जीवनको', 'कुन', 'पक्षमा', 'अनुभव', 'गर्न', 'पाए', 'त्यसको', 'इतिहासले', 'मूल्याङ्कन', 'गर्ने', 'नै', 'छ', 'हामी', 'यति', 'भन्न', 'विवश', 'छौँ', 'सत्तामा', 'रहेकाहरूले', 'आफ्नो', 'छविलाई', 'विवादास्पद', 'बनाउनबाट', 'जोगाउन', 'सकेनन्', '\\n.', 'जातीय', 'तथा', 'साम्प्रदायिक', 'शक्तिहरू', 'जन', 'आन्दोलन', 'पछि', 'नै', 'प्रकट', 'रूपमा', 'जातीय', 'तथा', 'साम्प्रदायिक', 'आधारमा', 'सङ्गठित', 'हुने', 'प्रक्रिया', 'पनि', 'हामी', 'कहाँ', 'देखिएको', 'छ', 'जातीय', 'अर्थात्', 'साम्प्रदायिक', 'समस्या', 'विद्यमान', 'छ', 'भन्नु', 'त्यसको', 'उपयुक्त', 'समाधानको', 'खोजी', 'गर्नु', 'र', 'आफ्नो', 'हित', 'तथा', 'उत्थानको', 'निम्ति', 'सङ्गठित', 'प्रयास', 'गर्नु', 'राम्रो', 'कुरा', 'हो', 'तर', 'पिछडिएका', 'जातिको', 'उत्थानको', 'नाममा', 'वा', 'जातीय', 'अन्तर', 'विरोध', 'नै', 'प्रधान', 'अन्तर', 'विरोध', 'हो', 'भन्ने', 'नाममा', 'जाती', 'जाती', 'बीचको', 'जातीय', 'तथा', 'साम्प्रदायिक', 'सद्\\u200cभावलाई', 'बिथोल्ने', 'गरी', 'या', 'जातीय', 'साम्प्रदायिक', 'दङ्गा', 'भड्काउने', 'क्रियाकलाप', 'कसैबाट', 'पनि', 'हुनुहुँदैन', 'जातीय', 'तथा', 'साम्प्रदायिक', 'समस्या', 'समाधानको', 'निम्ति', 'केही', 'क्षेत्रबाट', 'सङ्घीय', 'राज्य', 'स्वायत्त', 'क्षेत्र', 'पछि', 'परेका', 'जात', 'तथा', 'जनजातिहरूको', 'निम्ति', 'आरक्षण', 'तथा', 'जातीय', 'समानुपातिक', 'प्रतिनिधित्व', 'जस्ता', 'कुरा', 'पनि', 'अघि', 'सारिएका', 'छन्', 'जातीय', 'भेदभाव', 'र', 'पछौटेपनको', 'समाधान', 'प्रजातान्त्रिक', 'प्रक्रियाबाट', 'नै', 'गरिनु', 'पर्दछ', 'र', 'यसको', 'निम्ति', 'हाम्रो', 'यथार्थभित्र', 'राष्ट्रिय', 'छलफल', 'गर्नु', 'र', 'राष्ट्रिय', 'सहमति', 'निकाल्नु', 'आवश्यक', 'छ', 'जातीय', 'समस्या', 'प्रतिगामी', 'तथा', 'विदेशी', 'शक्ति', 'घुस्ने', 'सबभन्दा', 'सरल', 'राजमार्ग', 'हो', 'भन्ने', 'कुरा', 'सम्बन्धित', 'सबै', 'क्षेत्रले', 'बुझ्नु', 'अनिवार्य', 'छ', 'र', 'त्यसलाई', 'बेलैमा', 'निराकरण', 'गर्ने', 'तर्फ', 'पाइला', 'चाल्नु', 'पर्दछ', '\\n']\n",
      "Words after removing stopwords\n",
      "['वर्षपछि', 'मुलुकमा', 'राजाको', 'पञ्चायती', 'व्यवस्थाको', 'अवसान', 'बहुदलीय', 'व्यवस्थाको', 'उदय', 'सुखद', 'घडीको', 'पृष्ठभूमिमा', 'नेपाली', 'आमाका', 'सयौं', 'सपुतहरूले', 'प्रजातन्त्रको', 'बलिबेदीमा', 'अमूल्य', 'जीवन', 'न्यौछावर', 'तपाईँ', 'हाम्रै', 'निरङ्कुश', 'व्यवस्थाको', 'पोल', 'खोल्ने', 'जीवन्त', 'साक्षीहरूको', 'रूपमा', 'यातना', 'शिविरबाट', 'फर्केका', 'कैयौं', 'अपाङ्गहरू', 'छँदैछन्', 'प्रजातान्त्रिक', 'लडाइँलाई', 'निरन्तरता', 'दिने', 'क्रममा', 'तपाईँ', 'हाम्रै', 'गाउँघरमा', 'कैयन्', 'घरबारहरू', 'राजनीतिक', 'कारणले', 'बेहाल', 'बनाइएका', 'जनताको', 'अनवरत', 'सङ्घर्ष', 'खासगरी', 'अघिल्लो', 'वर्ष', 'राजनीतिक', 'विचारधारा', 'बर्ग', 'धर्म', 'पेसा', 'जात', 'जातिको', 'भेदभाव', 'नराखी', 'ढिको', 'ढिकको', 'नेपाली', 'जनताको', 'जुझारू', 'निर्णायक', 'सङ्घर्षले', 'वर्षसम्म', 'एकछत्र', 'रजाइँ', 'दलीय', 'तानाशाही', 'व्यवस्थालाई', 'लत्\\u200cर्याइयो', 'अथाह', 'कष्ट', 'असह्य', 'यातना', 'निर्मम', 'शोषणमाथि', 'बनेको', 'निरङ्कुशताको', 'महल', 'रहेन', 'वर्षपछि', 'नेपाली', 'जनता', 'बहुदलीय', 'प्रतिस्पर्धात्मक', 'वातावरणमा', 'आम', 'चुनावमा', 'पाइ', 'सुखद', 'अवसरमा', 'प्रजातान्त्रिक', 'जनमञ्च', 'निरङ्कुशता', 'फाल्न', 'प्रजातन्त्र', 'ल्याउन', 'सहादत', 'हुनुहुने', 'तमाम', 'शहीदहरूमा', 'कृतज्ञता', 'पूर्वक', 'श्रद्धाञ्जली', 'अर्पण', 'विजयमा', 'नेपाली', 'जनताको', 'अजेय', 'पौरख', 'अभिव्यक्त', 'समस्त', 'नेपाली', 'जनतालाई', 'हार्दिक', 'अभिवादन', 'लामो', 'प्रजातान्त्रिक', 'सङ्घर्षमा', 'सहभागी', 'हुनुहुने', 'तमाम', 'योद्धाहरू', 'धन्यवादका', 'पात्र', 'आन्दोलनमा', 'विदेशी', 'मित्रहरूको', 'न्यानो', 'नैतिक', 'समर्थनले', 'आन्दोलनको', 'सफलताको', 'उर्जाको', 'गर्\\u200dयो', 'समस्त', 'विदेशी', 'मित्रहरूको', 'दिशामा', 'भूमिका', 'योगदानको', 'उच्च', 'मूल्याङ्कन', 'गर्दछौ', 'पवन', 'घडीमा', 'वहाँहरू', 'आभार', 'प्रकट', 'गर्दछौँ', 'प्रजातान्त्रिक', 'जनमञ्च', 'नेपालमा', 'अहिलेसम्म', 'बनेका', 'राजनीतिक', 'सङ्गठनमा', 'सबभन्दा', 'कान्छो', 'सङ्गठन', 'गत', 'माघ', 'गते', 'विभिन्न', 'क्षेत्रमा', 'कार्यरत', 'राजनीतिक', 'व्यक्तिहरूको', 'आपसी', 'छलफल', 'विचार', 'विनिमयको', 'स्वाभाविक', 'निष्कर्ष', 'जनमञ्च', 'राजनीतिक', 'पार्टीको', 'रूपमा', 'विकास', 'नभइसकेको', 'छिटो', 'अवधिमा', 'जति', 'जन', 'अभिरुचि', 'समर्थन', 'सहभागिता', 'पाउन', 'सकेको', 'जनमञ्चको', 'नवीन', 'धाराको', 'औचित्यलाई', 'पुष्टि', 'मूल्य', 'चुकाएर', 'प्राप्त', 'प्रजातान्त्रिक', 'उपलब्धिलाई', 'सुदृढ', 'प्रवर्द्धन', 'हिजोभन्दा', 'सतर्क', 'जिम्मेवारीका', 'लाग्नु', 'नेपालीहरूको', 'परम', 'दायित्व', 'प्रजातन्त्रअभिव्यक्ति', 'स्वतन्त्रता', 'सङ्गठन', 'अधिकार', 'जनताको', 'गुणस्तरमा', 'सुधार', 'ल्याउन', 'सक्नु', 'पर्दछ', 'हिजोको', 'शासनले', 'विकास', 'श्रीलङ्कामा', 'पुछारमा', 'छाडेन', 'आम', 'गरिबी', 'चरम', 'विषमता', 'व्यापक', 'बेरोजगारी', 'विरासतमा', 'छाडेको', 'मुलुकको', 'हालत', 'बेवारिसे', 'वालकको', 'लथालिङ्ग', 'आर्थिक', 'सामाजिक', 'क्षेत्रमा', 'प्रजातान्त्रिक', 'पुनर्गठन', 'चुनौतीपूर्ण', 'कार्य', 'जनताको', 'आर्थिक', 'सामाजिक', 'जीवनमा', 'व्यापक', 'सुधार', 'ल्याएर', 'प्रजातन्त्रलाई', 'सुदृढ', 'दिगो', 'बनाउन', 'सकिन्छ', 'साँचो', 'अर्थमा', 'प्रजातन्त्रलाई', '\"जनताको', 'जनताद्वारा', 'जनताको', 'सरकार\"', 'अनुवाद', 'सकिन्छ', 'गरिबीले', 'राष्ट्रिय', 'स्वाभीमान', 'अस्मितालाई', 'निर्बल', 'बनाएको', 'छँदैछ', 'त्यसमाथि', 'राष्ट्रियता', 'सम्बन्धी', 'समस्याहरू', 'थाती', 'राख्ने', 'थुपार्ने', 'निरन्तर', 'हुँदै', 'आइरहेका', 'अझ', 'प्रजातन्त्रको', 'नाममा', 'राष्ट्रिय', 'हितलाई', 'किञ्चित्', 'आँच', 'आउने', 'विषयमा', 'राष्ट्रिय', 'जागरुकता', 'आवश्यक', 'बनेको', 'राष्ट्रिय', 'सङ्कल्प', 'साहसका', 'विदेशसँगको', 'सम्बन्धलाई', 'पञ्चशीलका', 'सिद्धान्तका', 'आधारमा', 'सुव्यवस्थित', 'पर्दछ', 'भूराजनीतिक', 'अवस्थाले', 'तर्कसङ्गत', 'लचिलो', 'विदेशनीति', 'अवलम्वन', 'प्रेरित', 'अर्थ', 'स्वतन्त्र', 'राष्ट्रिय', 'व्यक्तित्व', 'विकासमा', 'आँच', 'पुर्\\u200dयाउने', 'राष्ट्रिय', 'हितलाई', 'बहानामा', 'सौदाबाजी', 'हुनुहुँदैन', 'हामीबाट', 'खास', 'चीन', 'भारतसँगको', 'सम्बन्धमा', 'सन्तुलित', 'सतर्क', 'ढङ्गले', 'घनिष्ट', 'रूपमा', 'समान', 'व्यवहार', 'गरिनु', 'पर्दछ', 'प्रजातन्त्रको', 'विकास', 'प्रकृयामा', 'नितान्त', 'सुषुप्त', 'अवस्थामा', 'देशवासीलाई', 'मानवजातिको', 'अथक', 'सङ्घर्ष', 'सभ्यताले', 'सिर्जेका', 'परिष्कृत', 'गरिएका', 'आधुनिकतम', 'मानव', 'मूल्य', 'अनुसरण', 'सक्षम', 'तुल्याउनु', 'पर्दछ', 'व्यक्तिगत', 'स्वतन्त्रता', 'सामाजिक', 'उत्तरदायित्वको', 'आदर्शतम', 'सन्तुलन', 'मानव', 'सभ्यता', 'मानव', 'प्रगतिको', 'अन्तरलुप्\\u200dत', 'रहस्य', 'विवादको', 'विषय', 'रहेन', 'व्यक्तिगत', 'स्वतन्त्रताको', 'उपयोग', 'सामाजिक', 'उत्तरदायित्वको', 'हेक्का', 'राखिनु', 'पर्दछ', 'भविष्य', 'विकल्प', 'राष्\\u200dट्रवादी', 'प्रजातान्त्रिक', 'विकल्प', 'घोषित', 'लक्ष', 'प्रतिको', 'निष्\\u200dठा', 'प्रतिवद्धताको', 'गहनाले', 'यथास्थिति', 'सीमालाई', 'नाघ्दछ', 'वर्तमान', 'सामाजिक', 'आर्थिक', 'संरचना', 'संस्थाबाट', 'द्रुततर', 'सामग्रिक', 'विकासको', 'आकाङ्क्षा', 'फलीभूत', 'प्रजातान्त्रिक', 'ढङ्गले', 'क्षेत्रमा', 'विकासलाई', 'गति', 'दिने', 'परिवर्तन', 'ल्याउनु', 'पर्दछ', 'प्रजातान्त्रिक', 'जनमञ्चले', 'सामाजिक', 'आर्थिक', 'क्रान्तिको', 'बिगुल', 'फुक्दै', 'आमूल', 'परिवर्तन', 'कारी', 'प्रजातान्त्रिक', 'विकल्पको', 'अवधारणा', 'सारेको', 'स्थापित', 'राजनीतिक', 'शक्तिहरूबाट', 'राष्\\u200dट्रवादी', 'प्रजातान्त्रिक', 'अभिभारा', 'सम्पन्न', 'आशा', 'राख्ने', 'ठाउँ', 'राजाको', 'शक्तिले', 'मुलुकलाई', 'निरङ्कुशतामा', 'जकडेको', 'नभएर', 'आर्थिक', 'सामाजिक', 'रूपमा', 'रसातलमा', 'पुर्\\u200dयाइ', 'दियो', 'राजनीतिक', 'नेतृत्व', 'शक्ति', 'कुलको', 'सार्वकालिक', 'रूपमा', 'सुरक्षित', 'विषय', 'सत्तामा', 'राजनीतिक', 'एकाधिकारको', 'नाम', 'तानाशाही', 'निरङ्कुश', 'तन्त्र', 'जनताको', 'नाममा', 'पार्टी', 'नोकरशाहहरूले', 'प्रजातन्त्रको', 'नाममा', 'सम्भ्रान्तहरूले', 'शासन', 'परिपाटी', 'अभिशापपूर्ण', 'तथ्य', 'सामु', 'छर्लङ्ग', 'सत्तामा', 'राजनीतिक', 'नेतृत्व', 'आवधिक', 'रूपमा', 'जनताको', 'अनुमोदन', 'लिई', 'रहनु', 'पर्दछ', 'प्रतिस्पर्धालाई', 'स्विकार्नु', 'पर्दछ', 'अर्कोतिर', 'सत्ता', 'लिप्साको', 'राष्ट्रिय', 'स्वार्थलाई', 'गौण', 'सौदाबाजीको', 'विषय', 'बनाउने', 'राष्ट्रिय', 'हितको', 'जगेर्ना', 'पराई', 'मुलुकको', 'हितमा', 'वकालत', 'प्रवृत्ति', 'राजनीतिक', 'शक्तिहरूमा', 'छदैछ', 'राजनीतिक', 'नेतृत्वको', 'खाँचो', 'परेको', 'प्रजातान्त्रिक', 'जनमञ्च', 'दिशामा', 'प्रारंभिक', 'पाइलो', 'सवल', 'प्रजातान्त्रिक', 'विकल्प', 'विकासको', 'कृतसङ्कल्पित', 'जातीय', 'भौगोलिक', 'बनोटको', 'हिसाबले', 'देश', 'भिन्नताको', 'मेल', 'बिभिन्न', 'जातजाति', 'भाषाभाषी', 'उनीहरूको', 'आ', 'परम्परा', 'संस्कृतिले', 'नेपाललाई', '\"सयौं', 'फूलहरूको', 'फूलबारी\"', 'बनाइ', 'धर्म', 'भाषा', 'भेष', 'भूषा', 'चाडबाड', 'रीतिरिवाज', 'चलन', 'परम्पराको', 'भिन्नताले', 'जातीय', 'अस्तित्व', 'बोकेको', 'नभएर', 'पारस्परिक', 'समझदारी', 'सदभाव', 'सहिष्णुता', 'एकताको', 'आदर्श', 'भावले', 'साझा', 'राष्ट्रिय', 'संस्कृतिको', 'धरोहर', 'खडा', 'हुँदाहुँदै', 'क्षेत्रमा', 'समस्याहरू', 'शासक', 'वर्गका', 'क्रियाकलापबाट', 'विभिन्न', 'जाती', 'भाषा', 'संस्कृति', 'विभेद', 'सामाजिक', 'विकासका', 'प्रवाहमा', 'कतिपय', 'जातिहरू', 'खास', 'जनजातिहरू', 'परेका', 'असमान', 'जातीय', 'विकासले', 'सृजेका', 'समस्याहरू', 'थाती', 'राखेर', 'उपेक्षा', 'राख्न', 'मिल्दैन', 'जनतामा', 'जातीय', 'भेदभावको', 'बोध', 'विकास', 'थालेपछि', 'भयावह', 'लिन्छ', 'छिमेकी', 'मुलुककै', 'विकासक्रमबाट', 'हेरे', 'प्रष्ट', 'आगामी', 'दिनमा', 'प्राथमिकताका', 'समाधान', 'समस्या', 'सबैले', 'बुझ्नु', 'जरुरी', 'समस्या', 'विद्यमान', 'नाउँमा', 'यसलाई', 'जातीय', 'मेलमिलाप', 'राष्ट्रिय', 'अखण्डतामा', 'खलल', 'पुग्ने', 'साम्प्रदायिकता', 'भडकाउने', 'राष्ट्रिय', 'विघटन', 'कार्यमा', 'सघाउ', 'पुर्\\u200dयाउने', 'कार्य', 'अनुमति', 'हिजोको', 'निरङ्कुश', 'शासनको', 'काढेर', 'बसेकाहरू', 'जातीय', 'हितका', 'इसामसिह', 'खोजेको', 'हरकतलाई', 'खास', 'सम्बन्धित', 'क्षेत्रबाट', 'स्यालको', 'निरर्थक', 'धुर्त्याई', 'बुझ्न', 'बुझाउन', 'जरुरी', 'यसै', 'भौगोलिक', 'बनोटका', 'अतिरिक्त', 'शासक', 'वर्गहरूको', 'असन्तुलित', 'नीति', 'सीमान्त', 'क्षेत्रको', 'शोषणबाट', 'केन्द्र', 'सिंगार्ने', 'नीतिले', 'क्षेत्रीय', 'विकासमा', 'जवर्जस्त', 'असन्तुलन', 'कायम', 'दुर्गम', 'पहाडी', 'क्षेत्र', 'सुदूर', 'पश्चिम', 'इलाका', 'विकास', 'प्रवाहमा', 'समाहित', 'सकेका', 'सिमान्त', 'क्षेत्रको', 'तराई', 'जर्जर', 'उजाड', 'असन्तुलनलाई', 'थेग्न', 'सक्छौँ', 'उप्रान्त', 'विकास', 'सम्बन्धी', 'नीति', 'कार्यक्रम', 'परियोजना', 'तर्जुमा', 'सञ्चालन', 'असन्तुलनलाई', 'नजर', 'राखेर', 'सञ्चालन', 'गरिनु', 'पर्दछ', 'पिछडिएका', 'क्षेत्रमा', 'प्राथमिकता', 'दिनु', 'पर्दछ', 'आदरणीय', 'देशवासीहरू', 'आमा', 'निर्वाचनको', 'नजिकिंदै', 'कम्तीमा', 'राष्ट्रलाई', 'आगामी', 'वर्षका', 'दिशा', 'दिने', 'निर्वाचनबाट', 'गठित', 'संसद', 'सरकारले', 'संसद', 'सरकारको', 'बनोटलाई', 'विद्यमान', 'पार्टी', 'उनीहरूको', 'प्रत्यासीहरूले', 'प्रभावित', 'हुँदा', 'उनीहरूप्रति', 'मोटामोटी', 'रूपमा', 'विचार', 'बनाउनु', 'जरुरी', 'मूलतः', 'निर्वाचनमा', 'राजनीतिक', 'शक्तिहरू', 'क्रियाशील', '\\n', 'राजाको', 'पञ्चायती', 'शक्ति', 'बहुदलीय', 'व्यवस्था', 'पुनर्स्थापनको', 'लगत्तै', 'एकै', 'झण्डा', 'बोकि', 'नाममा', 'खुलेका', 'दुईवटा', 'राष्ट्रिय', 'प्रजातन्त्र', 'पार्टी', 'राजा', 'राजदरबारकै', 'जुम्ल्याहा', 'बच्चा', 'भन्नुमा', 'अत्युक्ति', 'नहोला', 'पञ्चायतको', 'परिवर्तित', 'रूपलाई', 'यिनीहरूले', 'प्रतिनिधित्व', 'गर्दछन्', 'यिनीहरूले', 'विगत', 'वर्षमा', 'कयौं', 'राजाको', 'सकृय', 'नेतृत्वको', 'कसम', 'खाएका', 'राजा', 'त्यसैगरी', 'नाचेका', 'निर्दलीयताको', 'नाममा', 'निर्मन', 'दमनबाट', 'चलेको', 'तानाशाही', 'शासन', 'उनीहरूको', 'पुर्ख्यौली', 'राजनीतिक', 'सम्पत्ति', 'शोषण', 'विहिन्', 'समाज', 'निर्माण', 'नाममा', 'उनीहरूले', 'राष्ट्रको', 'सर्वस्व', 'लुटेका', 'अथाह', 'सम्पाति', 'विदेशमा', 'थुपारेका', 'वर्षको', 'उनीहरूको', 'कुकर्मलाई', 'हेरेर', 'इतिहासले', 'निर्णय', 'त्यसलाई', 'राज्यसत्ता', 'ब्रह्मलुटको', 'सम्पत्तिले', 'उल्ट्\\u200dयाउन', 'उनीहरू', 'भरमग्दुर', 'लागेका', 'इतिहासको', 'पाङ्ग्रालाई', 'धकेल्ने', 'उनीहरूका', 'दुश्\\u200dचेष्\\u200dटा', 'किमार्थ', 'सफल', 'अन्तरिम', 'मन्त्रिमण्डलले', 'जनादेशको', 'शाहसपूर्वक', 'कार्यान्वयन', 'नसकेर', 'उनीहरू', 'छाती', 'खोल्न', 'पाइरहेका', 'इतिहासको', 'निर्णयलाई', 'बदर', 'गराउन', 'खोज्ने', 'शक्तिलाई', 'आगामी', 'निर्वाचनले', 'ङ्याक्नु', 'पर्दछ', 'पुनः', 'तानाशाही', 'शक्ति', 'शिर', 'उठाउने', 'हिम्मत', 'नसकोस्', '\\n.', 'नेपाली', 'काँग्रेस', 'राजाको', 'निरङ्कुशताको', 'रूपमा', 'पञ्चायती', 'व्यवस्थालाई', 'मास्न', 'बहुदलीय', 'व्यवस्थाको', 'स्थापनाको', 'नेपाली', 'काङ्ग्रेसले', 'योगदान', 'सराहनीय', 'पञ्चायत', 'विरोधी', 'आन्दोलनकारी', 'शक्तिहरूसँगको', 'संयुक्त', 'आन्दोलनको', 'विरोध', 'खासगरी', 'दशकमा', 'आएर', 'निरङ्कुश', 'राजतन्त्रसँगको', 'मेलमिलापको', 'नीतिले', 'पञ्चायतको', 'आयु', 'यतिसम्म', 'लामो', 'जन', 'आन्दोलनमा', 'आन्दोलनको', 'उद्\\u200dघोष', 'तालमेल', 'कै', 'हदसम्म', 'संयुक्त', 'आन्दोलनमा', 'आउने', 'निर्णय', 'प्रजातान्त्रिक', 'आन्दोलनको', 'विकासको', 'निर्णायक', 'मोड', 'पुग्यो', 'आन्दोलनको', 'सफलता', 'कम्युनिष्ट', 'राजाको', 'शक्तिलाई', 'साथमा', 'लिएर', 'सत्ता', 'सम्हाले', 'चरित्रगत', 'कारणले', 'राजाको', 'निरङ्कुशतामा', 'हुर्केका', 'राजनीतिक', 'आर्थिक', 'अपराधीहरूलाई', 'कार्यवाही', 'गर्नमा', 'उदासीनता', 'देखाएन', 'जघन्य', 'अपराधीहरूलाई', 'छोड्ने', 'हास्यास्पद', 'सङ्कोच', 'मानेन', 'पार्टीभित्र', 'राष्ट्रियता', 'प्रजातन्त्र', 'विरोधी', 'शक्तिले', 'प्रश्रय', 'पाइरहेका', 'हिजोका', 'वरिष्ठ', 'पञ्चहरूले', 'प्रवेश', 'पाएका', 'प्रबल', 'पार्टी', 'ब्युरोक्रेसी', 'आन्तरिक', 'प्रजातन्त्रको', 'अभावको', 'पार्टीका', 'स्वयम्', 'कार्यकर्ताहरू', 'आवाज', 'उठाइरहेका', '\"चीनसँग', 'मित्रता', 'भारतसँग', 'घनिष्\\u200dटता\"', 'घोषित', 'नीतिको', 'दुष्परिणामहरू', 'प्रकट', 'थालेका', 'सन्धिको', 'अन्यायपूर्ण', 'प्रावधानले', 'राष्ट्रिय', 'स्वार्थ', 'स्वाभीमानलाई', 'किचिरहेको', 'बोझहरू', 'थपिँदै', 'कोशी', 'गण्डकी', 'सम्झौतामा', 'राष्ट्रिय', 'कलङ्क', 'ठगिएको', 'घाउ', 'आलै', 'भारत', 'प्रतिरक्षा', 'अवधारणा', 'मनाउन', 'दवाब', 'दिइरहेको', 'भारतीय', 'एकाधिकार', 'पूँजीको', 'जकडबाट', 'नेपाली', 'अर्थतन्त्र', 'आक्रान्त', 'स्वतन्त्र', 'राष्ट्रिय', 'अर्थतन्त्रको', 'विकासमा', 'खुला', 'सीमाना', 'तगारो', 'सीमाना', 'नियन्त्रण', 'राष्ट्रिय', 'जागरण', 'बेला', 'साझा', 'नदी', 'साझा', 'मुद्रा', 'कुनाबाट', 'साझा', 'सरकारको', 'उठ्नुले', 'मुलुकको', 'राष्\\u200dट्रवादी', 'शक्ति', 'चिन्तित', 'ससङ्कित', 'सजगता', 'देखाउनु', 'स्वाभाविक', 'वर्तमान', 'संविधानमा', 'महत्वपूर्ण', 'सन्धि', 'सम्झौता', 'गरिँदा', 'सदनको', 'तिहाइ', 'बहुमतको', 'अनुमोदन', 'चाहिने', 'प्रावधान', 'ध्येय', 'राष्ट्रिय', 'हितका', 'विषयमा', 'निर्णय', 'लिइँदा', 'राष्ट्रिय', 'सहमति', 'खोज्ने', 'राष्ट्रिय', 'हितलाई', 'पार्टी', 'विशेषको', 'सेन्टिमेन्टले', 'डिक्टेट', 'गरिनु', 'नेपाली', 'काँग्रेसमा', 'वर्तमान', 'सामाजिक', 'आर्थिक', 'संरचनालाई', 'विकास', 'जनताको', 'पक्षमा', 'आमूल', 'परिवर्तन', 'गराउने', 'सङ्कल्प', 'शक्तिको', 'सर्वथा', 'अभाव', 'यथास्थितिलाई', 'कायम', 'राखेर', 'ल्याइने', 'प्रजातान्त्रिक', 'समाजवादको', 'समाजको', 'विपन्न', 'असक्त', 'वर्गले', 'परिवर्तनलाई', 'अनुभव', 'नेपाली', 'काँग्रेसले', 'पूर्ववर्ती', 'शासनका', 'आर्थिक', 'सामाजिक', 'नीतिहरूलाई', 'विरासतमा', 'लिने', 'उनीहरूकै', 'पदचिह्नमा', 'हिँड्ने', 'सङ्केत', 'सकेको', '\\n.', 'कम्युनिष्ट', 'शक्ति', 'नेपालको', 'वर्तमान', 'शक्ति', 'समीकरणमा', 'महत्वपूर्ण', 'शक्ति', 'कम्युनिष्ट', 'शक्ति', 'राष्ट्रियताका', 'सवालमा', 'प्रजातन्त्र', 'स्थापनाको', 'सङ्घर्षमा', 'योगदान', 'सकारात्मक', 'तथ्यलाई', 'इन्कार्न', 'मिल्दैन', 'यसैकारण', 'विश्व', 'कम्युनिष्ट', 'आन्दोलन', 'सङ्कटबाट', 'गुज्रिरहेको', 'कम्युनिष्ट', 'आन्दोलन', 'प्रबल', 'रूपमा', 'हुँदाहुँदै', 'आन्दोलन', 'एकीकृत', 'आन्दोलन', 'विभिन्न', 'धारा', 'चिरामा', 'विभक्त', 'आन्दोलनको', 'विभाजन', 'जनता', 'राष्ट्रका', 'प्रश्\\u200dनमा', 'नेतृत्व', 'तृष्णा', 'विदेशी', 'नक्कल', 'जडसूत्रको', 'अनुसरणमा', 'बेला', 'बखत', 'आन्दोलन', 'उग्र', 'बामपन्थ', 'दक्षिणपन्थको', 'सिकार', 'स्वयम्', 'कम्युनिष्टहरू', 'स्विकार्दछन्', 'यतिमात्र', 'उनीहरू', 'अर्कालाई', 'दक्षिणपन्थी', 'जडसूत्रवादीको', 'आरोप', 'प्रत्यारोप', 'लगाइ', 'सामाजिक', 'अन्याय', 'शोषणको', 'विरुद्धमा', 'आवाज', 'उठाउने', 'आन्दोलनबाट', 'तर्कसङ्गत', 'सामाजिक', 'न्याय', 'समुन्नति', 'स्थापित', 'नेपाली', 'कम्युनिष्टहरूले', 'भरपर्दो', 'कार्यक्रम', 'सकेका', 'नेपाली', 'कम्युनिष्ट', 'आन्दोलन', 'बृहत्तर', 'प्रजातान्त्रिक', 'आन्दोलनको', 'हिस्सा', 'नेपालको', 'भूराजनीतिक', 'यथार्थको', 'नेतृत्व', 'कठोर', 'पार्टी', 'ब्युरोक्रेसी', 'आन्तरिक', 'जनवादको', 'अभाव', 'अनवरत', 'पार्टीसत्ता', 'सङ्घर्ष', 'आन्दोलनका', 'विशेषताहरू', 'खुल्ला', 'समाज', 'बहुदलीय', 'प्रतिस्पर्धात्मक', 'राजनीतिलाई', 'ठाडै', 'घुमाउरो', 'पाराले', 'अस्वीकार', 'सत्तामा', 'कम्युनिष्ट', 'नेतृत्व', 'एकाधिकारको', 'वकालत', 'धारा', 'आन्दोलनभित्र', 'छँदैछ', 'राष्\\u200dट्र', 'जनतासँग', 'जिम्मेवार', 'प्रभावकारी', 'तर्क', 'सङ्गत', 'राष्ट्रिय', 'दिशा', 'निर्क्यौल', 'गर्नमा', 'आन्दोलन', '\"वाल', 'रोग\"', 'सिकार', 'आमनिर्वाचनको', 'सिलसिलामा', '\"एक', 'बाम', 'ठाम\"', 'प्रस्तावलाई', 'कम्युनिष्टहरू', 'बाटै', 'धुजा', 'धुजा', 'पारियो', 'उनीहरूको', 'सत्ता', 'लिप्सा', 'अपरिपक्वता', 'अहम्', 'गैह्र', 'जिम्मेवारीलाई', 'नाप्ने', 'मापदण्ड', 'चाहिन्छ', 'नेपाली', 'इतिहासमा', 'कम्युनिष्टहरू', 'यसपाली', 'सत्तामा', 'अंशियार', 'पुगेका', 'अन्तरिम', 'मन्त्रि', 'मण्डलका', 'सफलता', 'असफलता', 'उनीहरूको', 'वासलात', 'उनीहरू', 'सत्तामा', 'जनताले', 'राष्ट्रिय', 'जीवनको', 'पक्षमा', 'अनुभव', 'पाए', 'इतिहासले', 'मूल्याङ्कन', 'विवश', 'सत्तामा', 'रहेकाहरूले', 'छविलाई', 'विवादास्पद', 'बनाउनबाट', 'जोगाउन', 'सकेनन्', '\\n.', 'जातीय', 'साम्प्रदायिक', 'शक्तिहरू', 'जन', 'आन्दोलन', 'प्रकट', 'रूपमा', 'जातीय', 'साम्प्रदायिक', 'आधारमा', 'सङ्गठित', 'प्रक्रिया', 'देखिएको', 'जातीय', 'साम्प्रदायिक', 'समस्या', 'विद्यमान', 'भन्नु', 'उपयुक्त', 'समाधानको', 'खोजी', 'हित', 'उत्थानको', 'सङ्गठित', 'प्रयास', 'पिछडिएका', 'जातिको', 'उत्थानको', 'नाममा', 'जातीय', 'अन्तर', 'विरोध', 'प्रधान', 'अन्तर', 'विरोध', 'नाममा', 'जाती', 'जाती', 'बीचको', 'जातीय', 'साम्प्रदायिक', 'सद्\\u200cभावलाई', 'बिथोल्ने', 'जातीय', 'साम्प्रदायिक', 'दङ्गा', 'भड्काउने', 'क्रियाकलाप', 'कसैबाट', 'हुनुहुँदैन', 'जातीय', 'साम्प्रदायिक', 'समस्या', 'समाधानको', 'क्षेत्रबाट', 'सङ्घीय', 'राज्य', 'स्वायत्त', 'क्षेत्र', 'परेका', 'जात', 'जनजातिहरूको', 'आरक्षण', 'जातीय', 'समानुपातिक', 'प्रतिनिधित्व', 'सारिएका', 'जातीय', 'भेदभाव', 'पछौटेपनको', 'समाधान', 'प्रजातान्त्रिक', 'प्रक्रियाबाट', 'गरिनु', 'पर्दछ', 'यथार्थभित्र', 'राष्ट्रिय', 'छलफल', 'राष्ट्रिय', 'सहमति', 'निकाल्नु', 'आवश्यक', 'जातीय', 'समस्या', 'प्रतिगामी', 'विदेशी', 'शक्ति', 'घुस्ने', 'सबभन्दा', 'सरल', 'राजमार्ग', 'सम्बन्धित', 'क्षेत्रले', 'बुझ्नु', 'अनिवार्य', 'त्यसलाई', 'बेलैमा', 'निराकरण', 'पाइला', 'चाल्नु', 'पर्दछ', '\\n']\n",
      "Words after stemming\n",
      "['वर्षपछि', 'मुलुक', 'राजा', 'पञ्चायत', 'व्यवस्था', 'अवसान', 'बहुदलीय', 'व्यवस्था', 'उदय', 'सुखद', 'घडी', 'पृष्ठभूमि', 'नेपाली', 'आमा', 'सयौं', 'सपुत', 'प्रजातन्त्र', 'बलिबेदीमा', 'मूल्य', 'जीवन', 'न्यौछावर', 'तपाईँ', 'हाम्रै', 'निरङ्कुश', 'व्यवस्था', 'पोल', 'खोल्', 'जीवन्त', 'साक्षी', 'रूप', 'यातना', 'शिविर', 'फर्क', 'कैयौं', 'अपाङ्ग', 'छ', 'प्रजातान्त्रिक', 'लडाइँ', 'निरन्तरता', 'दि', 'क्रम', 'तपाईँ', 'हाम्रै', 'गाउँघर', 'कैयन्', 'घरबार', 'राजनीतिक', 'कारण', 'बेहाल', 'बनाइएका', 'जनता', 'अनवरत', 'सङ्घर्ष', 'खासगरी', 'अघिल्लो', 'वर्ष', 'राजनीतिक', 'विचारधारा', 'बर्ग', 'धर्म', 'पेसा', 'जात', 'जाति', 'भेदभाव', 'राख्', 'ढिको', 'ढिक', 'नेपाली', 'जनता', 'जुझारू', 'निर्णायक', 'सङ्घर्ष', 'वर्ष', 'एकछत्र', 'रजाइँ', 'दलीय', 'तानाशाही', 'व्यवस्था', 'लत्\\u200cर्याइयो', 'अथाह', 'कष्ट', 'असह्य', 'यातना', 'निर्मम', 'शोषणमाथि', 'बन्', 'निरङ्कुशता', 'महल', 'रह्', 'वर्षपछि', 'नेपाली', 'जनता', 'बहुदलीय', 'प्रतिस्पर्धात्मक', 'वातावरण', 'आम', 'चुनाव', 'पाउ', 'सुखद', 'अवसर', 'प्रजातान्त्रिक', 'जनमञ्च', 'निरङ्कुशता', 'फाल्', 'प्रजातन्त्र', 'ल्याउ', 'सहादत', 'हुनुहुने', 'तमाम', 'शहीद', 'कृतज्ञता', 'पूर्वक', 'श्रद्धाञ्जली', 'अर्पण', 'विजय', 'नेपाली', 'जनता', 'अजेय', 'पौरख', 'अभिव्यक्त', 'समस्त', 'नेपाली', 'जनता', 'हार्दिक', 'अभिवादन', 'लामो', 'प्रजातान्त्रिक', 'सङ्घर्ष', 'सहभागी', 'हुनुहुने', 'तमाम', 'योद्धा', 'धन्यवाद', 'पात्र', 'आन्दोलन', 'विदेश', 'मित्र', 'न्यानो', 'नैतिक', 'समर्थन', 'आन्दोलन', 'सफलता', 'उर्जा', 'गर्\\u200dयो', 'समस्त', 'विदेश', 'मित्र', 'दिशा', 'भूमिका', 'योगदान', 'उच्च', 'मूल्याङ्कन', 'गर्दछौ', 'पवन', 'घडी', 'वहाँ', 'आभार', 'प्रकट', 'गर्दछौँ', 'प्रजातान्त्रिक', 'जनमञ्च', 'नेपाल', 'अहिले', 'बन्', 'राजनीतिक', 'सङ्गठन', 'सबभन्दा', 'कान्छो', 'सङ्गठन', 'गत', 'माघ', 'गते', 'विभिन्न', 'क्षेत्र', 'कार्यरत', 'राजनीतिक', 'व्यक्ति', 'आपस', 'छलफल', 'विचार', 'विनिमय', 'स्वाभाविक', 'निष्कर्ष', 'जनमञ्च', 'राजनीतिक', 'पार्टी', 'रूप', 'विकास', 'नभइसकेको', 'छिटो', 'अवधि', 'जति', 'जन', 'अभिरुचि', 'समर्थन', 'सहभागिता', 'पाउ', 'सक्', 'जनमञ्चको', 'नवीन', 'धारा', 'औचित्य', 'पुष्टि', 'मूल्य', 'चुकाएर', 'प्राप्त', 'प्रजातान्त्रिक', 'उपलब्धि', 'दृढ', 'प्रवर्द्धन', 'हिजोभन्दा', 'सतर्क', 'जिम्मेवारीका', 'लाग्', 'नेपालीहरूको', 'परम', 'दायित्व', 'प्रजातन्त्रअभिव्यक्ति', 'स्वतन्त्रता', 'सङ्गठन', 'अधिकार', 'जनता', 'गुणस्तर', 'सुधार', 'ल्याउ', 'सक्', 'पर्दछ', 'हिजो', 'शासन', 'विकास', 'श्रीलङ्का', 'पुछार', 'छाड्', 'आम', 'गरिब', 'चरम', 'विषमता', 'व्यापक', 'बेरोजगारी', 'विरासत', 'छाड्', 'मुलुक', 'हालत', 'बेवारिसे', 'वालक', 'लथालिङ्ग', 'आर्थिक', 'सामाजिक', 'क्षेत्र', 'प्रजातान्त्रिक', 'पुनर्गठन', 'चुनौतीपूर्ण', 'कार्य', 'जनता', 'आर्थिक', 'सामाजिक', 'जीवन', 'व्यापक', 'सुधार', 'ल्याएर', 'प्रजातन्त्र', 'दृढ', 'दिगो', 'बनाउन', 'सक्', 'साँचो', 'अर्थ', 'प्रजातन्त्र', '\"जनताको', 'जनताद्वारा', 'जनता', 'सरकार\"', 'अनुवाद', 'सक्', 'गरिब', 'राष्ट्रिय', 'स्वाभीमान', 'अस्मिता', 'निर्बल', 'बनाएको', 'छँदैछ', 'त्यसमाथि', 'राष्ट्रियता', 'सम्बन्ध', 'समस्या', 'थाती', 'राख्', 'थुपार्', 'निरन्तर', 'हु', 'आइरहेका', 'अझ', 'प्रजातन्त्र', 'नाम', 'राष्ट्रिय', 'हित', 'किञ्चित्', 'आँच', 'आउ', 'विषय', 'राष्ट्रिय', 'जागरुकता', 'आवश्यक', 'बन्', 'राष्ट्रिय', 'सङ्कल्प', 'साहस', 'विदेशसँगको', 'सम्बन्ध', 'पञ्च', 'सिद्धान्त', 'आधार', 'सुव्यवस्थित', 'पर्दछ', 'भूराजनीतिक', 'अवस्था', 'तर्कसङ्गत', 'लचिलो', 'विदेशनीति', 'अवलम्वन', 'प्रेरित', 'अर्थ', 'स्वतन्त्र', 'राष्ट्रिय', 'व्यक्तित्व', 'विकास', 'आँच', 'पुर्\\u200dयाउने', 'राष्ट्रिय', 'हित', 'बहाना', 'सौदाबाजी', 'हुनुहुँदैन', 'हामी', 'खास', 'चीन', 'भारतसँगको', 'सम्बन्ध', 'सन्तुलित', 'सतर्क', 'ढङ्ग', 'घनिष्ट', 'रूप', 'समान', 'व्यवहार', 'गर्', 'पर्दछ', 'प्रजातन्त्र', 'विकास', 'प्रकृया', 'नितान्त', 'सुषुप्त', 'अवस्था', 'देशवासी', 'मानवजाति', 'अथक', 'सङ्घर्ष', 'सभ्यता', 'सिर्जेका', 'परिष्कृत', 'गर्', 'आधुनिकतम', 'मानव', 'मूल्य', 'अनुसरण', 'सक्षम', 'तुल्याउ', 'पर्दछ', 'व्यक्तिगत', 'स्वतन्त्रता', 'सामाजिक', 'उत्तरदायित्वको', 'आदर्शतम', 'सन्तुलन', 'मानव', 'सभ्यता', 'मानव', 'प्रगति', 'अन्तरलुप्\\u200dत', 'रहस्य', 'विवाद', 'विषय', 'रह्', 'व्यक्तिगत', 'स्वतन्त्रता', 'उपयोग', 'सामाजिक', 'उत्तरदायित्वको', 'हेक्का', 'राख्', 'पर्दछ', 'भविष्य', 'विकल्प', 'राष्\\u200dट्रवादी', 'प्रजातान्त्रिक', 'विकल्प', 'घोषित', 'लक्ष', 'प्रति', 'निष्\\u200dठा', 'प्रतिवद्धता', 'गहना', 'यथास्थिति', 'सीमा', 'नाघ्दछ', 'वर्तमान', 'सामाजिक', 'आर्थिक', 'संरचना', 'संस्था', 'द्रुततर', 'सामग्रिक', 'विकास', 'आकाङ्क्षा', 'फलीभूत', 'प्रजातान्त्रिक', 'ढङ्ग', 'क्षेत्र', 'विकास', 'गति', 'दि', 'परिवर्तन', 'ल्याउ', 'पर्दछ', 'प्रजातान्त्रिक', 'जनमञ्चले', 'सामाजिक', 'आर्थिक', 'क्रान्ति', 'बिगुल', 'फुक्', 'आमूल', 'परिवर्तन', 'कारी', 'प्रजातान्त्रिक', 'विकल्प', 'अवधारणा', 'सार्', 'स्थापित', 'राजनीतिक', 'शक्ति', 'राष्\\u200dट्रवादी', 'प्रजातान्त्रिक', 'अभिभारा', 'सम्पन्न', 'आशा', 'राख्', 'ठाउँ', 'राजा', 'शक्ति', 'मुलुक', 'निरङ्कुशता', 'जकड्', 'हु', 'आर्थिक', 'सामाजिक', 'रूप', 'रसातलमा', 'पुर्\\u200dयाइ', 'दि', 'राजनीतिक', 'नेतृत्व', 'शक्ति', 'कुल', 'सार्वकालिक', 'रूप', 'सुरक्षित', 'विषय', 'सत्ता', 'राजनीतिक', 'एकाधिकारको', 'नाम', 'तानाशाही', 'निरङ्कुश', 'तन्त्र', 'जनता', 'नाम', 'पार्टी', 'नोकरशाह', 'प्रजातन्त्र', 'नाम', 'सम्भ्रान्तहरूले', 'शासन', 'परिपाटी', 'अभिशापपूर्ण', 'तथ्य', 'सामु', 'छर्लङ्ग', 'सत्ता', 'राजनीतिक', 'नेतृत्व', 'आवधिक', 'रूप', 'जनता', 'अनुमोदन', 'ल', 'रह्', 'पर्दछ', 'प्रतिस्पर्धा', 'स्विकार्नु', 'पर्दछ', 'अर्कोतिर', 'सत्ता', 'लिप्स', 'राष्ट्रिय', 'स्वार्थलाई', 'गौण', 'सौदाबाजीको', 'विषय', 'बनाउने', 'राष्ट्रिय', 'हित', 'जगेर्ना', 'पर्', 'मुलुक', 'हित', 'वकालत', 'प्रवृत्ति', 'राजनीतिक', 'शक्ति', 'छदैछ', 'राजनीतिक', 'नेतृत्व', 'खाँचो', 'पर्', 'प्रजातान्त्रिक', 'जनमञ्च', 'दिशा', 'प्रारंभिक', 'पाइलो', 'सवल', 'प्रजातान्त्रिक', 'विकल्प', 'विकास', 'कृतसङ्कल्पित', 'जातीय', 'भौगोलिक', 'बनोटको', 'हिसाब', 'देश', 'भिन्नताको', 'मेल', 'बिभिन्न', 'जातजाति', 'भाषाभाषी', 'उनी', 'आ', 'परम्परा', 'संस्कृति', 'नेपाल', '\"सयौं', 'फूल', 'फूलबारी\"', 'बनाइ', 'धर्म', 'भाषा', 'भेष', 'भूषा', 'चाडबाड', 'रीतिरिवाज', 'चलन', 'परम्परा', 'भिन्नताले', 'जातीय', 'अस्तित्व', 'बोक्', 'हु', 'पारस्परिक', 'समझदारी', 'सदभाव', 'सहिष्णुता', 'एकता', 'आदर्श', 'भाव', 'साझा', 'राष्ट्रिय', 'संस्कृति', 'धरोहर', 'खडा', 'हुँदाहुँदै', 'क्षेत्र', 'समस्या', 'शासक', 'वर्ग', 'क्रियाकलाप', 'विभिन्न', 'जाती', 'भाषा', 'संस्कृति', 'विभेद', 'सामाजिक', 'विकासका', 'प्रवाह', 'कतिपय', 'जाति', 'खास', 'जनजाति', 'पर्', 'असमान', 'जातीय', 'विकास', 'सृजेका', 'समस्या', 'थाती', 'राख्', 'उपेक्षा', 'राख्', 'मिल्', 'जनता', 'जातीय', 'भेदभाव', 'बोध', 'विकास', 'थालेपछि', 'भयावह', 'ल', 'छिमेकी', 'मुलुक', 'विकासक्रम', 'हर्', 'प्रष्ट', 'आगामी', 'दिन', 'प्राथमिकता', 'समाधान', 'समस्या', 'सबै', 'बुझ्', 'जरुरी', 'समस्या', 'विद्यमान', 'नाउँ', 'यस', 'जातीय', 'मेलमिलाप', 'राष्ट्रिय', 'अखण्डता', 'खलल', 'पुग्', 'साम्प्रदायिकता', 'भडकाउने', 'राष्ट्रिय', 'विघटन', 'कार्य', 'सघाउ', 'पुर्\\u200dयाउने', 'कार्य', 'अनुमति', 'हिजो', 'निरङ्कुश', 'शासन', 'काढ्', 'बस्', 'जातीय', 'हित', 'इसामसिह', 'खोज्', 'हरकत', 'खास', 'सम्बन्धित', 'क्षेत्र', 'स्याल', 'निरर्थक', 'धुर्त्याई', 'बुझ्', 'बुझाउन', 'जरुरी', 'यस', 'भौगोलिक', 'बनोटका', 'अतिरिक्त', 'शासक', 'वर्ग', 'असन्तुलित', 'नीति', 'सीमान्त', 'क्षेत्र', 'शोषण', 'केन्द्र', 'सिंगार्ने', 'नीति', 'क्षेत्रीय', 'विकास', 'जवर्जस्त', 'असन्तुलन', 'कायम', 'दुर्गम', 'पहाडी', 'क्षेत्र', 'दूर', 'पश्चिम', 'इलाका', 'विकास', 'प्रवाह', 'समाहित', 'सक्', 'सिमान्त', 'क्षेत्र', 'तराई', 'जर्जर', 'उजाड', 'असन्तुलन', 'थेग्', 'सक्', 'उप्रान्त', 'विकास', 'सम्बन्ध', 'नीति', 'कार्यक्रम', 'परियोजना', 'तर्जुमा', 'सञ्चालन', 'असन्तुलन', 'नजर', 'राख्', 'सञ्चालन', 'गर्', 'पर्दछ', 'पिछडिएका', 'क्षेत्र', 'प्राथमिकता', 'दि', 'पर्दछ', 'आदरणीय', 'देशवासी', 'आमा', 'निर्वाचन', 'नजिकिंदै', 'कम्ती', 'राष्ट्र', 'आगामी', 'वर्ष', 'दिशा', 'दि', 'निर्वाचन', 'गठित', 'संसद', 'सरकार', 'संसद', 'सरकार', 'बनोटलाई', 'विद्यमान', 'पार्टी', 'उनी', 'प्रत्यासीहरूले', 'प्रभावित', 'हु', 'उनीहरूप्रति', 'मोटामोटी', 'रूप', 'विचार', 'बनाउनु', 'जरुरी', 'मूलतः', 'निर्वाचन', 'राजनीतिक', 'शक्ति', 'क्रिया', '\\n', 'राजा', 'पञ्चायत', 'शक्ति', 'बहुदलीय', 'व्यवस्था', 'पुनर्स्थापनको', 'लगत्तै', 'ए', 'झण्डा', 'बोक्', 'नाम', 'खुल्', 'दुईवटा', 'राष्ट्रिय', 'प्रजातन्त्र', 'पार्टी', 'राजा', 'राजदरबार', 'जुम्ल्याहा', 'बच्चा', 'भन्', 'अत्युक्ति', 'हो', 'पञ्चायत', 'परिवर्तित', 'रूप', 'यिनी', 'प्रतिनिधित्व', 'गर्दछन्', 'यिनी', 'विगत', 'वर्ष', 'कयौं', 'राजा', 'सकृय', 'नेतृत्व', 'कसम', 'खाएका', 'राजा', 'त्यसैगरी', 'नाच्', 'निर्दलीयता', 'नाम', 'निर्मन', 'दमन', 'चल्', 'तानाशाही', 'शासन', 'उनी', 'पुर्ख्यौली', 'राजनीतिक', 'सम्पत्ति', 'शोषण', 'विहिन्', 'समाज', 'निर्माण', 'नाम', 'उनी', 'राष्ट्र', 'सर्वस्व', 'लुट्', 'अथाह', 'सम्पाति', 'विदेश', 'थुपार्', 'वर्ष', 'उनी', 'कुकर्म', 'हेरेर', 'इतिहास', 'निर्णय', 'त्यस', 'राज्यसत्ता', 'ब्रह्मलुटको', 'सम्पत्ति', 'उल्ट्\\u200dयाउ', 'उनी', 'भरमग्दुर', 'लाग्', 'इतिहास', 'पाङ्ग्रा', 'धकेल्', 'उनी', 'दुश्\\u200dचेष्\\u200dटा', 'किमार्थ', 'सफल', 'अन्तरिम', 'मन्त्रिमण्डल', 'जनादेश', 'शाहसपूर्वक', 'कार्यान्वयन', 'सक्', 'उनी', 'छाती', 'खोल्', 'पाइरहेका', 'इतिहास', 'निर्णय', 'बदर', 'गराउन', 'खोज्', 'शक्ति', 'आगामी', 'निर्वाचन', 'ङ्याक्', 'पर्दछ', 'पुनः', 'तानाशाही', 'शक्ति', 'शिर', 'उठाउ', 'हिम्मत', 'सक्', '\\n.', 'नेपाली', 'काँग्रेस', 'राजा', 'निरङ्कुशता', 'रूप', 'पञ्चायत', 'व्यवस्था', 'मास्', 'बहुदलीय', 'व्यवस्था', 'स्थापना', 'नेपाली', 'काङ्ग्रेस', 'योगदान', 'सराहनीय', 'पञ्चायत', 'विरोध', 'आन्दोलनकारी', 'शक्तिहरूसँगको', 'संयुक्त', 'आन्दोलन', 'विरोध', 'खासगरी', 'दशकमा', 'आएर', 'निरङ्कुश', 'राजतन्त्रसँगको', 'मेलमिलाप', 'नीति', 'पञ्चायत', 'आयु', 'यति', 'लामो', 'जन', 'आन्दोलन', 'आन्दोलन', 'उद्\\u200dघोष', 'तालमेल', 'कै', 'हद', 'संयुक्त', 'आन्दोलन', 'आउ', 'निर्णय', 'प्रजातान्त्रिक', 'आन्दोलन', 'विकास', 'निर्णायक', 'मोड', 'पुग्', 'आन्दोलन', 'सफलता', 'कम्युनिष्ट', 'राजा', 'शक्ति', 'साथ', 'ल', 'सत्ता', 'सम्हाले', 'चरित्रगत', 'कारण', 'राजा', 'निरङ्कुशता', 'हुर्क', 'राजनीतिक', 'आर्थिक', 'अपराधी', 'कार्यवाही', 'गर्', 'उदासीनता', 'देखाउ', 'जघन्य', 'अपराधी', 'छोड्', 'हास्यास्पद', 'सङ्कोच', 'मानेन', 'पार्टीभित्र', 'राष्ट्रियता', 'प्रजातन्त्र', 'विरोध', 'शक्ति', 'प्रश्रय', 'पाइरहेका', 'हिजो', 'वरिष्ठ', 'पञ्च', 'प्रवेश', 'पाउ', 'प्रबल', 'पार्टी', 'ब्युरोक्रेसी', 'आन्तरिक', 'प्रजातन्त्र', 'अभाव', 'पार्टी', 'स्वयम्', 'कार्यकर्ता', 'आवाज', 'उठाइरहेका', '\"चीनसँग', 'मित्रता', 'भारतसँग', 'घनिष्\\u200dटता\"', 'घोषित', 'नीति', 'दुष्परिणामहरू', 'प्रकट', 'थाल्', 'सन्धि', 'अन्यायपूर्ण', 'प्रावधान', 'राष्ट्रिय', 'स्वार्थ', 'स्वाभीमानलाई', 'किचिरहेको', 'बोझ', 'थप्', 'कोशी', 'गण्डकी', 'सम्झौता', 'राष्ट्रिय', 'कलङ्क', 'ठग्', 'घाउ', 'आलै', 'भारत', 'प्रतिरक्षा', 'अवधारणा', 'माउ', 'दवाब', 'दिइरहेको', 'भारतीय', 'एकाधिकार', 'पूँजी', 'जकड्', 'नेपाली', 'अर्थतन्त्र', 'आक्रान्त', 'स्वतन्त्र', 'राष्ट्रिय', 'अर्थतन्त्र', 'विकास', 'खुला', 'सीमाना', 'तगारो', 'सीमाना', 'नियन्त्रण', 'राष्ट्रिय', 'जागरण', 'बेला', 'साझा', 'नदी', 'साझा', 'मुद्रा', 'कुना', 'साझा', 'सरकार', 'उठ्', 'मुलुक', 'राष्\\u200dट्रवादी', 'शक्ति', 'चिन्तित', 'ससङ्कित', 'सजगता', 'देखाउ', 'स्वाभाविक', 'वर्तमान', 'संविधान', 'महत्वपूर्ण', 'सन्धि', 'सम्झौता', 'गर्', 'सदन', 'तिहाइ', 'बहुमत', 'अनुमोदन', 'चाह', 'प्रावधान', 'ध्येय', 'राष्ट्रिय', 'हित', 'विषय', 'निर्णय', 'लिइँदा', 'राष्ट्रिय', 'सहमति', 'खोज्', 'राष्ट्रिय', 'हित', 'पार्टी', 'विशेष', 'सेन्टिमेन्टले', 'डिक्टेट', 'गर्', 'नेपाली', 'काँग्रेस', 'वर्तमान', 'सामाजिक', 'आर्थिक', 'संरचना', 'विकास', 'जनता', 'पक्ष', 'आमूल', 'परिवर्तन', 'गराउने', 'सङ्कल्प', 'शक्ति', 'सर्वथा', 'अभाव', 'यथास्थितिलाई', 'कायम', 'राख्', 'ल्याउ', 'प्रजातान्त्रिक', 'समाजवाद', 'समाज', 'विपन्न', 'असक्त', 'वर्ग', 'परिवर्तन', 'अनुभव', 'नेपाली', 'काँग्रेस', 'पूर्ववर्ती', 'शासन', 'आर्थिक', 'सामाजिक', 'नीति', 'विरासत', 'ल', 'उनी', 'पदचिह्नमा', 'हिँड्', 'सङ्केत', 'सक्', '\\n.', 'कम्युनिष्ट', 'शक्ति', 'नेपाल', 'वर्तमान', 'शक्ति', 'समीकरण', 'महत्वपूर्ण', 'शक्ति', 'कम्युनिष्ट', 'शक्ति', 'राष्ट्रियता', 'सवाल', 'प्रजातन्त्र', 'स्थापना', 'सङ्घर्ष', 'योगदान', 'सकारात्मक', 'तथ्य', 'इन्कार्न', 'मिल्', 'यसैकारण', 'विश्व', 'कम्युनिष्ट', 'आन्दोलन', 'सङ्कट', 'गुज्रिरहेको', 'कम्युनिष्ट', 'आन्दोलन', 'प्रबल', 'रूप', 'हुँदाहुँदै', 'आन्दोलन', 'एकीकृत', 'आन्दोलन', 'विभिन्न', 'धारा', 'चिरा', 'विभक्त', 'आन्दोलन', 'विभाजन', 'जनता', 'राष्ट्र', 'प्रश्\\u200dन', 'नेतृत्व', 'तृष्णा', 'विदेश', 'नक्कल', 'जडसूत्रको', 'अनुसरण', 'बेला', 'बखत', 'आन्दोलन', 'उग्र', 'बामपन्थ', 'दक्षिणपन्थको', 'सिकार', 'स्वयम्', 'कम्युनिष्टहरू', 'स्विकार्दछन्', 'यति', 'उनी', 'अर्का', 'दक्षिणपन्थी', 'जडसूत्रवादीको', 'आरोप', 'प्रत्यारोप', 'लगाइ', 'सामाजिक', 'अन्याय', 'शोषण', 'विरुद्ध', 'आवाज', 'उठाउ', 'आन्दोलन', 'तर्कसङ्गत', 'सामाजिक', 'न्याय', 'समुन्नति', 'स्थापित', 'नेपाली', 'कम्युनिष्टहरूले', 'भरपर्दो', 'कार्यक्रम', 'सक्', 'नेपाली', 'कम्युनिष्ट', 'आन्दोलन', 'बृहत्तर', 'प्रजातान्त्रिक', 'आन्दोलन', 'हिस्सा', 'नेपाल', 'भूराजनीतिक', 'यथार्थ', 'नेतृत्व', 'कठोर', 'पार्टी', 'ब्युरोक्रेसी', 'आन्तरिक', 'जनवाद', 'अभाव', 'अनवरत', 'पार्टीसत्ता', 'सङ्घर्ष', 'आन्दोलन', 'विशेषता', 'खुल्', 'समाज', 'बहुदलीय', 'प्रतिस्पर्धात्मक', 'राजनीति', 'ठाडै', 'घुमाउरो', 'पारा', 'स्वीकार', 'सत्ता', 'कम्युनिष्ट', 'नेतृत्व', 'एकाधिकारको', 'वकालत', 'धारा', 'आन्दोलनभित्र', 'छँदैछ', 'राष्\\u200dट्र', 'जनतासँग', 'जिम्मेवार', 'प्रभावकारी', 'तर्क', 'सङ्गत', 'राष्ट्रिय', 'दिशा', 'निर्क्यौल', 'गर्', 'आन्दोलन', '\"वाल', 'रोग\"', 'सिकार', 'आमनिर्वाचन', 'सिलसिला', '\"एक', 'बाम', 'ठाम\"', 'प्रस्ताव', 'कम्युनिष्टहरू', 'बाटै', 'धुजा', 'धुजा', 'पारि', 'उनी', 'सत्ता', 'लिप्स', 'अपरिपक्वता', 'अहम्', 'गैह्र', 'जिम्मेवारीलाई', 'नाप्', 'मापदण्ड', 'चाह', 'नेपाली', 'इतिहास', 'कम्युनिष्टहरू', 'यसपाली', 'सत्ता', 'अंशियार', 'पुग्', 'अन्तरिम', 'मन्त्र', 'मण्डल', 'सफलता', 'असफलता', 'उनी', 'वासलात', 'उनी', 'सत्ता', 'जनता', 'राष्ट्रिय', 'जीवन', 'पक्ष', 'अनुभव', 'पाउ', 'इतिहास', 'मूल्याङ्कन', 'विवश', 'सत्ता', 'रह्', 'छवि', 'विवादास्पद', 'बनाउनबाट', 'जोगाउन', 'सक्', '\\n.', 'जातीय', 'साम्प्रदायिक', 'शक्ति', 'जन', 'आन्दोलन', 'प्रकट', 'रूप', 'जातीय', 'साम्प्रदायिक', 'आधार', 'सङ्गठित', 'प्रक्रिया', 'देख्', 'जातीय', 'साम्प्रदायिक', 'समस्या', 'विद्यमान', 'भन्', 'उपयुक्त', 'समाधान', 'खोजी', 'हित', 'उत्थान', 'सङ्गठित', 'प्रयास', 'पिछडिएका', 'जाति', 'उत्थान', 'नाम', 'जातीय', 'अन्तर', 'विरोध', 'प्रधान', 'अन्तर', 'विरोध', 'नाम', 'जाती', 'जाती', 'बीच', 'जातीय', 'साम्प्रदायिक', 'सद्\\u200cभाव', 'बिथोल्', 'जातीय', 'साम्प्रदायिक', 'दङ्गा', 'भड्काउ', 'क्रियाकलाप', 'कसै', 'हुनुहुँदैन', 'जातीय', 'साम्प्रदायिक', 'समस्या', 'समाधान', 'क्षेत्र', 'सङ्घीय', 'राज्य', 'स्वायत्त', 'क्षेत्र', 'पर्', 'जात', 'जनजाति', 'आरक्षण', 'जातीय', 'समानुपातिक', 'प्रतिनिधित्व', 'सार्', 'जातीय', 'भेदभाव', 'पछौटेपनको', 'समाधान', 'प्रजातान्त्रिक', 'प्रक्रिया', 'गर्', 'पर्दछ', 'यथार्थभित्र', 'राष्ट्रिय', 'छलफल', 'राष्ट्रिय', 'सहमति', 'निकाल्', 'आवश्यक', 'जातीय', 'समस्या', 'प्रतिगामी', 'विदेश', 'शक्ति', 'घुस्', 'सबभन्दा', 'सरल', 'राजमार्ग', 'सम्बन्धित', 'क्षेत्र', 'बुझ्', 'अनिवार्य', 'त्यस', 'बेल्', 'निराकरण', 'पाइला', 'चाल्', 'पर्दछ', '\\n']\n"
     ]
    }
   ],
   "source": [
    "tokens3=preprocess(eg3)"
   ]
  },
  {
   "cell_type": "code",
   "execution_count": 55,
   "metadata": {},
   "outputs": [
    {
     "data": {
      "text/plain": [
       "['वर्षपछि',\n",
       " 'मुलुक',\n",
       " 'राजा',\n",
       " 'पञ्चायत',\n",
       " 'व्यवस्था',\n",
       " 'अवसान',\n",
       " 'बहुदलीय',\n",
       " 'व्यवस्था',\n",
       " 'उदय',\n",
       " 'सुखद',\n",
       " 'घडी',\n",
       " 'पृष्ठभूमि',\n",
       " 'नेपाली',\n",
       " 'आमा',\n",
       " 'सयौं']"
      ]
     },
     "execution_count": 55,
     "metadata": {},
     "output_type": "execute_result"
    }
   ],
   "source": [
    "tokens3[:15]"
   ]
  },
  {
   "cell_type": "markdown",
   "metadata": {},
   "source": [
    "# B. Feature Vector Construction"
   ]
  },
  {
   "cell_type": "markdown",
   "metadata": {},
   "source": [
    "### Calculating tf-idf (Term frequency-inverse document frequency)"
   ]
  },
  {
   "cell_type": "markdown",
   "metadata": {},
   "source": [
    "The tf-idf weight is composed by two terms:\n",
    "1. Normalized Term Frequency (tf)\n",
    "2. Inverse Document Frequency (idf)"
   ]
  },
  {
   "cell_type": "markdown",
   "metadata": {},
   "source": [
    "### Step 1: Computing the Term Frequency(tf)"
   ]
  },
  {
   "cell_type": "code",
   "execution_count": 56,
   "metadata": {},
   "outputs": [],
   "source": [
    "def calculate_TF_Dict(doc): \n",
    "    \"\"\" Returns a tf dictionary for each doc whose keys are all \n",
    "    the unique words in the review and whose values are their \n",
    "    corresponding tf.\n",
    "    \"\"\"\n",
    "    TF_Dict = {}\n",
    "    \n",
    "    # Total number of terms in the document \n",
    "    len_of_document = float(len(doc)) \n",
    "    \n",
    "    for word in doc:\n",
    "        \n",
    "        # Number of times the term occurs in the document \n",
    "        term_in_document = doc.count(word) \n",
    "        \n",
    "        #Computes tf for each word           \n",
    "        TF_Dict[word] = term_in_document / len_of_document \n",
    "\n",
    "  \n",
    "    return TF_Dict\n"
   ]
  },
  {
   "cell_type": "code",
   "execution_count": 57,
   "metadata": {},
   "outputs": [
    {
     "data": {
      "text/plain": [
       "[['परिश्रम',\n",
       "  'नगर',\n",
       "  'परिश्रम',\n",
       "  'सफलता',\n",
       "  'एक',\n",
       "  'नगर',\n",
       "  'परिश्रम',\n",
       "  'उही',\n",
       "  'सफल',\n",
       "  'परिश्रम',\n",
       "  'गर्',\n",
       "  'नगर'],\n",
       " ['परिश्रम',\n",
       "  'नगर',\n",
       "  'परिश्रम',\n",
       "  'सफलता',\n",
       "  'परिश्रम',\n",
       "  'उही',\n",
       "  'सफल',\n",
       "  'परिश्रम',\n",
       "  'गर्',\n",
       "  'नगर']]"
      ]
     },
     "execution_count": 57,
     "metadata": {},
     "output_type": "execute_result"
    }
   ],
   "source": [
    "Docs=[tokens1,tokens2]\n",
    "Docs"
   ]
  },
  {
   "cell_type": "code",
   "execution_count": 58,
   "metadata": {},
   "outputs": [
    {
     "data": {
      "text/plain": [
       "[{'परिश्रम': 0.3333333333333333,\n",
       "  'नगर': 0.25,\n",
       "  'सफलता': 0.08333333333333333,\n",
       "  'एक': 0.08333333333333333,\n",
       "  'उही': 0.08333333333333333,\n",
       "  'सफल': 0.08333333333333333,\n",
       "  'गर्': 0.08333333333333333},\n",
       " {'परिश्रम': 0.4,\n",
       "  'नगर': 0.2,\n",
       "  'सफलता': 0.1,\n",
       "  'उही': 0.1,\n",
       "  'सफल': 0.1,\n",
       "  'गर्': 0.1}]"
      ]
     },
     "execution_count": 58,
     "metadata": {},
     "output_type": "execute_result"
    }
   ],
   "source": [
    "TF_Dict = [calculate_TF_Dict(doc) for doc in Docs]\n",
    "TF_Dict"
   ]
  },
  {
   "cell_type": "markdown",
   "metadata": {},
   "source": [
    "### Step 2: Compute the Inverse Document Frequency – idf"
   ]
  },
  {
   "cell_type": "code",
   "execution_count": 59,
   "metadata": {},
   "outputs": [
    {
     "data": {
      "text/plain": [
       "['उही', 'एक', 'गर्', 'नगर', 'परिश्रम', 'सफल', 'सफलता']"
      ]
     },
     "execution_count": 59,
     "metadata": {},
     "output_type": "execute_result"
    }
   ],
   "source": [
    "vocabulary=sorted(set(tokens1+tokens2))\n",
    "vocabulary"
   ]
  },
  {
   "cell_type": "code",
   "execution_count": 60,
   "metadata": {},
   "outputs": [],
   "source": [
    "import math\n",
    "def calculate_IDF_Dict():\n",
    "    \"\"\" Returns a dictionary whose keys are all the unique words in the\n",
    "    dataset and whose values are their corresponding idf.\n",
    "    \"\"\"\n",
    "    countDict = {}\n",
    "    for word in vocabulary:\n",
    "        countDict[word]=0\n",
    "    # Run through each doc's tf dictionary and increment countDict's (word, doc) pair\n",
    "    for word in vocabulary:\n",
    "        for doc in range(len(Docs)):\n",
    "            if word in Docs[doc]:\n",
    "                countDict[word]+=1\n",
    "    \n",
    "        \n",
    "    #Stores the doc count dictionary\n",
    "    IDF_Dict = {}\n",
    "    total_num_docs = len(Docs)  \n",
    "    for word in countDict:\n",
    "        IDF_Dict[word] = 1+math.log(float(total_num_docs) /countDict[word])\n",
    "    return IDF_Dict\n",
    "  "
   ]
  },
  {
   "cell_type": "code",
   "execution_count": null,
   "metadata": {},
   "outputs": [],
   "source": []
  },
  {
   "cell_type": "code",
   "execution_count": 61,
   "metadata": {},
   "outputs": [
    {
     "data": {
      "text/plain": [
       "{'उही': 1.0,\n",
       " 'एक': 1.6931471805599454,\n",
       " 'गर्': 1.0,\n",
       " 'नगर': 1.0,\n",
       " 'परिश्रम': 1.0,\n",
       " 'सफल': 1.0,\n",
       " 'सफलता': 1.0}"
      ]
     },
     "execution_count": 61,
     "metadata": {},
     "output_type": "execute_result"
    }
   ],
   "source": [
    "IDF_Dict=calculate_IDF_Dict()\n",
    "IDF_Dict"
   ]
  },
  {
   "cell_type": "markdown",
   "metadata": {},
   "source": [
    "### Step 3: Computing the TF-IDF"
   ]
  },
  {
   "cell_type": "code",
   "execution_count": 62,
   "metadata": {},
   "outputs": [],
   "source": [
    "def calculate_TFIDF_Dict(TF_Dict,IDF_Dict):\n",
    "    \"\"\" Returns a dictionary whose keys are all the unique words in the\n",
    "    review and whose values are their corresponding tfidf.\n",
    "    \"\"\"\n",
    "    TFIDF_Dict = {}\n",
    "    #For each word in the review, we multiply its tf and its idf.\n",
    "    for word in TF_Dict:\n",
    "        TFIDF_Dict[word] = TF_Dict[word] * IDF_Dict[word]\n",
    "    return TFIDF_Dict"
   ]
  },
  {
   "cell_type": "code",
   "execution_count": 63,
   "metadata": {},
   "outputs": [
    {
     "data": {
      "text/plain": [
       "[{'परिश्रम': 0.3333333333333333,\n",
       "  'नगर': 0.25,\n",
       "  'सफलता': 0.08333333333333333,\n",
       "  'एक': 0.14109559837999544,\n",
       "  'उही': 0.08333333333333333,\n",
       "  'सफल': 0.08333333333333333,\n",
       "  'गर्': 0.08333333333333333},\n",
       " {'परिश्रम': 0.4,\n",
       "  'नगर': 0.2,\n",
       "  'सफलता': 0.1,\n",
       "  'उही': 0.1,\n",
       "  'सफल': 0.1,\n",
       "  'गर्': 0.1}]"
      ]
     },
     "execution_count": 63,
     "metadata": {},
     "output_type": "execute_result"
    }
   ],
   "source": [
    "#Stores the TF-IDF dictionaries\n",
    "TFIDF_Dict = [calculate_TFIDF_Dict(doc,IDF_Dict) for doc in TF_Dict]\n",
    "TFIDF_Dict"
   ]
  },
  {
   "cell_type": "markdown",
   "metadata": {},
   "source": [
    "### Step 4 Constructing A Vector"
   ]
  },
  {
   "cell_type": "code",
   "execution_count": 64,
   "metadata": {},
   "outputs": [
    {
     "data": {
      "text/plain": [
       "['उही', 'एक', 'गर्', 'नगर', 'परिश्रम', 'सफल', 'सफलता']"
      ]
     },
     "execution_count": 64,
     "metadata": {},
     "output_type": "execute_result"
    }
   ],
   "source": [
    "# Create a list of unique words\n",
    "vocabulary"
   ]
  },
  {
   "cell_type": "code",
   "execution_count": 65,
   "metadata": {},
   "outputs": [],
   "source": [
    "\n",
    "def calculate_TFIDF_Vector(doc):\n",
    "    TFIDF_Vector = [0.0] * len(vocabulary)\n",
    "    # For each unique word, if it is in the doc, store its TF-IDF value.\n",
    "    for i, word in enumerate(vocabulary):\n",
    "          if word in doc:\n",
    "                TFIDF_Vector[i] = doc[word]\n",
    "                \n",
    "    return TFIDF_Vector\n",
    "\n"
   ]
  },
  {
   "cell_type": "code",
   "execution_count": 66,
   "metadata": {},
   "outputs": [],
   "source": [
    "TFIDF_Vector = [calculate_TFIDF_Vector(doc) for doc in TFIDF_Dict]"
   ]
  },
  {
   "cell_type": "code",
   "execution_count": 67,
   "metadata": {},
   "outputs": [
    {
     "data": {
      "text/plain": [
       "[0.08333333333333333,\n",
       " 0.14109559837999544,\n",
       " 0.08333333333333333,\n",
       " 0.25,\n",
       " 0.3333333333333333,\n",
       " 0.08333333333333333,\n",
       " 0.08333333333333333]"
      ]
     },
     "execution_count": 67,
     "metadata": {},
     "output_type": "execute_result"
    }
   ],
   "source": [
    "TFIDF_Vector[0]"
   ]
  },
  {
   "cell_type": "code",
   "execution_count": 68,
   "metadata": {},
   "outputs": [
    {
     "data": {
      "text/plain": [
       "[0.1, 0.0, 0.1, 0.2, 0.4, 0.1, 0.1]"
      ]
     },
     "execution_count": 68,
     "metadata": {},
     "output_type": "execute_result"
    }
   ],
   "source": [
    "TFIDF_Vector[1]"
   ]
  },
  {
   "cell_type": "markdown",
   "metadata": {},
   "source": [
    "### Creating a function to combine these steps"
   ]
  },
  {
   "cell_type": "code",
   "execution_count": 69,
   "metadata": {},
   "outputs": [],
   "source": [
    "def create_vector():\n",
    "    TF_Dict = [calculate_TF_Dict(doc) for doc in Docs]\n",
    "    IDF_Dict=calculate_IDF_Dict()\n",
    "    TFIDF_Dict = [calculate_TFIDF_Dict(doc,IDF_Dict) for doc in TF_Dict]\n",
    "    TFIDF_Vector = [calculate_TFIDF_Vector(doc) for doc in TFIDF_Dict]\n",
    "    return TFIDF_Vector\n",
    "\n",
    "\n",
    "\n",
    "\n",
    "    "
   ]
  },
  {
   "cell_type": "code",
   "execution_count": 70,
   "metadata": {},
   "outputs": [
    {
     "data": {
      "text/plain": [
       "[[0.08333333333333333,\n",
       "  0.14109559837999544,\n",
       "  0.08333333333333333,\n",
       "  0.25,\n",
       "  0.3333333333333333,\n",
       "  0.08333333333333333,\n",
       "  0.08333333333333333],\n",
       " [0.1, 0.0, 0.1, 0.2, 0.4, 0.1, 0.1]]"
      ]
     },
     "execution_count": 70,
     "metadata": {},
     "output_type": "execute_result"
    }
   ],
   "source": [
    "vocabulary=sorted(set(tokens1+tokens2))\n",
    "Docs=[tokens1,tokens2]\n",
    "TFIDF_Vector=create_vector()\n",
    "TFIDF_Vector"
   ]
  },
  {
   "cell_type": "markdown",
   "metadata": {},
   "source": [
    "# C. Measuring Similarity"
   ]
  },
  {
   "cell_type": "markdown",
   "metadata": {},
   "source": [
    "### Jacard Similairty"
   ]
  },
  {
   "cell_type": "code",
   "execution_count": 71,
   "metadata": {},
   "outputs": [],
   "source": [
    "def get_jaccard_sim(token1, token2): \n",
    "    a = set(token1)\n",
    "    b = set(token2)\n",
    "    c = a.intersection(b)\n",
    "    return float(len(c)) / (len(a) + len(b) - len(c))"
   ]
  },
  {
   "cell_type": "code",
   "execution_count": 72,
   "metadata": {},
   "outputs": [
    {
     "data": {
      "text/plain": [
       "0.8571428571428571"
      ]
     },
     "execution_count": 72,
     "metadata": {},
     "output_type": "execute_result"
    }
   ],
   "source": [
    "get_jaccard_sim(tokens1,tokens2)"
   ]
  },
  {
   "cell_type": "markdown",
   "metadata": {},
   "source": [
    "### Cosine Similairty"
   ]
  },
  {
   "cell_type": "code",
   "execution_count": 73,
   "metadata": {},
   "outputs": [],
   "source": [
    "import numpy as np\n",
    "def get_cosine_sim(a,b):\n",
    "    a = np.array(a)\n",
    "    b = np.array(b)\n",
    "    dot = np.dot(a, b)\n",
    "    norma = np.linalg.norm(a)\n",
    "    normb = np.linalg.norm(b)\n",
    "    cos = dot / (norma * normb)\n",
    "    return cos"
   ]
  },
  {
   "cell_type": "code",
   "execution_count": 74,
   "metadata": {},
   "outputs": [
    {
     "data": {
      "text/plain": [
       "0.9401536974201683"
      ]
     },
     "execution_count": 74,
     "metadata": {},
     "output_type": "execute_result"
    }
   ],
   "source": [
    "get_cosine_sim(TFIDF_Vector[0],TFIDF_Vector[1])"
   ]
  },
  {
   "cell_type": "code",
   "execution_count": null,
   "metadata": {},
   "outputs": [],
   "source": []
  },
  {
   "cell_type": "code",
   "execution_count": null,
   "metadata": {},
   "outputs": [],
   "source": []
  }
 ],
 "metadata": {
  "kernelspec": {
   "display_name": "Python 3",
   "language": "python",
   "name": "python3"
  },
  "language_info": {
   "codemirror_mode": {
    "name": "ipython",
    "version": 3
   },
   "file_extension": ".py",
   "mimetype": "text/x-python",
   "name": "python",
   "nbconvert_exporter": "python",
   "pygments_lexer": "ipython3",
   "version": "3.6.0"
  }
 },
 "nbformat": 4,
 "nbformat_minor": 2
}
